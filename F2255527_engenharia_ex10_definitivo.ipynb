{
  "metadata": {
    "kernelspec": {
      "name": "python",
      "display_name": "Python (Pyodide)",
      "language": "python"
    },
    "language_info": {
      "codemirror_mode": {
        "name": "python",
        "version": 3
      },
      "file_extension": ".py",
      "mimetype": "text/x-python",
      "name": "python",
      "nbconvert_exporter": "python",
      "pygments_lexer": "ipython3",
      "version": "3.8"
    }
  },
  "nbformat_minor": 5,
  "nbformat": 4,
  "cells": [
    {
      "id": "12c66376-3398-4026-a393-14779d9808bd",
      "cell_type": "markdown",
      "source": "# Identificação do participante\n\nPreencha a célula abaixo com sua matrícula no formato F + 7 algarismos, sem dígito verificador.\n\nExemplo:\n\n    chaveF = \"F1234567\"",
      "metadata": {}
    },
    {
      "id": "b08cd02a-a955-46a3-ba14-3022c52f5db5",
      "cell_type": "code",
      "source": "chaveF = \"F2255527\"",
      "metadata": {
        "tags": [],
        "trusted": true
      },
      "outputs": [],
      "execution_count": 189
    },
    {
      "id": "cb711518-fbff-4a4d-97db-9379e9a80acf",
      "cell_type": "markdown",
      "source": "# Desafio Engenharia de Dados\n\nA Dipes precisa fazer o acompanhamento do cumprimento dos indicadores de algumas Unidades Estratégicas e solicitou à UAN o desenvolvimento de um dashboard. Os colegas da equipe de Dataviz identificaram a necessidade de <b>disponibilização de algumas bases de dados</b> para desenvolvimento do dashboard, principalmente para o acompanhamento das <b>Trilhas de Capacitação</b> das Unidades Estratégicas:\n\n|PREFIXO|SIGLA|\n|---|---|\n|8008|DIREC|\n|8556|DICRE|\n|8559|DIPES|\n|8593|DIGOV|\n|9797|UCI|\n|9880|DIMEP|\n|9968|UAN|\n|9973|DIEMP|\n\nA equipe de Engenharia de Dados foi então acionada para preparação das bases de dados conforme abaixo detalhado.\n\n<b>Dados essenciais:</b>\n- acompanhamento do cumprimento do indicador de capacitação por matrícula dos funcionários das Diretorias alvo da análise\n- acompanhamento do cumprimento por UOR das Unidades Estratégicas, contendo a Vice-Presidência jurisdicionante\n\nAlém disso, a equipe de Dataviz solicitou que a equipe de engenharia reunisse algumas informações úteis para análise e levantamento de insights, tais como:\n- dados de função, escolaridade, idade, tempo de banco e estado civil de cada funcionário das dependências citadas.\n- detalhamentos sobre a área dos cursos que os funcionários concluíram nos últimos 3 anos para identificação do perfil.",
      "metadata": {}
    },
    {
      "id": "6ecac00e-cfb2-4265-a22c-d16134d44987",
      "cell_type": "markdown",
      "source": "# Orientações Gerais:\n\n1) Inclua sua matrícula na seção de Identificação, no início deste Notebook.\n\n2) **Link para envio das soluções:**\n\n- https://envio-academiabb.bb.com.br/\n\n    - **Atenção:** não serão acatadas outras formas de envio. O link acima permite acesso com senha de portais externos.\n\n3) Selecione a Trilha Engenharia ao enviar.\n\n**Nome do arquivo:** cada participante deverá baixar o presente arquivo e renomeá-lo de modo a conter:\n\n- A matrícula com F maiúsculo, sete algarismos e sem dígito (FXXXXXXX)\n\n- A trilha a qual a entrega se refere em letras minúsculas: engenharia\n\n- O nome não deve conter espaços em branco. Substitua-os por “_”.\n\n- O versionamento será gerado automaticamente na subida do arquivo, por meio do timestamp do envio.\n\n    - Exemplo1: F1234567_engenharia.ipynb\n\n    - Exemplo2: F1234567_engenharia_v3.ipynb\n\n**Formato:** .ipynb\n\n- **Atenção:** não carregar nenhum outro formato de arquivo, pois será ignorado\n\n**Prazo final:** até às 18h (horário de Brasília) do dia 20/09/2024.\n\n## Requerimentos de versões\n\nPara construção do desafio em qualquer ambiente diferente do [labblite](https://labblite.bb.com.br/), deverão ser utilizadas as versões de biblioteca abaixo especificadas:\n\n|Biblioteca|Versão|\n|---|---|\n|pandas|1.5.2 ou inferior|\n|numpy|1.23.5 ou inferior|\n|unidecode|1.3.8 ou inferior|\n|pathlib|sem indicativo de versão|\n|glob|sem indicativo de versão|\n\nEssas versões são padrão no labblite, e você pode checar após importação da biblioteca por meio da instrução:\n    \n    print(nome_biblioteca. __version__)\n\nCaso identifique a necessidade de utilização de alguma biblioteca diferente das listadas acima, entre em contato com a comissão organizadora para verificar a possibilidade de utilização no script, sob o risco de gerar erros durante a validação.\n\n## Pode:\n\n- Inserir células no notebook.\n\n    Obs: as células adicionadas após a seção do Boletim de Soluções não surtirão efeitos para fins de validação dos resultados dos exercícios propostos.\n\n- Fazer vários envios (tantos quantos forem necessários).\n\n- Nas máquinas do Banco, desenvolver na plataforma [Labblite](https://labblite.bb.com.br/)\n\n- O participante que optar por desenvolver no computador pessoal, poderá utilizar qualquer plataforma que permita a execução de scripts em Python, desde que atente para as versões das bibliotecas mencionadas na seção \"Requerimentos de versões\" acima especificada.\n    \n    Atenção: consulte as versões homologadas pelo Banco no aplicativo <b>BB Verifica Software</b> antes de instalar qualquer aplicativo nas máquinas corporativas.\n\n## Não pode:\n\n- Compartilhar arquivos/código, sob pena de desclassificação de todas as partes envolvidas.\n\n- Alterar as bases de dados disponibilizadas. Os itens contidos na pasta “bases” devem permanecer inalterados quanto a:\n    - Nome e tipo dos arquivos/pastas\n    - Conteúdo\n    - Estrutura das pastas iniciando em “bases”\n\n- Descompactar os arquivos correspondentes às bases de dados. Os arquivos disponibilizados no formato .zip deverão ser lidos nesse mesmo formato.\n\n- Gerar arquivos de qualquer formato durante a execução, com exceção daqueles gerados pelo Boletim de Soluções.\n\n- Utilizar outros arquivos além dos disponibilizados no pacote do desafio do Eixo Temático Engenharia de Dados.\n\n- Excluir ou alterar linhas do Boletim de Soluções (exceto quando explicitamente orientado pela comissão organizadora do Programa).\n\n- Apresentar erros no código no momento da validação.\n\n- O tempo total de execução do notebook não poderá exceder 2 minutos. \n\n- Importar bibliotecas no código enviado para validação. Caso necessite instalar bibliotecas durante o desenvolvimento da solução, as linhas deverão ser comentadas antes do envio, sob o risco de apresentar erros ou exceder o tempo de execução do notebook durante a validação dos exercícios.\n    \n    *Atenção:* as bibliotecas mapeadas estarão previamente instaladas no ambiente de execução da solução validadora. Caso identifique a necessidade de utilizar alguma biblioteca diferente das mencionadas na seção \"Requerimentos de versões\", entre em contato com a comissão organizadora para verificar a viabilidade de utilização.\n\n## Geras para o Nome Físico das colunas\n\n- Observe atentamente a documentação constante no enunciado de cada exercício, para evitar apontamentos nas verificações.\n\n- A ordem dos atributos deverá ser obedecida na construção dos DataFrames.\n\n- A nomenclatura de todos os campos dos DataFrames deverá seguir o padrão de nomenclatura do Banco, conforme consulta disponível no Glossário.\n\n- O nome físico não deve conter espaços, devendo as abreviações ser separadas por “_”. \n\n- Todas as palavras do Nome Lógico deverão ser abreviadas, com exceção apenas das preposições (ex.: de, com, para, até, etc.).\n\n- Ao consultar o Glossário, é importante atentar para a existência de palavras compostas, que devem ser abreviadas juntas.\n\n## Demais recomendações/Orientações\n\n- Leia atentamente o enunciado dos exercícios. Eventuais cálculos, formatações, filtros, transformações ou arredondamentos dos dados serão detalhados na descrição de cada atributo.\n\n- Verifique o indicativo de nível de dificuldade e de ordem de solução dos exercícios, pois alguns têm como requisito a conclusão de algum exercício anterior na íntegra.\n\n- Não se esqueça de salvar seu projeto! Sugerimos fazer vários versionamentos dos arquivos, para não correr riscos de perder alterações e para ter um backup, caso algo não saia como o planejado.\n\n- Não se assuste com os apontamentos de erros durante o desenvolvimento dos exercícios. Observe as orientações e dicas para solucioná-los com maior assertividade.\n\n- Ao fazer junção de tabelas, não se esqueça de conferir as quantidades de linhas e colunas das tabelas originais e tenha sempre em mente o seu objetivo antes de escolher o método de junção (interna, esquerda, direita ou total).\n\n- Ao copiar variáveis, utilize preferencialmente o método copy() para evitar corromper as variáveis que serão utilizadas para conferência dos exercícios.\n\n- Faça envios parciais, tantos quanto for necessário. Não há limite de quantidade de envios. O ideal é submeter seu notebook a cada exercício concluído, para evitar acúmulo de apontamentos na validação. \n\n- Execute o Notebook na íntegra antes de efetuar seus envios para testar o tempo de execução e a ocorrência de erros, mesmo que ainda não tenha finalizado todos os exercícios.\n\n- Utilize o Boletim de Soluções ao final do Notebook Modelo para checar a existência das variáveis de cada exercício. Não se esqueça de informar a sua chave F (chaveF) na seção de Identificação. \n\n- Após execução na íntegra do seu notebook, visualize suas variáveis finais, aquelas que serão utilizadas para correção dos exercícios, para chegar eventuais alterações indesejadas nas variáveis. Exemplo:\n    \n        exercicio1.info()\n        exercicio2.info()\n\n\n**Atenção:** encorajamos a colaboração entre os participantes, porém sempre no sentido de ajudar os demais a chegarem à resposta, nunca respondendo diretamente às perguntas ou compartilhando os arquivos/código. ",
      "metadata": {
        "tags": [],
        "jp-MarkdownHeadingCollapsed": true
      }
    },
    {
      "id": "5b670427-6706-4282-aeb2-bf3bb7a148a9",
      "cell_type": "markdown",
      "source": "# Importar bibliotecas\n\nUse esse espaço para importar as bibliotecas necessárias para execução do seu notebook.\n\nLembrando que eventuais instalações de bibliotecas durante o desenvolvimento deverão ser retiradas ou comentadas antes do envio.",
      "metadata": {
        "tags": []
      }
    },
    {
      "id": "2ff68ebe-4639-4157-a3ee-23697430471c",
      "cell_type": "code",
      "source": "# Atenção, somente descomente as células abaixo caso não esteja desenvolvendo no labblite\n# após instalação, comente novamente as células\n\n#!pip3 install --force-reinstall --user pandas==1.5.2\n#!pip3 install --force-reinstall --user numpy==1.23.5\n#!pip3 install --force-reinstall --user unidecode==1.3.8 ",
      "metadata": {
        "trusted": true
      },
      "outputs": [],
      "execution_count": 190
    },
    {
      "id": "0451d52b-b87e-4b7a-8e1f-a2e02d52ead3",
      "cell_type": "code",
      "source": "# as celulas abaixo referem-se a instalação e importação de bibliotecas para desenvolvimento da solução\n# favor não alterar esta célula sem antes consultar a comissão organizadora\n\ntry:\n    import micropip \n    await micropip.install('pandas')\n    import pandas as pd\n    await micropip.install('unidecode')\n    from unidecode import unidecode\n    await micropip.install('numpy')\n    import numpy as np\n    import warnings\n    warnings.filterwarnings(\"ignore\")\n    from pathlib import Path\n    import glob\n    \n    mensagem = \"Importações de bibliotecas executadas com sucesso\"\nexcept:\n    try:\n        import pandas as pd\n        from unidecode import unidecode\n        import numpy as np\n        import warnings\n        warnings.filterwarnings(\"ignore\")\n        from pathlib import Path\n        import glob\n\n        mensagem = \"Importações de bibliotecas executadas com sucesso\"\n    except Exception as e:\n        mensagem = f\"{e.args[0]} \\nImportações de bibliotecas não executada\"\nfinally:\n    print(mensagem)",
      "metadata": {
        "trusted": true
      },
      "outputs": [
        {
          "name": "stdout",
          "text": "Importações de bibliotecas executadas com sucesso\n",
          "output_type": "stream"
        }
      ],
      "execution_count": 191
    },
    {
      "id": "b80386bd-184a-4ece-89a0-829b1dfba6b9",
      "cell_type": "code",
      "source": "",
      "metadata": {
        "trusted": true
      },
      "outputs": [],
      "execution_count": null
    },
    {
      "id": "c7e43ed0-b939-4458-ab6e-57f6b75abebf",
      "cell_type": "markdown",
      "source": "# Exercício 1 - Tabela de Vínculo entre as Unidades Organizacionais\n\n<b>Nível de dificuldade:</b> 1\n\n<b>Ordem:</b> qualquer\n\nCriar um DataFrame Pandas chamado <b>exercicio1</b> com a tabela que contém o vínculo entre as UORs do Banco.\n\nNa tabela abaixo especificamos as <b>informações descritivas</b> (nome, formato dos dados, etc.) dos atributos (colunas) que deverão constar no dataframe resultante:\n\n||Nome Lógico|Nome Físico|Formato|Descrição|Aceita Nulos|Tabela Origem|Atributo Origem|\n|---|---|---|---|---|---|---|---|\n|1|Código da Unidade Organizacional Vinculada|CD_UOR_VCLD|Int64|Código identificador de Unidade Organizacional (UOR) vinculada ou JURISDICIONADA.|N|VCL_UOR|CD_UOR_VCLD\n|2|Código do Tipo de Vínculo|CD_TIP_VCL|Int64|Código identificador do Tipo de Vínculo ou JURISDIÇÃO utilizado para a vinculação entre Unidades Organizacionais.|N|VCL_UOR|CD_TIP_VCL\n|3|Código da Unidade Organizacional Vinculadora|CD_UOR_VCLR|Int64|Código identificador da Unidade Organizacional vinculadora ou JURISDICIONANTE, conforme determinado Tipo de Vínculo ou jurisdição.|N|VCL_UOR|CD_UOR_VCLR\n|4|Número do Intervalo de Nível Hierárquico|NR_ITVL_NVL_HRQO|Int64|Representa o intervalo de nível hierárquico entre a UOR Vinculada e a UOR Vinculadora. A partir deste atributo, é possível saber quantos níveis acima ou abaixo encontra-se uma UOR Vinculadora em relação à UOR Vinculada.|S|VCL_UOR|NR_ITVL_NVL_HRQO\n\nAo final do exerício, o resultado da consulta do cabeçado (<b>.head()</b>) do dataframe exercicio1 deverá seguir a estrutura abaixo exemplificada:\n\n- código a ser executado:\n\n\n    <i>exercicio1.head()</i>\n\n- exemplo de resultado do código acima com valores fictícios:\n\n||CD_UOR_VCLD|CD_TIP_VCL|CD_UOR_VCL|NR_ITVL_NVL_HRQO|\n|---|---|---|---|---|\n|0|9999|99|1111|&lt;NA&gt;|\n|1|9999|101|2222|&lt;NA&gt;|\n|2|9999|1100|3333|&lt;NA&gt;|\n|3|9999|1200|4444|&lt;NA&gt;|\n|34|9999|1220|5555|&lt;NA&gt;|\n\n   \n<b>Regra:</b> a ordem das colunas deverá obedecer à ordem da tabela de informações descritivas constante do enunciado.\n\n<b>Dica 1:</b> verifique o <b>Vocabulário de Termos</b> anexo para saber mais sobre o termo <b>&lt;NA&gt;</b> e o tipo <b>Int64</b>.\n\n<b>Dica 2:</b> os registros nulos somente deverão ser tratados quando expressamente orientado no enunciado do exercício.",
      "metadata": {
        "tags": []
      }
    },
    {
      "id": "4cc3e85a-2819-4351-8db2-7619f0c23f10",
      "cell_type": "code",
      "source": "exercicio1 = pd.read_csv('bases/VCL_UOR.csv', sep = ';')",
      "metadata": {
        "trusted": true
      },
      "outputs": [],
      "execution_count": 192
    },
    {
      "id": "7d48260c-25d0-4c99-9772-faa8f8950703",
      "cell_type": "code",
      "source": "exercicio1['CD_UOR_VCLD'] = exercicio1['CD_UOR_VCLD'].astype(\"Int64\")\nexercicio1['CD_TIP_VCL'] = exercicio1['CD_TIP_VCL'].astype(\"Int64\")\nexercicio1['CD_UOR_VCLR'] = exercicio1['CD_UOR_VCLR'].astype(\"Int64\")\nexercicio1['NR_ITVL_NVL_HRQO'] = exercicio1['NR_ITVL_NVL_HRQO'].astype(\"Int64\")",
      "metadata": {
        "trusted": true
      },
      "outputs": [],
      "execution_count": 193
    },
    {
      "id": "35c11c2f-6eba-463d-9020-5f7bf7676784",
      "cell_type": "code",
      "source": "exercicio1.head()",
      "metadata": {
        "trusted": true
      },
      "outputs": [
        {
          "execution_count": 194,
          "output_type": "execute_result",
          "data": {
            "text/plain": "   CD_UOR_VCLD  CD_TIP_VCL  CD_UOR_VCLR  NR_ITVL_NVL_HRQO\n0         9598          99         4924              <NA>\n1         9598         101         9598              <NA>\n2         9598        1060        38047              <NA>\n3         9598        1090         7638              <NA>\n4         9598        1100         1993              <NA>",
            "text/html": "<div>\n<style scoped>\n    .dataframe tbody tr th:only-of-type {\n        vertical-align: middle;\n    }\n\n    .dataframe tbody tr th {\n        vertical-align: top;\n    }\n\n    .dataframe thead th {\n        text-align: right;\n    }\n</style>\n<table border=\"1\" class=\"dataframe\">\n  <thead>\n    <tr style=\"text-align: right;\">\n      <th></th>\n      <th>CD_UOR_VCLD</th>\n      <th>CD_TIP_VCL</th>\n      <th>CD_UOR_VCLR</th>\n      <th>NR_ITVL_NVL_HRQO</th>\n    </tr>\n  </thead>\n  <tbody>\n    <tr>\n      <th>0</th>\n      <td>9598</td>\n      <td>99</td>\n      <td>4924</td>\n      <td>&lt;NA&gt;</td>\n    </tr>\n    <tr>\n      <th>1</th>\n      <td>9598</td>\n      <td>101</td>\n      <td>9598</td>\n      <td>&lt;NA&gt;</td>\n    </tr>\n    <tr>\n      <th>2</th>\n      <td>9598</td>\n      <td>1060</td>\n      <td>38047</td>\n      <td>&lt;NA&gt;</td>\n    </tr>\n    <tr>\n      <th>3</th>\n      <td>9598</td>\n      <td>1090</td>\n      <td>7638</td>\n      <td>&lt;NA&gt;</td>\n    </tr>\n    <tr>\n      <th>4</th>\n      <td>9598</td>\n      <td>1100</td>\n      <td>1993</td>\n      <td>&lt;NA&gt;</td>\n    </tr>\n  </tbody>\n</table>\n</div>"
          },
          "metadata": {}
        }
      ],
      "execution_count": 194
    },
    {
      "id": "250c21fe-1ebc-45e0-bb8d-7a28ec1ffa2b",
      "cell_type": "markdown",
      "source": "# Exercício 2 - Tabela de Unidades Organizacionais (UOR) do BB\n\n<b>Nível de dificuldade (1 a 5):</b> 2\n\n<b>Ordem:</b> qualquer\n\nCriar um DataFrame Pandas chamado <b>exercicio2</b> com a tabela UORs do BB, conforme detalhado abaixo:\n\n||Nome Lógico|Nome Físico|Formato|Descrição|Aceita Nulos|Tabela Origem|Atributo Origem|\n|---|---|---|---|---|---|---|---|\n|1|Código da Unidade Organizacional|CD_UOR|Int64|Código identificador de Unidade Organizacional (UOR) do conglomerado Banco do Brasil (no Brasil e Exterior) ou UOR externas que o BB tenha algum tipo de relacionamento ou interesse em identificá-las.|N|UOR|CD_UOR\n|2|Nome da Unidade Organizacional Reduzido|NM_UOR_RDZ|object|Nome reduzido da Unidade Organizacional.|N|UOR|NM_UOR_RDZ\n|3|Sigla da Unidade Organizacional|SG_UOR|object|Reunião das letras iniciais dos vocábulos fundamentais de uma denominação ou título, sem articulação prosódica, constituindo meras abreviaturas. Ex.: \"DITEC\", \"GBASE\", \"DIREO\", \"PRESI\", etc.|S|UOR|SG_UOR\n|4|Data Início de Validade|DT_INC_VLD|datetime64[ns]|Data em que o registro passa a ter validade (geralmente coincide com a data de inclusão).  Formato \"AAAA-MM-DD\".|N|UOR|DT_INC_VLD\n|5|Código do Item da Arquitetura da Unidade Organizacional|CD_ITEM_AQTT_UOR|Int64|Código identificador dos Itens de Arquitetura que existem em uma Instituição Organizacional para orientação da estrutura das Unidades Organizacionais (oriundo do sistema IOR).|N|UOR|CD_ITEM_AQTT_UOR\n|6|Código do Tipo da Unidade Organizacional|CD_TIP_UOR|Int64|Código identificador dos Tipos nos quais as Unidades Organizacionais podem ser classificadas. Ex.: \"001 - Governo\" \"003 - Canal de Atendimento\",  \"004 - Dependências BB\",  \"005 - Exterior\" etc. |N|UOR|CD_TIP_UOR\n|7|Código da Dependência da Unidade Organizacional|CD_DEPE_UOR|Int64|Código identificador de Dependências de Instituições Organizacionais. No BB atualmente é utilizado os domínios entre 1 e 9999.Ex.: \"0001 - Ag. Rio de Janeiro\", \"4886 - Ag. Estilo Alvorada-Brasília\"|N|UOR|CD_DEPE_UOR\n|8|Número da Ordem da Dependência Subordinada|NR_ORD_DEPE_SBDD|Int64|Número identificador de subordinação de uma dependência de IOR's que possuam em sua organização subdependências ou subordinadas. 0 indica a UOR principal da dependência|N|UOR|NR_ORD_DEPE_SBDD\n\n<b>Regra 1:</b> considere apenas as UORs da Instituição Organizacional \"Banco do Brasil\".\n\n<b>Regra 2:</b> considere apenas as UORs \"em funcionamento\".\n\n<b>Dica: </b>atenção para o formato da data.\n",
      "metadata": {
        "tags": []
      }
    },
    {
      "id": "440cd86f-4aee-43a7-8a42-652ec36b019f",
      "cell_type": "code",
      "source": "uor01 = pd.read_csv('bases/UOR/uor01.zip')\nuor02 = pd.read_csv('bases/UOR/uor02.zip')\nuor03 = pd.read_csv('bases/UOR/uor03.zip')\nuor04 = pd.read_csv('bases/UOR/uor04.zip')\nuor05 = pd.read_csv('bases/UOR/uor05.zip')\nuor06 = pd.read_csv('bases/UOR/uor06.zip')\nuor07 = pd.read_csv('bases/UOR/uor07.zip')\nuor08 = pd.read_csv('bases/UOR/uor08.zip')\nuor09 = pd.read_csv('bases/UOR/uor09.zip')\nuor10 = pd.read_csv('bases/UOR/uor10.zip')\nuor11 = pd.read_csv('bases/UOR/uor11.zip')\nuor12 = pd.read_csv('bases/UOR/uor12.zip')",
      "metadata": {
        "trusted": true
      },
      "outputs": [],
      "execution_count": 195
    },
    {
      "id": "4516e089-dbca-4aa8-97d7-80e1f4503f8c",
      "cell_type": "code",
      "source": "lista_uor = [uor01, uor02, uor03, uor04, uor05, uor06, uor07, uor08, uor09, uor10, uor11, uor12]\ndf_ini = pd.concat(lista_uor)\ndf_pre = df_ini.query('CD_IOR == 1 & CD_EST_UOR == 2')",
      "metadata": {
        "trusted": true,
        "scrolled": true
      },
      "outputs": [],
      "execution_count": 196
    },
    {
      "id": "17dd6a85-c9ac-4e8f-9f77-1f40f5174495",
      "cell_type": "code",
      "source": "exercicio2 = pd.DataFrame()\nexercicio2['CD_UOR'] = df_pre['CD_UOR']\nexercicio2['NM_UOR_RDZ'] = df_pre['NM_UOR_RDZ']\nexercicio2['SG_UOR'] = df_pre['SG_UOR']\nexercicio2['DT_INC_VLD'] = df_pre['DT_INC_VLD']\nexercicio2['CD_ITEM_AQTT_UOR'] = df_pre['CD_ITEM_AQTT_UOR']\nexercicio2['CD_TIP_UOR'] = df_pre['CD_TIP_UOR']\nexercicio2['CD_DEPE_UOR'] = df_pre['CD_DEPE_UOR']\nexercicio2['NR_ORD_DEPE_SBDD'] = df_pre['NR_ORD_DEPE_SBDD']",
      "metadata": {
        "trusted": true
      },
      "outputs": [],
      "execution_count": 197
    },
    {
      "id": "cee65522-24cf-4d5a-a412-e6b0f71c9863",
      "cell_type": "code",
      "source": "exercicio2['CD_UOR'] = exercicio2['CD_UOR'].astype('Int64')\nexercicio2['DT_INC_VLD'] = pd.to_datetime(exercicio2['DT_INC_VLD'], dayfirst = True)\nexercicio2['CD_ITEM_AQTT_UOR'] = exercicio2['CD_ITEM_AQTT_UOR'].astype('Int64')\nexercicio2['CD_TIP_UOR'] = exercicio2['CD_TIP_UOR'].astype('Int64')\nexercicio2['CD_DEPE_UOR'] = exercicio2['CD_DEPE_UOR'].astype('Int64')\nexercicio2['NR_ORD_DEPE_SBDD'] = exercicio2['NR_ORD_DEPE_SBDD'].astype('Int64')\nexercicio2.head()",
      "metadata": {
        "trusted": true
      },
      "outputs": [
        {
          "execution_count": 198,
          "output_type": "execute_result",
          "data": {
            "text/plain": "   CD_UOR            NM_UOR_RDZ SG_UOR DT_INC_VLD  CD_ITEM_AQTT_UOR  \\\n0       1  RIO                     NaN 1936-05-02                54   \n2       3  MANAUS                  NaN 1908-01-14                54   \n3       4  PRESIDENTE VARGAS       NaN 1908-07-01                54   \n4       5  SANTOS                  NaN 1908-08-22                54   \n6       7  CAMPOS GOYTACAZES       NaN 1910-06-26                54   \n\n   CD_TIP_UOR  CD_DEPE_UOR  NR_ORD_DEPE_SBDD  \n0           4            1                 0  \n2           4            2                 0  \n3           4            3                 0  \n4           4            4                 0  \n6           4            5                 0  ",
            "text/html": "<div>\n<style scoped>\n    .dataframe tbody tr th:only-of-type {\n        vertical-align: middle;\n    }\n\n    .dataframe tbody tr th {\n        vertical-align: top;\n    }\n\n    .dataframe thead th {\n        text-align: right;\n    }\n</style>\n<table border=\"1\" class=\"dataframe\">\n  <thead>\n    <tr style=\"text-align: right;\">\n      <th></th>\n      <th>CD_UOR</th>\n      <th>NM_UOR_RDZ</th>\n      <th>SG_UOR</th>\n      <th>DT_INC_VLD</th>\n      <th>CD_ITEM_AQTT_UOR</th>\n      <th>CD_TIP_UOR</th>\n      <th>CD_DEPE_UOR</th>\n      <th>NR_ORD_DEPE_SBDD</th>\n    </tr>\n  </thead>\n  <tbody>\n    <tr>\n      <th>0</th>\n      <td>1</td>\n      <td>RIO</td>\n      <td>NaN</td>\n      <td>1936-05-02</td>\n      <td>54</td>\n      <td>4</td>\n      <td>1</td>\n      <td>0</td>\n    </tr>\n    <tr>\n      <th>2</th>\n      <td>3</td>\n      <td>MANAUS</td>\n      <td>NaN</td>\n      <td>1908-01-14</td>\n      <td>54</td>\n      <td>4</td>\n      <td>2</td>\n      <td>0</td>\n    </tr>\n    <tr>\n      <th>3</th>\n      <td>4</td>\n      <td>PRESIDENTE VARGAS</td>\n      <td>NaN</td>\n      <td>1908-07-01</td>\n      <td>54</td>\n      <td>4</td>\n      <td>3</td>\n      <td>0</td>\n    </tr>\n    <tr>\n      <th>4</th>\n      <td>5</td>\n      <td>SANTOS</td>\n      <td>NaN</td>\n      <td>1908-08-22</td>\n      <td>54</td>\n      <td>4</td>\n      <td>4</td>\n      <td>0</td>\n    </tr>\n    <tr>\n      <th>6</th>\n      <td>7</td>\n      <td>CAMPOS GOYTACAZES</td>\n      <td>NaN</td>\n      <td>1910-06-26</td>\n      <td>54</td>\n      <td>4</td>\n      <td>5</td>\n      <td>0</td>\n    </tr>\n  </tbody>\n</table>\n</div>"
          },
          "metadata": {}
        }
      ],
      "execution_count": 198
    },
    {
      "id": "f11cfd26-6749-4ddd-a479-b0656ebcd517",
      "cell_type": "markdown",
      "source": "# Exercício 3 - Tabela de cursos realizados por funcionário\n\n<b>Nível de dificuldade (1 a 5):</b> 1\n\n<b>Ordem:</b> qualquer\n\nCriar um DataFrame Pandas chamado <b>exercicio3</b> com a tabela dos cursos realizados pelos funcionários, conforme detalhado abaixo:\n\n||Nome Lógico|Nome Físico|Formato|Descrição|Aceita Nulos|Tabela Origem|Atributo Origem|\n|---|---|---|---|---|---|---|---|\n|1|Codigo de matricula do funcionario|?|Int64|Código da matrícula do funcionário. |N|?|?|\n|2|Código do Curso|?|Int64|Identificador do curso. Campo numérico de 7 posições. |N|?|?|\n|3|Data final do curso|?|datetime64[ns]|Data que identifica a finalizaçao do curso. Formato \"AAAA-MM-DD\".|N|?|?|\n|4|Codigo de origem do curso|?|Int64|O conteudo deste campo indentificara a origem do curso. Exemplo: 01-ARH, 02-GTD, 03-PFP, 04-ALURA, 05-UNIBB, 17-SYNAPSE|N|?|?|\n\n<b>Dica 1:</b> para construir o nome físico das tabelas, consulte as abreviações no Glossário de Termos.\n\n<b>Dica 2:</b> atenção para o formato da matrícula.",
      "metadata": {
        "tags": []
      }
    },
    {
      "id": "aee7e25d-8783-47e8-bd0a-a181f547fd0d",
      "cell_type": "code",
      "source": "cso_sis01 = pd.read_csv('bases/CSO_PSS_ITSE_SIS/cso_pss_itse_sis01.zip')\ncso_sis02 = pd.read_csv('bases/CSO_PSS_ITSE_SIS/cso_pss_itse_sis02.zip')\ncso_sis03 = pd.read_csv('bases/CSO_PSS_ITSE_SIS/cso_pss_itse_sis03.zip')\ncso_sis04 = pd.read_csv('bases/CSO_PSS_ITSE_SIS/cso_pss_itse_sis04.zip')\ncso_sis05 = pd.read_csv('bases/CSO_PSS_ITSE_SIS/cso_pss_itse_sis05.zip')\ncso_sis06 = pd.read_csv('bases/CSO_PSS_ITSE_SIS/cso_pss_itse_sis06.zip')\ncso_sis07 = pd.read_csv('bases/CSO_PSS_ITSE_SIS/cso_pss_itse_sis07.zip')\ncso_sis08 = pd.read_csv('bases/CSO_PSS_ITSE_SIS/cso_pss_itse_sis08.zip')\ncso_sis09 = pd.read_csv('bases/CSO_PSS_ITSE_SIS/cso_pss_itse_sis09.zip')\ncso_sis10 = pd.read_csv('bases/CSO_PSS_ITSE_SIS/cso_pss_itse_sis10.zip')\ncso_sis11 = pd.read_csv('bases/CSO_PSS_ITSE_SIS/cso_pss_itse_sis11.zip')",
      "metadata": {
        "trusted": true
      },
      "outputs": [],
      "execution_count": 199
    },
    {
      "id": "4aab7c59-b722-4911-9665-58e008fd1a88",
      "cell_type": "code",
      "source": "lista_cso_sis = [cso_sis01, cso_sis02, cso_sis03, cso_sis04, cso_sis05, cso_sis06, cso_sis07, cso_sis08, cso_sis09, cso_sis10, cso_sis11]\nexercicio3 = pd.concat(lista_cso_sis)",
      "metadata": {
        "trusted": true
      },
      "outputs": [],
      "execution_count": 200
    },
    {
      "id": "0b63fb37-5c1a-4523-88cf-276792efdcff",
      "cell_type": "code",
      "source": "exercicio3['MATRICULA'] = exercicio3['MATRICULA'].str[1:].astype('Int64')\nexercicio3['CD_CSO'] = exercicio3['CD_CSO'].astype(\"Int64\")\nexercicio3['DT_FIM_CSO'] = pd.to_datetime(exercicio3['DT_FIM_CSO'])\nexercicio3['CD_OGM_CSO'] = exercicio3['CD_OGM_CSO'].astype('Int64')",
      "metadata": {
        "trusted": true
      },
      "outputs": [],
      "execution_count": 201
    },
    {
      "id": "edcd62cd-148e-4a78-bad8-8552ae9d6d6c",
      "cell_type": "code",
      "source": "exercicio3.columns = ['CD_MTC_FUN', 'CD_CSO', 'DT_FIM_CSO', 'CD_OGM_CSO']\nexercicio3.head()",
      "metadata": {
        "trusted": true
      },
      "outputs": [
        {
          "execution_count": 202,
          "output_type": "execute_result",
          "data": {
            "text/plain": "   CD_MTC_FUN  CD_CSO DT_FIM_CSO  CD_OGM_CSO\n0     3066439     127 2008-04-04           4\n1     3066439     350 2012-05-18           4\n2     3066439     569 2013-10-22           4\n3     3066439     828 2016-10-07           4\n4     3066439    1251 2013-11-13           4",
            "text/html": "<div>\n<style scoped>\n    .dataframe tbody tr th:only-of-type {\n        vertical-align: middle;\n    }\n\n    .dataframe tbody tr th {\n        vertical-align: top;\n    }\n\n    .dataframe thead th {\n        text-align: right;\n    }\n</style>\n<table border=\"1\" class=\"dataframe\">\n  <thead>\n    <tr style=\"text-align: right;\">\n      <th></th>\n      <th>CD_MTC_FUN</th>\n      <th>CD_CSO</th>\n      <th>DT_FIM_CSO</th>\n      <th>CD_OGM_CSO</th>\n    </tr>\n  </thead>\n  <tbody>\n    <tr>\n      <th>0</th>\n      <td>3066439</td>\n      <td>127</td>\n      <td>2008-04-04</td>\n      <td>4</td>\n    </tr>\n    <tr>\n      <th>1</th>\n      <td>3066439</td>\n      <td>350</td>\n      <td>2012-05-18</td>\n      <td>4</td>\n    </tr>\n    <tr>\n      <th>2</th>\n      <td>3066439</td>\n      <td>569</td>\n      <td>2013-10-22</td>\n      <td>4</td>\n    </tr>\n    <tr>\n      <th>3</th>\n      <td>3066439</td>\n      <td>828</td>\n      <td>2016-10-07</td>\n      <td>4</td>\n    </tr>\n    <tr>\n      <th>4</th>\n      <td>3066439</td>\n      <td>1251</td>\n      <td>2013-11-13</td>\n      <td>4</td>\n    </tr>\n  </tbody>\n</table>\n</div>"
          },
          "metadata": {}
        }
      ],
      "execution_count": 202
    },
    {
      "id": "bb4c5b31-3082-4bb2-9bb8-16fe19787204",
      "cell_type": "markdown",
      "source": "# Exercício 4 - Tabela de cadastro dos funcionários\n\n<b>Nível de dificuldade (1 a 5):</b> 2\n\n<b>Ordem:</b> qualquer\n\nCriar um DataFrame Pandas chamado <b>exercicio4</b> com a tabela de cadastro dos funcionários, conforme detalhado abaixo:\n\n||Nome Lógico|Nome Físico|Formato|Descrição|Aceita Nulos|Tabela Origem|Atributo Origem|\n|---|---|---|---|---|---|---|---|\n|1|Codigo de matricula do funcionario|?|Int64|Código da matrícula (F) do funcionário. |N|CAD_FUN|?\n|2|Nome do funcionário|?|object|Nome do funcionário cadastrado no ARH. Formato: caixa alta, sem acentuação.|N|CAD_FUN|?\n|3|Sigla do Tipo do Estado Civil|?|object|Sigla ARH que define o estado civil do funcionário. |N|CAD_FUN|?\n|4|Código do Tipo de Nível de Instrução|?|Int64|Código ARH do nível de instrução. |N|CAD_FUN|?\n|5|Data de nascimento|?|datetime64[ns]|Data de nascimento. Formato \"AAAA-MM-DD\".|N|CAD_FUN|?\n|6|Código do Tipo de Gênero|?|Int64|Código ARH do sexo/gênero. 1 -Masculino, 2 - Feminino.|N|CAD_FUN|?\n|7|Código do Prefixo da Dependência de Localização|?|Int64|Código do prefixo da dependência de localização (UOR). |N|CAD_FUN|?\n|8|Código de Função ou Cargo Efetiva|?|Int64|Código ARH da função ou cargo efetivo. Exemplo: 610 - ESCRITURARIO, 12381 - ASSESSOR II UE etc. |N|CAD_FUN|?\n|9|Data de Posse na Localização|?|datetime64[ns]|Data de posse na dependência de localização (UOR).  Formato \"AAAA-MM-DD\".|N|CAD_FUN|?\n|10|Data de posse no BB|?|datetime64[ns]|Data de posse no Banco do Brasil. Formato \"AAAA-MM-DD\".|N|CAD_FUN|?\n\n<b>Dica:</b> atenção para a formatação do nome.",
      "metadata": {
        "tags": []
      }
    },
    {
      "id": "79d4aaf5-889e-4241-9e37-df3492e089b2",
      "cell_type": "code",
      "source": "exercicio4 = pd.read_csv('bases/CAD_FUN.csv')",
      "metadata": {
        "trusted": true
      },
      "outputs": [],
      "execution_count": 203
    },
    {
      "id": "eb1f7a24-7fca-4613-bedf-a2ab2e973efd",
      "cell_type": "code",
      "source": "exercicio4.columns = ['CD_MTC_FUN', 'NM_FUN', 'SG_TIP_EST_CVL', 'CD_TIP_NVL_ITC', 'DT_NSC', 'CD_TIP_GNR', 'CD_PRF_DEPE_LCZC', 'CD_FUC_CRG_EFT', 'DT_PSSE_LCZC', 'DT_PSSE_BB']\nexercicio4['DT_NSC'] = exercicio4['DT_NSC'].astype(str)\nexercicio4['DT_NSC'] = exercicio4['DT_NSC'].apply(lambda x: '0'+x if len(x) == 7 else x)\nexercicio4['DT_NSC'] = exercicio4['DT_NSC'].apply(lambda x: x[0] + x[1] + '-' + x[2] + x[3] + '-' + x[4] + x[5] + x[6] + x[7])",
      "metadata": {
        "trusted": true
      },
      "outputs": [],
      "execution_count": 204
    },
    {
      "id": "d11c9ed1-4d1c-4a3e-ba7e-1781086851e1",
      "cell_type": "code",
      "source": "exercicio4['CD_MTC_FUN'] = exercicio4['CD_MTC_FUN'].astype('Int64')\nexercicio4['CD_TIP_NVL_ITC'] = exercicio4['CD_TIP_NVL_ITC'].astype('Int64')\nexercicio4['DT_NSC'] = pd.to_datetime(exercicio4['DT_NSC'], dayfirst = True)\nexercicio4['CD_TIP_GNR'] = exercicio4['CD_TIP_GNR'].astype('Int64')\nexercicio4['CD_PRF_DEPE_LCZC'] = exercicio4['CD_PRF_DEPE_LCZC'].astype('Int64')\nexercicio4['CD_FUC_CRG_EFT'] = exercicio4['CD_FUC_CRG_EFT'].astype('Int64')\nexercicio4['DT_PSSE_LCZC'] = pd.to_datetime(exercicio4['DT_PSSE_LCZC'])\nexercicio4['DT_PSSE_BB'] = pd.to_datetime(exercicio4['DT_PSSE_BB'])",
      "metadata": {
        "trusted": true
      },
      "outputs": [],
      "execution_count": 205
    },
    {
      "id": "edf3d051-916b-4d1f-b916-439fec1f44f6",
      "cell_type": "code",
      "source": "exercicio4['NM_FUN'] = exercicio4['NM_FUN'].astype(str)\nexercicio4['NM_FUN'] = exercicio4['NM_FUN'].apply(lambda x: x.upper())\nexercicio4['NM_FUN'] = exercicio4['NM_FUN'].apply(lambda x: unidecode(x))\nexercicio4['NM_FUN'] = exercicio4['NM_FUN'].astype('object')",
      "metadata": {
        "trusted": true
      },
      "outputs": [],
      "execution_count": 206
    },
    {
      "id": "29404859-efcc-4b9a-8fd5-adeb8d837e49",
      "cell_type": "markdown",
      "source": "# Exercício 5 - Incremento da tabela de cadastro de funcionários\n\n<b>Nível de dificuldade (1 a 5):</b> 3\n\n<b>Requisitos:</b> exercício 4\n\nCriar um DataFrame Pandas chamado <b>exercicio5</b> contendo os campos adicionais do cadastro do funcionários, conforme abaixo detalhado:\n\n||Nome Lógico|Nome Físico|Formato|Descrição|Aceita Nulos|Tabela Origem|Atributo Origem|\n|---|---|---|---|---|---|---|---|\n|1|Codigo de matricula do funcionario|?|Int64|Código da matrícula (F) do funcionário. |N|?|?|\n|2|Nome do funcionário|?|object|Nome do funcionário cadastrado no ARH. Formato: caixa alta, sem acentuação.|N|?|?|\n|3|Código de Função ou Cargo Efetiva|?|Int64|Código ARH da função ou cargo efetivo. Exemplo: 610, 12381, etc. |N|?|?|\n|4|Nome da Função ou Cargo Efetivo|?|object|Nome da função ou cargo efetivo. Exemplo: 610 - ESCRITURARIO, 12381 - ASSESSOR II UE etc. |S|?|?|\n|5|Código do Prefixo da Dependência de Localização|?|Int64|Código do prefixo da dependência de localização (UOR). |N|?|?|\n|6|Data de Posse na Localização|?|datetime64[ns]|Data de posse na dependência de localização (UOR).  Formato \"AAAA-MM-DD\".|N|?|?|\n|7|Data de posse no BB|?|datetime64[ns]|Data de posse no Banco do Brasil. Formato \"AAAA-MM-DD\".|N|?|?|\n|8|Data de nascimento|?|datetime64[ns]|Data de nascimento. Formato \"AAAA-MM-DD\".|N|?|?|\n|9|Código do Tipo de Gênero|?|Int64|Código ARH do sexo/gênero. 1 -Masculino, 2 - Feminino.|N|?|?|\n|10|Sigla do Tipo do Estado Civil|?|object|Sigla ARH que define o estado civil do funcionário. |N|?|?|\n|11|Nome do Tipo de Estado Civil|?|object|Descrição do estado civil do funcionário. |N|?|?|\n|12|Código do Tipo de Nível de Instrução|?|Int64|Código ARH do nível de instrução. |N|?|?|\n|13|Nome do Tipo de Nível de Instrução|?|object|Descrição do nível de instrução. |N|?|?|\n\n<b>Regra 1:</b> para a descrição do estado civil, considere os valores abaixo:\n\n|Cod.|Descrição|\n|---|---|\n|1|SOLTEIRO(A)|\n|2|CASADO(A)|\n|3|CASADO(A) COM FUNCIONARIA(O)|\n|4|VIUVO(A)|\n|5|SEPARADO(A) JUDICIAL OU EXTRAJ|\n|8|DIVORCIADO(A)|\n|M|SEPARADO(A) CONSENSUALMENTE|\n\n<b>Regra 2:</b> para a descrição do nível de instrução, considere os valores abaixo:\n\n|Cod.|Descrição|\n|---|---|\n|1|ENSINO FUNDAMENTAL|\n|2|ENSINO MEDIO|\n|3|SUPERIOR EM ANDAMENTO|\n|4|SUPERIOR SEQUENCIAL|\n|5|SUPERIOR GRADUACAO|\n|6|POS-GRADUACAO-APERFEIC|\n|7|POS-GRADUCAO-ESPEC|\n|8|MESTRADO|\n|9|DOUTORADO|",
      "metadata": {
        "tags": []
      }
    },
    {
      "id": "9af727e8-0958-4281-a27b-474013a58940",
      "cell_type": "code",
      "source": "nome_cargo = pd.read_csv('bases/FUC_FUN.csv')",
      "metadata": {
        "trusted": true
      },
      "outputs": [],
      "execution_count": 207
    },
    {
      "id": "6b2d5cf9-37cd-455a-a329-8f7d06b6bc16",
      "cell_type": "code",
      "source": "exercicio5 = pd.DataFrame()\nexercicio5['CD_MTC_FUN'] = exercicio4['CD_MTC_FUN'].copy()\nexercicio5['NM_FUN'] = exercicio4['NM_FUN'].copy()\nexercicio5['CD_FUC_CRG_EFT'] = exercicio4['CD_FUC_CRG_EFT'].copy()",
      "metadata": {
        "trusted": true
      },
      "outputs": [],
      "execution_count": 208
    },
    {
      "id": "9c62b9ff-d8a1-4454-8504-e6d7ce979230",
      "cell_type": "code",
      "source": "exercicio5 = exercicio5.merge(nome_cargo, how = 'left', left_on = 'CD_FUC_CRG_EFT', right_on = 'CD_FUC_FUN')\nexercicio5.drop(columns = 'CD_FUC_FUN', inplace = True)\nexercicio5.rename(columns={'NM_FUC_FUN': 'NM_FUC_CRG_EFT'}, inplace=True)",
      "metadata": {
        "trusted": true
      },
      "outputs": [],
      "execution_count": 209
    },
    {
      "id": "d4c3dd76-866f-4a1a-9a85-cbd424e9f27c",
      "cell_type": "code",
      "source": "exercicio5['CD_PRF_DEPE_LCZC'] = exercicio4['CD_PRF_DEPE_LCZC'].copy()\nexercicio5['DT_PSSE_LCZC'] = exercicio4['DT_PSSE_LCZC'].copy()\nexercicio5['DT_PSSE_BB'] = exercicio4['DT_PSSE_BB'].copy()\nexercicio5['DT_NSC'] = exercicio4['DT_NSC'].copy()\nexercicio5['CD_TIP_GNR'] = exercicio4['CD_TIP_GNR'].copy()\nexercicio5['SG_TIP_EST_CVL'] = exercicio4['SG_TIP_EST_CVL'].copy()",
      "metadata": {
        "trusted": true
      },
      "outputs": [],
      "execution_count": 210
    },
    {
      "id": "f4b6bae4-b916-42f0-b838-7cc2e089ccde",
      "cell_type": "code",
      "source": "exercicio5['NM_TIP_EST_CVL'] = exercicio5['SG_TIP_EST_CVL'].apply(lambda x: 'SOLTEIRO(A)' if x == '1' else 'CASADO(A)' if x == '2' else\n                                                                 'CASADO(A) COM FUNCIONARIA(O)' if x == '3' else 'VIUVO(A)' if x == '4' else\n                                                                 'SEPARADO(A) JUDICIAL OU EXTRAJ' if x == '5' else 'DIVORCIADO(A)' if x == '8' else\n                                                                 'SEPARADO(A) CONSENSUALMENTE')",
      "metadata": {
        "trusted": true
      },
      "outputs": [],
      "execution_count": 211
    },
    {
      "id": "4553ea26-b273-470e-bdd6-162aa05f812e",
      "cell_type": "code",
      "source": "exercicio5['CD_TIP_NVL_ITC'] = exercicio4['CD_TIP_NVL_ITC'].copy()\nexercicio5['NM_TIP_NVL_ITC'] = exercicio5['CD_TIP_NVL_ITC'].apply(lambda x: 'ENSINO FUNDAMENTAL' if x == 1 else 'ENSINO MEDIO' if x == 2 else\n                                                                 'SUPERIOR EM ANDAMENTO' if x == 3 else 'SUPERIOR SEQUENCIAL' if x == 4 else\n                                                                 'SUPERIOR GRADUACAO' if x == 5 else 'POS-GRADUACAO-APERFEIC' if x == 6 else\n                                                                 'POS-GRADUCAO-ESPEC' if x == 7 else 'MESTRADO' if x == 8 else 'DOUTORADO')",
      "metadata": {
        "trusted": true
      },
      "outputs": [],
      "execution_count": 212
    },
    {
      "id": "cdb5bbd0-df5e-48af-be01-5afb158d478a",
      "cell_type": "markdown",
      "source": "# Exercício 6 - Tabela Catálogo de Cursos\n\n<b>Nível de dificuldade (1 a 5):</b> 3\n\n<b>Ordem:</b> qualquer\n\nCriar um DataFrame Pandas chamado <b>exercicio6</b> contendo o catálodo de cursos e formações do Banco, conforme abaixo:\n\n||Nome Lógico|Nome Físico|Formato|Descrição|Aceita Nulos|Tabela Origem|Atributo Origem|\n|---|---|---|---|---|---|---|---|\n|1|Código do Curso|?|Int64|Identificador do curso. Campo numérico de 7 posições. |N|?|?|\n|2|Nome do Curso|?|object|Nome genérico do curso. |N|?|?|\n|3|Texto do Curso|?|object|Breve descrição do assunto abordado pelo curso. |N|?|?|\n|4|Texto do Objetivo do Curso|?|object|Texto que descreve o objetivo do curso. |N|?|?|\n|5|Texto do Desempenho Esperado|?|object|Texto que descreve o desempenho esperado no curso para o treinando. |S|?|?|\n|6|Texto do Objetivo Estratégico|?|object|Texto que descreve quais são os objetivos estratégicos do curso. |S|?|?|\n|7|Código da Área de Conhecimento|?|Int64|Código da área de conhecimento do curso. Campo numérico de 3. Exemplo: Área: 170 (Será este atributo) Subárea: 170.050 conhecimento: 170.050.0025.|S|?|?|\n|8|Nome da Área de Conhecimento|?|object|Descrição da área de conhecimento do curso.|S|?|?|\n|9|Código da Sub Área de Conhecimento|?|Int64|Código da sub-área do conhecimento. Exemplo: Área: 170 Subárea: 170.050 (Será o 050) conhecimento: 170.050.0025.|S|?|?|\n|10|Nome da Sub Área de Conhecimento|?|object|Descrição da sub-área do conhecimento.|S|?|?|\n|11|Código do Conhecimento do Curso|?|Int64|Código do conhecimento. Identifica o conhecimento do curso.|N|?|?|\n|12|Nome do Conhecimento do Curso|?|object|Descrição do conhecimento do curso.|S|?|?|\n|13|Quantidade de Carga Horária do Curso|?|Int64|Carga horária total do curso em horas|S|?|?|\n|14|Código do Tipo da Formação Superior|?|Int64|Código identificador da formação superior. Ex:   35- Pós-Graduação;  36- Mestrado;  37- Doutorado. |S|?|?|\n|15|Texto do Tipo da Formação Superior|?|object|Descrição da formação superior. |S|?|?|\n|16|Código da Modalidade do Curso|?|Int64|Indica o código da modalidade do curso. Sendo: 01 - Presencial; 02 - Auto-instrucional; 03 - Em serviço; 09 - A regularizar |N|?|?|\n|17|Código do Nível do Curso|?|Int64|Identificador do tipo do nível do curso (enfoque de aprendizagem). Sendo: 01 - Fundamental; 02 - Instrumental; 03 - Estratégico; 04 - Acadêmico; 09 - A classificar. |N|?|?|\n|18|Código da Natureza do Curso|?|Int64|Identificador da natureza do curso. 01 - Atualização; 02 - Formação; 03 - Aperfeiçoamento; 04 - Qualificação. |N|?|?|\n|19|Código do Tipo de Origem do Curso|?|Int64|Código dos tipos de origem do curso. 01 - Desenvolvido pelo banco; 02 - Contratado no mercado; 03 - Em parceria |N|?|?|\n|20|Código do Tipo de Público|?|Int64|Código dos tipos de público (participação) que o curso pode ter. Ex.: 1- Interno;  2- externo; 3- misto. |N|?|?|\n|21|Indicador de Vigência do Curso|?|object|Indica a utilização do curso. Possíveis valores: \"S\" - (SIM) Em Linha; \"N\" - (NÃO) Fora de linha |N|?|?|\n|22|Indicador de Trilha de Estratégica|?|object|Indica se o curso faz parte da Trilha de Estratégica de Capacitação. Possíveis valores: \"S\" - (SIM); \"N\" - (NÃO)|N|?|?|\n|23|Nome da Etapa|?|object|Descrição do tema da etapa de capacitação para os cursos que fazem parte da Trilha Estratégica. Possíveis valores: ASG, NEGOCIOS, LIDERANCA, TRANSFORMACAO DIGITAL. Formato: caixa alta, sem acentuação.|S|?|?|\n\n<b>Regra 1:</b> todas as colunas de texto devem ser formatadas conforme o padrão caixa alta e sem acento.\n\n<b>Regra 2:</b> os registros das colunas de texto que contiverem nulos deverão permanecer nulos ao final das transformações.\n\n<b>Regra 3:</b> excluir registros que atendam a alguma das regras abaixo:\n\n- quando o Texto do Objetivo do Curso for igual a 'TESTE EDUCA' ou 'TESTE GTD' ou 'TESTE' ou 'TESTANDO' ou 'DADFAFD' ou 'SGASDG' ou 'NXYZ' ou 'R';\n- quando o Texto do Objetivo do Curso for igual a 'A' e o Código da Área de Conhecimento for nulo;\n- quando o Nome do Curso contiver 'EXCEL TESTE' ou 'TESTE DISCIPLINA' ou 'EXCLUIR' ou 'ALURA';\n- quando o Nome do curso for contiver 'TESTE' e o Código da Área de Conhecimento for nulo, com exceção do curso 7740;\n- quando o Nome do curso for contiver 'TESTE' e o Texto do Objetivo do Curso for igual a '.';\n- quando o Texto do Curso contiver 'TESTE MATERIAL' ou 'TESTE GERAL'.\n- quando o Nome do curso ou o Texto do Curso contiverem 'EXCLUIDO'.",
      "metadata": {
        "tags": []
      }
    },
    {
      "id": "2b30d9b9-cdce-4f01-825c-c29838a9c319",
      "cell_type": "code",
      "source": "curso1 = pd.read_csv('bases/CSO/cso01.zip')\ncurso2 = pd.read_csv('bases/CSO/cso02.zip')\ncurso3 = pd.read_csv('bases/CSO/cso03.zip')\nlista_curso = [curso1, curso2, curso3]\ncurso = pd.concat(lista_curso)",
      "metadata": {
        "trusted": true
      },
      "outputs": [],
      "execution_count": 213
    },
    {
      "id": "08b192a7-cc92-4e0e-84e6-c9b9d8854861",
      "cell_type": "code",
      "source": "curso['NM_CSO'] = curso['NM_CSO'].apply(lambda x: x.upper())\ncurso['NM_CSO'] = curso['NM_CSO'].apply(lambda x: unidecode(x))\n\ncurso['TX_CSO'] = curso['TX_CSO'].apply(lambda x: x.upper())\ncurso['TX_CSO'] = curso['TX_CSO'].apply(lambda x: unidecode(x))\n\ncurso['TX_OBJT_CSO'] = curso['TX_OBJT_CSO'].apply(lambda x: x.upper())\ncurso['TX_OBJT_CSO'] = curso['TX_OBJT_CSO'].apply(lambda x: unidecode(x))\n\ncurso['TX_DSMP_EPRO'] = curso['TX_DSMP_EPRO'].apply(lambda x: np.NaN if pd.isna(x) else x.upper())\ncurso['TX_DSMP_EPRO'] = curso['TX_DSMP_EPRO'].apply(lambda x: np.NaN if pd.isna(x) else unidecode(x))\n\ncurso['TX_OBJT_ESTG'] = curso['TX_OBJT_ESTG'].apply(lambda x: np.NaN if pd.isna(x) else x.upper())\ncurso['TX_OBJT_ESTG'] = curso['TX_OBJT_ESTG'].apply(lambda x: np.NaN if pd.isna(x) else unidecode(x))\n\ncurso['CD_CSO'] = curso['CD_CSO'].astype('Int64')",
      "metadata": {
        "trusted": true
      },
      "outputs": [],
      "execution_count": 214
    },
    {
      "id": "4f712a5e-9d1e-4969-9914-75f5e0ec251a",
      "cell_type": "code",
      "source": "area_cnh = pd.read_csv('bases/AREA_CNH.csv')",
      "metadata": {
        "trusted": true
      },
      "outputs": [],
      "execution_count": 215
    },
    {
      "id": "ef721ef6-9745-44db-a3ba-c4f8b722ce27",
      "cell_type": "code",
      "source": "cnh = pd.read_csv('bases/CNH.csv')",
      "metadata": {
        "trusted": true
      },
      "outputs": [],
      "execution_count": 216
    },
    {
      "id": "0addbfba-57b5-45b9-b55c-1710a4d9d725",
      "cell_type": "code",
      "source": "curso = curso.merge(cnh, how = 'left', left_on = 'CD_CNH_CSO', right_on = 'CD_CNH')",
      "metadata": {
        "trusted": true
      },
      "outputs": [],
      "execution_count": 217
    },
    {
      "id": "080f3228-b5b5-4d2b-8b94-11889f576477",
      "cell_type": "code",
      "source": "curso['CD_AREA_CNH'] = curso['CD_AREA_CNH'].astype('Int64')\narea_cnh['CD_AREA_CNH'] = area_cnh['CD_AREA_CNH'].astype('Int64')\ncurso = curso.merge(area_cnh, how = 'left', left_on = 'CD_AREA_CNH', right_on = 'CD_AREA_CNH')",
      "metadata": {
        "trusted": true
      },
      "outputs": [],
      "execution_count": 218
    },
    {
      "id": "4c95042a-9ce0-4222-8977-9a9bd0193831",
      "cell_type": "code",
      "source": "subarea = pd.read_csv('bases/SUB_AREA_CNH.csv')",
      "metadata": {
        "trusted": true
      },
      "outputs": [],
      "execution_count": 219
    },
    {
      "id": "111acc7d-4892-496f-9e98-08c76ea79ef9",
      "cell_type": "code",
      "source": "curso['CD_SUB_AREA_CNH'] = curso['CD_SUB_AREA_CNH'].astype('Int64')\nsubarea['CD_SUB_AREA_CNH'] = subarea['CD_SUB_AREA_CNH'].astype('Int64')\nsubarea['CD_AREA_CNH'] = subarea['CD_AREA_CNH'].astype('Int64')\ncurso = curso.merge(subarea, how = 'left', left_on = ['CD_AREA_CNH', 'CD_SUB_AREA_CNH'], right_on = ['CD_AREA_CNH', 'CD_SUB_AREA_CNH'])",
      "metadata": {
        "trusted": true
      },
      "outputs": [],
      "execution_count": 220
    },
    {
      "id": "3ee266a6-9657-4d2f-9c4e-647d011afbd2",
      "cell_type": "code",
      "source": "frm_sup = pd.read_csv('bases/TIP_FRMC_SUPR.csv')",
      "metadata": {
        "trusted": true
      },
      "outputs": [],
      "execution_count": 221
    },
    {
      "id": "9bc554f0-488f-402c-aad9-0235d10f3f57",
      "cell_type": "code",
      "source": "curso['CD_TIP_FRMC_SUPR'] = curso['CD_TIP_FRMC_SUPR'].astype('Int64')\nfrm_sup['CD_TIP_FRMC_SUPR'] = frm_sup['CD_TIP_FRMC_SUPR'].astype('Int64')\ncurso = curso.merge(frm_sup, how = 'left', left_on = 'CD_TIP_FRMC_SUPR', right_on = 'CD_TIP_FRMC_SUPR')",
      "metadata": {
        "trusted": true
      },
      "outputs": [],
      "execution_count": 222
    },
    {
      "id": "f580183f-cce1-48d4-8671-d0ac78968dac",
      "cell_type": "code",
      "source": "capacitacao = pd.read_csv('bases/lista_treinamentos.csv')",
      "metadata": {
        "trusted": true
      },
      "outputs": [],
      "execution_count": 223
    },
    {
      "id": "578ea60f-bc85-4106-906d-4789878d0af0",
      "cell_type": "code",
      "source": "capacitacao['Código Educa'] = capacitacao['Código Educa'].astype('Int64')\ncurso = curso.merge(capacitacao, how = 'left', left_on = 'CD_CSO', right_on = 'Código Educa')",
      "metadata": {
        "trusted": true
      },
      "outputs": [],
      "execution_count": 224
    },
    {
      "id": "0e9565fc-5a33-4761-ac22-a1f7e3fd8272",
      "cell_type": "code",
      "source": "curso['IN_TRLA_ESTG'] = curso['Título'].apply(lambda x: 'N' if pd.isna(x) else 'S')\ncurso['Etapa'] = curso['Etapa'].apply(lambda x: np.NaN if pd.isna(x) else x.upper())\ncurso['Etapa'] = curso['Etapa'].apply(lambda x: np.NaN if pd.isna(x) else unidecode(x))",
      "metadata": {
        "trusted": true
      },
      "outputs": [],
      "execution_count": 225
    },
    {
      "id": "85894890-6e08-40d0-9f38-b52d1ad17fd6",
      "cell_type": "code",
      "source": "exercicio6 = pd.DataFrame()\nexercicio6['CD_CSO'] = curso['CD_CSO'].copy()\nexercicio6['NM_CSO'] = curso['NM_CSO'].copy()\nexercicio6['TX_CSO'] = curso['TX_CSO'].copy()\nexercicio6['TX_OBJT_CSO'] = curso['TX_OBJT_CSO'].copy()\nexercicio6['TX_DSMP_EPRO'] = curso['TX_DSMP_EPRO'].copy()\nexercicio6['TX_OBJT_ESTG'] = curso['TX_OBJT_ESTG'].copy()\n\nexercicio6['CD_AREA_CNH'] = curso['CD_AREA_CNH']\n\ncurso['NM_AREA_CNH'] = curso['NM_AREA_CNH'].apply(lambda x: np.NaN if pd.isna(x) else x.upper())\ncurso['NM_AREA_CNH'] = curso['NM_AREA_CNH'].apply(lambda x: np.NaN if pd.isna(x) else unidecode(x))\nexercicio6['NM_AREA_CNH'] = curso['NM_AREA_CNH']\n\nexercicio6['CD_SUB_AREA_CNH'] = curso['CD_SUB_AREA_CNH']\n\ncurso['NM_SUB_AREA_CNH'] = curso['NM_SUB_AREA_CNH'].apply(lambda x: np.NaN if pd.isna(x) else x.upper())\ncurso['NM_SUB_AREA_CNH'] = curso['NM_SUB_AREA_CNH'].apply(lambda x: np.NaN if pd.isna(x) else unidecode(x))\nexercicio6['NM_SUB_AREA_CNH'] = curso['NM_SUB_AREA_CNH']\n\ncurso['CD_CNH_CSO'] = curso['CD_CNH_CSO'].astype('Int64')\nexercicio6['CD_CNH_CSO'] = curso['CD_CNH_CSO']\n\ncurso['NM_CNH'] = curso['NM_CNH'].apply(lambda x: np.NaN if pd.isna(x) else x.upper())\ncurso['NM_CNH'] = curso['NM_CNH'].apply(lambda x: np.NaN if pd.isna(x) else unidecode(x))\nexercicio6['NM_CNH_CSO'] = curso['NM_CNH']\n\ncurso['CGHR_CSO'] = curso['CGHR_CSO'].astype('Int64')\nexercicio6['QT_CGHR_CSO'] = curso['CGHR_CSO']\n\nexercicio6['CD_TIP_FRMC_SUPR'] = curso['CD_TIP_FRMC_SUPR']\n\ncurso['TX_TIP_FRMC_SUPR'] = curso['TX_TIP_FRMC_SUPR'].apply(lambda x: np.NaN if pd.isna(x) else x.upper())\ncurso['TX_TIP_FRMC_SUPR'] = curso['TX_TIP_FRMC_SUPR'].apply(lambda x: np.NaN if pd.isna(x) else unidecode(x))\nexercicio6['TX_TIP_FRMC_SUPR'] = curso['TX_TIP_FRMC_SUPR']\n\ncurso['CD_MDLD_CSO'] = curso['CD_MDLD_CSO'].astype('Int64')\nexercicio6['CD_MDLD_CSO'] = curso['CD_MDLD_CSO']\n\ncurso['CD_NVL_CSO'] = curso['CD_NVL_CSO'].astype('Int64')\nexercicio6['CD_NVL_CSO'] = curso['CD_NVL_CSO']\n\ncurso['CD_NTZ_CSO'] = curso['CD_NTZ_CSO'].astype('Int64')\nexercicio6['CD_NTZ_CSO'] = curso['CD_NTZ_CSO']\n\ncurso['CD_TIP_OGM_CSO'] = curso['CD_TIP_OGM_CSO'].astype('Int64')\nexercicio6['CD_TIP_OGM_CSO'] = curso['CD_TIP_OGM_CSO']\n\ncurso['CD_TIP_PBCO'] = curso['CD_TIP_PBCO'].astype('Int64')\nexercicio6['CD_TIP_PBCO'] = curso['CD_TIP_PBCO']\n\nexercicio6['IN_VGC_CSO'] = curso['IN_VGC_CSO']\n\nexercicio6['IN_TRLA_ESTG'] = curso['IN_TRLA_ESTG']\n\nexercicio6['NM_ETP'] = curso['Etapa']",
      "metadata": {
        "trusted": true
      },
      "outputs": [],
      "execution_count": 226
    },
    {
      "id": "fe5fa230-84e6-433d-9674-68122529148c",
      "cell_type": "code",
      "source": "drop1 = exercicio6.query('TX_OBJT_CSO == \"TESTE EDUCA\" | TX_OBJT_CSO == \"TESTE GTD\" | TX_OBJT_CSO == \"TESTE\" | TX_OBJT_CSO == \"TESTANDO\" | TX_OBJT_CSO == \"DADFAFD\" | TX_OBJT_CSO == \"SGASDG\" | TX_OBJT_CSO == \"NXYZ\" | TX_OBJT_CSO == \"R\"').index\nexercicio6.drop(drop1, axis = 'index', inplace = True)",
      "metadata": {
        "trusted": true
      },
      "outputs": [],
      "execution_count": 227
    },
    {
      "id": "4f7a7b12-8b79-418e-a6fb-15adcce1e542",
      "cell_type": "code",
      "source": "nulo_area = exercicio6['CD_AREA_CNH'].isnull()\ndrop2 = exercicio6[nulo_area].query('TX_OBJT_CSO == \"A\"').index\nexercicio6.drop(drop2, axis = 'index', inplace = True)",
      "metadata": {
        "trusted": true
      },
      "outputs": [],
      "execution_count": 228
    },
    {
      "id": "5ffb1750-ad90-4175-aea1-d5fcf218321f",
      "cell_type": "code",
      "source": "drop3 = []\nexcel = exercicio6['NM_CSO'].str.contains('EXCEL TESTE')\ndrop3.extend(exercicio6[excel].index)\n\nteste_disc = exercicio6['NM_CSO'].str.contains('TESTE DISCIPLINA')\ndrop3.extend(exercicio6[teste_disc].index)\n\nexcluir = exercicio6['NM_CSO'].str.contains('EXCLUIR')\ndrop3.extend(exercicio6[excluir].index)\n\nalura = exercicio6['NM_CSO'].str.contains('ALURA')\ndrop3.extend(exercicio6[alura].index)\n\nexercicio6.drop(drop3, axis = 'index', inplace = True)",
      "metadata": {
        "trusted": true
      },
      "outputs": [],
      "execution_count": 229
    },
    {
      "id": "7512919e-d1de-4811-8c7f-34ef979413cf",
      "cell_type": "code",
      "source": "nulo_area_cnh = exercicio6['CD_AREA_CNH'].isnull()\ndrop4 = exercicio6[nulo_area_cnh].query('NM_CSO.str.contains(\"TESTE\") & CD_CSO != 7740').index\nexercicio6.drop(drop4, axis = 'index', inplace = True)",
      "metadata": {
        "trusted": true
      },
      "outputs": [],
      "execution_count": 230
    },
    {
      "id": "45dceea9-8e48-41bf-96d3-5a644dbd8240",
      "cell_type": "code",
      "source": "drop5 = exercicio6.query('NM_CSO.str.contains(\"TESTE\") & TX_OBJT_CSO == \".\"').index\nexercicio6.drop(drop5, axis = 'index', inplace = True)",
      "metadata": {
        "trusted": true
      },
      "outputs": [],
      "execution_count": 231
    },
    {
      "id": "bb747784-2ed4-469f-9b42-04d41118ae76",
      "cell_type": "code",
      "source": "drop6 = exercicio6.query('TX_CSO.str.contains(\"TESTE MATERIAL\") | TX_CSO.str.contains(\"TESTE GERAL\")').index\nexercicio6.drop(drop6, axis = 'index', inplace = True)",
      "metadata": {
        "trusted": true
      },
      "outputs": [],
      "execution_count": 232
    },
    {
      "id": "b57cae9c-6626-4bac-b76a-2b7c5e2fb84f",
      "cell_type": "code",
      "source": "drop7 = exercicio6.query('NM_CSO.str.contains(\"EXCLUIDO\") | TX_CSO.str.contains(\"EXCLUIDO\")').index\nexercicio6.drop(drop7, axis = 'index', inplace = True)\nexercicio6.info()",
      "metadata": {
        "trusted": true
      },
      "outputs": [
        {
          "name": "stdout",
          "text": "<class 'pandas.core.frame.DataFrame'>\nInt64Index: 34322 entries, 2 to 34359\nData columns (total 23 columns):\n #   Column            Non-Null Count  Dtype \n---  ------            --------------  ----- \n 0   CD_CSO            34322 non-null  Int64 \n 1   NM_CSO            34322 non-null  object\n 2   TX_CSO            34322 non-null  object\n 3   TX_OBJT_CSO       34322 non-null  object\n 4   TX_DSMP_EPRO      33577 non-null  object\n 5   TX_OBJT_ESTG      34315 non-null  object\n 6   CD_AREA_CNH       34052 non-null  Int64 \n 7   NM_AREA_CNH       34050 non-null  object\n 8   CD_SUB_AREA_CNH   34052 non-null  Int64 \n 9   NM_SUB_AREA_CNH   34052 non-null  object\n 10  CD_CNH_CSO        34322 non-null  Int64 \n 11  NM_CNH_CSO        34052 non-null  object\n 12  QT_CGHR_CSO       5295 non-null   Int64 \n 13  CD_TIP_FRMC_SUPR  28717 non-null  Int64 \n 14  TX_TIP_FRMC_SUPR  28717 non-null  object\n 15  CD_MDLD_CSO       34322 non-null  Int64 \n 16  CD_NVL_CSO        34322 non-null  Int64 \n 17  CD_NTZ_CSO        34322 non-null  Int64 \n 18  CD_TIP_OGM_CSO    34322 non-null  Int64 \n 19  CD_TIP_PBCO       34322 non-null  Int64 \n 20  IN_VGC_CSO        34322 non-null  object\n 21  IN_TRLA_ESTG      34322 non-null  object\n 22  NM_ETP            89 non-null     object\ndtypes: Int64(11), object(12)\nmemory usage: 5.1+ MB\n",
          "output_type": "stream"
        }
      ],
      "execution_count": 233
    },
    {
      "id": "74ae8405-17db-4826-9a83-48553435f350",
      "cell_type": "markdown",
      "source": "# Exercício 7 - Nova tabela de UOR\n\n<b>Nível de dificuldade (1 a 5):</b> 4\n\n<b>Requisitos:</b> exercícios 1 e 2\n\nCriar um DataFrame Pandas chamado <b>exercicio7</b> contendo as informações das UOR e Vice-Presidência jurisdicionante, conforme abaixo:\n\n||Nome Lógico|Nome Físico|Formato|Descrição|Aceita Nulos|Tabela Origem|Atributo Origem|\n|---|---|---|---|---|---|---|---|\n|1|Código da Dependência da Unidade Organizacional|?|Int64|Código identificador de Dependências de Instituições Organizacionais. No BB atualmente é utilizado os domínios entre 1 e 9999.|N|?|?\n|2|Código da Unidade Organizacional|?|Int64|Código identificador de Unidade Organizacional (UOR) do conglomerado Banco do Brasil (no Brasil e Exterior) ou UOR externas que o BB tenha algum tipo de relacionamento ou interesse em identificá-las.|N|?|?\n|3|Sigla da Unidade Organizacional|?|object|Reunião das letras iniciais dos vocábulos fundamentais de uma denominação ou título, sem articulação prosódica, constituindo meras abreviaturas. Ex.: \"DITEC\", \"GBASE\", \"DIREO\", \"PRESI\", etc.|S|?|?\n|4|Nome da Unidade Organizacional Reduzido|?|object|Nome reduzido da Unidade Organizacional.|N|?|?\n|5|Código da Dependência da Vice-Presidência|?|Int64|Código identificador da Dependência da Vice-Presidência jurisdicionante da UOR.|S|?|?\n|6|Sigla da Vice-Presidência|?|object|Sigla da Vice-Presidência jurisdicionante da UOR.|S|?|?\n\n<b>Regra:</b> considere apenas as UORs cujo Item de Arquitetura corresponda a \"DIRETORIA\" ou \"UNIDADE\".\n\n<b>Dica:</b> atenção no momento de fazer a junção das tabelas de UOR e Vínculo de UOR. Lembrando que uma mesma dependência possui várias UORs além da principal. Consulte a documentação das tabelas.",
      "metadata": {
        "tags": []
      }
    },
    {
      "id": "13ce2e79-a47f-44b0-9c51-07c4314eff31",
      "cell_type": "code",
      "source": "arquitetura = pd.read_csv('bases/ITEM_AQTT_UOR.csv', sep = ';')",
      "metadata": {
        "trusted": true
      },
      "outputs": [],
      "execution_count": 234
    },
    {
      "id": "d9e51f43-a48b-4b22-ba9d-06e9994210ce",
      "cell_type": "code",
      "source": "arquitetura['NM_ITEM_AQTT_UOR'].unique()\narquitetura.query('NM_ITEM_AQTT_UOR.str.contains(\"VICE-PRESIDENCIA\")')",
      "metadata": {
        "trusted": true
      },
      "outputs": [
        {
          "execution_count": 235,
          "output_type": "execute_result",
          "data": {
            "text/plain": "    CD_ITEM_AQTT_UOR                        NM_ITEM_AQTT_UOR\n12                16    VICE-PRESIDENCIA                    ",
            "text/html": "<div>\n<style scoped>\n    .dataframe tbody tr th:only-of-type {\n        vertical-align: middle;\n    }\n\n    .dataframe tbody tr th {\n        vertical-align: top;\n    }\n\n    .dataframe thead th {\n        text-align: right;\n    }\n</style>\n<table border=\"1\" class=\"dataframe\">\n  <thead>\n    <tr style=\"text-align: right;\">\n      <th></th>\n      <th>CD_ITEM_AQTT_UOR</th>\n      <th>NM_ITEM_AQTT_UOR</th>\n    </tr>\n  </thead>\n  <tbody>\n    <tr>\n      <th>12</th>\n      <td>16</td>\n      <td>VICE-PRESIDENCIA</td>\n    </tr>\n  </tbody>\n</table>\n</div>"
          },
          "metadata": {}
        }
      ],
      "execution_count": 235
    },
    {
      "id": "36b54f61-2da0-400b-82a6-034657897251",
      "cell_type": "code",
      "source": "ex2 = exercicio2.copy()",
      "metadata": {
        "trusted": true
      },
      "outputs": [],
      "execution_count": 236
    },
    {
      "id": "cb90794b-4d88-4dc6-a742-fa2899588269",
      "cell_type": "code",
      "source": "ex1 = exercicio1.copy()",
      "metadata": {
        "trusted": true
      },
      "outputs": [],
      "execution_count": 237
    },
    {
      "id": "4aa24152-6c0b-4698-83c1-c0e9aca1693c",
      "cell_type": "code",
      "source": "vice_pres = ex2.query('CD_ITEM_AQTT_UOR == 16')",
      "metadata": {
        "trusted": true
      },
      "outputs": [],
      "execution_count": 238
    },
    {
      "id": "c31340e5-2917-45ae-92df-3f8b5b4cb738",
      "cell_type": "code",
      "source": "ex2_selecionado = ex2.query('CD_ITEM_AQTT_UOR == 2 | CD_ITEM_AQTT_UOR == 3')",
      "metadata": {
        "trusted": true
      },
      "outputs": [],
      "execution_count": 239
    },
    {
      "id": "58c7ddd7-1967-498a-b8d6-6bf6a298b90d",
      "cell_type": "code",
      "source": "vice_pres_vinc = ex1.merge(vice_pres, how = 'inner', left_on = 'CD_UOR_VCLR', right_on = 'CD_UOR')",
      "metadata": {
        "trusted": true
      },
      "outputs": [],
      "execution_count": 240
    },
    {
      "id": "bf3eeb19-5bc3-4313-a466-ae23d64d02c3",
      "cell_type": "code",
      "source": "ex2_merge = ex2_selecionado.merge(vice_pres_vinc, how = 'left', left_on = 'CD_UOR', right_on = 'CD_UOR_VCLD')",
      "metadata": {
        "trusted": true
      },
      "outputs": [],
      "execution_count": 241
    },
    {
      "id": "497d2ebe-8464-45e7-8644-082c1a4b4050",
      "cell_type": "code",
      "source": "ex2_merge.drop_duplicates(subset = 'CD_UOR_x', keep = 'first', inplace = True)",
      "metadata": {
        "trusted": true
      },
      "outputs": [],
      "execution_count": 242
    },
    {
      "id": "5710f5c4-3439-4ae6-873a-22492fba8c89",
      "cell_type": "code",
      "source": "exercicio7 = pd.DataFrame()",
      "metadata": {
        "trusted": true
      },
      "outputs": [],
      "execution_count": 243
    },
    {
      "id": "b4f5ecd1-c77b-401b-bbc1-732d5bedd975",
      "cell_type": "code",
      "source": "exercicio7['CD_DEPE_UOR'] = ex2_merge['CD_DEPE_UOR_x']\nexercicio7['CD_UOR'] = ex2_merge['CD_UOR_x']\nexercicio7['SG_UOR'] = ex2_merge['SG_UOR_x']\nexercicio7['NM_UOR_RDZ'] = ex2_merge['NM_UOR_RDZ_x']\nexercicio7['CD_DEPE_VICE_PRSA'] = ex2_merge['CD_DEPE_UOR_y']\nexercicio7['SG_VICE_PRSA'] = ex2_merge['SG_UOR_y']",
      "metadata": {
        "trusted": true
      },
      "outputs": [],
      "execution_count": 244
    },
    {
      "id": "ccdff524-5bd8-4e4c-94e9-df85d81260f8",
      "cell_type": "code",
      "source": "exercicio7.drop_duplicates(subset = 'CD_DEPE_UOR', keep = 'first', inplace = True)\nexercicio7.info()",
      "metadata": {
        "trusted": true
      },
      "outputs": [
        {
          "name": "stdout",
          "text": "<class 'pandas.core.frame.DataFrame'>\nInt64Index: 55 entries, 0 to 89\nData columns (total 6 columns):\n #   Column             Non-Null Count  Dtype \n---  ------             --------------  ----- \n 0   CD_DEPE_UOR        55 non-null     Int64 \n 1   CD_UOR             55 non-null     Int64 \n 2   SG_UOR             55 non-null     object\n 3   NM_UOR_RDZ         55 non-null     object\n 4   CD_DEPE_VICE_PRSA  37 non-null     Int64 \n 5   SG_VICE_PRSA       37 non-null     object\ndtypes: Int64(3), object(3)\nmemory usage: 2.5+ KB\n",
          "output_type": "stream"
        }
      ],
      "execution_count": 245
    },
    {
      "id": "fd2aa4df-e4f6-414d-8a58-8e9c70431e27",
      "cell_type": "markdown",
      "source": "# Exercício 8 - Verificação do cumprimento do indicador - Parte 1\n\n<b>Nível de dificuldade (1 a 5):</b> 4\n\n<b>Requisitos:</b> exercícios 4 e 6\n\nCriar um DataFrame Pandas chamado <b>exercicio8</b> contendo as informações consolidadas de todos os funcionários dos prefixos alvo da análise, conforme abaixo:\n\n||Nome Lógico|Nome Físico|Formato|Descrição|Aceita Nulos|Tabela Origem|Atributo Origem|\n|---|---|---|---|---|---|---|---|\n|1|Código da Matrícula do Funcionário|?|Int64|Código da matrícula (F) do funcionário. |N|?|?|\n|2|Código da Unidade Organizacional de Localização|?|Int64|Código da UOR de localização do funcionário.|N|?|?|\n|3|Quantidade Total de Cursos|?|Int64|Quantidade total de cursos realizados pelo funcionário no ano atual|N|?|?|\n|4|Quantidade Total de Cursos da Trilha|?|Int64|Quantidade total de cursos da Trilha Estratégica realizados pelo funcionário até o momento|N|?|?|\n|5|Quantidade Total de Horas no Primeiro Semestre|?|Int64|Quantidade total de horas de treinamento realizadas pelo funcionário no primeiro semestre do ano atual|N|?|?|\n|6|Quantidade Total de Horas da Trilha no Primeiro Semestre|?|Int64|Quantidade total de horas de treinamento da Trilha Estratégica realizadas pelo funcionário no primeiro semestre do ano atual|N|?|?|\n|7|Quantidade Total de Horas no Segundo Semestre|?|Int64|Quantidade total de horas de treinamento realizadas pelo funcionário no segundo semestre do ano atual|N|?|?|\n|8|Quantidade Total de Horas da Trilha no Segundo Semestre|?|Int64|Quantidade total de horas de treinamento da Trilha Estratégica realizadas pelo funcionário no segundo semestre do ano atual|N|?|?|\n|9|Indicador de Cumprimento Total da Trilha no Primeiro Semestre|?|object|Indicador que sinaliza se o funcionário realizou todos os cursos da Trilha Estratégica até o primeiro semestre. Possíveis valores: \"S\" ou \"N\".|N|?|?|\n|10|Indicador de Cumprimento Total da Trilha no Segundo Semestre|?|object|Indicador que sinaliza se o funcionário realizou todos os cursos da Trilha Estratégica até o semestre. Possíveis valores: \"S\" ou \"N\".|N|?|?|\n\n<b>Regra1:</b> ignorar os cursos para os quais não houver informação sobre a Carga Horária.\n\n<b>Regra2:</b> atentar para a ocorrência de registros duplicados.\n\n<b>Dica:</b> verifique os prefixos alvo da análise na descrição do desafio.",
      "metadata": {}
    },
    {
      "id": "87ec1a4d-a839-4ad7-96b4-2b74da023076",
      "cell_type": "code",
      "source": "prefixos = pd.DataFrame({'Prefixo': [8008, 8556, 8559, 8593, 9797, 9880, 9968, 9973], 'Sigla': ['DIREC', 'DICRE', 'DIPES', 'DIGOV', 'UCI', 'DIMEP', 'UAN', 'DIEMP']})",
      "metadata": {
        "trusted": true
      },
      "outputs": [],
      "execution_count": 246
    },
    {
      "id": "57328271-0084-41ec-be62-31c5829c5de3",
      "cell_type": "code",
      "source": "ex3 = exercicio3.copy()\nex3['Ano_de_conclusão'] = ex3['DT_FIM_CSO'].apply(lambda x: x.year)",
      "metadata": {
        "trusted": true
      },
      "outputs": [],
      "execution_count": 247
    },
    {
      "id": "ef476112-f7fb-41ba-8ccf-3c48b302e70a",
      "cell_type": "code",
      "source": "ex4 = exercicio4.copy()",
      "metadata": {
        "trusted": true
      },
      "outputs": [],
      "execution_count": 248
    },
    {
      "id": "2c9cc73f-3933-4350-a2eb-bf91fd1c1dbc",
      "cell_type": "code",
      "source": "curso_1 = pd.read_csv('bases/CSO/cso01.zip')\ncurso_2 = pd.read_csv('bases/CSO/cso02.zip')\ncurso_3 = pd.read_csv('bases/CSO/cso03.zip')\nlista_curso = [curso1, curso2, curso3]\ncurso_ex8 = pd.concat(lista_curso)\ncurso_ex8 = curso_ex8.drop(['NM_CSO', 'TX_CSO', 'TX_OBJT_CSO', 'TX_DSMP_EPRO', 'TX_OBJT_ESTG', 'CD_CNH_CSO', 'CD_MDLD_CSO', 'CD_NVL_CSO', 'CD_NTZ_CSO', 'CD_TIP_OGM_CSO', 'CD_TIP_PBCO', 'CD_TIP_FRMC_SUPR', 'IN_VGC_CSO'], axis = 'columns')",
      "metadata": {
        "trusted": true
      },
      "outputs": [],
      "execution_count": 249
    },
    {
      "id": "bf7c71f0-4ae2-400b-bc42-8e490bf973c7",
      "cell_type": "code",
      "source": "ex3 = ex3.merge(curso_ex8, how = 'left', left_on = 'CD_CSO', right_on = 'CD_CSO')\nex3.dropna(axis = 'index', subset = 'CGHR_CSO', inplace = True)",
      "metadata": {
        "trusted": true
      },
      "outputs": [],
      "execution_count": 250
    },
    {
      "id": "00f48c02-e723-4140-9f7c-5ee495cd5615",
      "cell_type": "code",
      "source": "funcis_alvo = ex4.merge(prefixos, how = 'inner', left_on = 'CD_PRF_DEPE_LCZC', right_on = 'Prefixo')",
      "metadata": {
        "trusted": true
      },
      "outputs": [],
      "execution_count": 251
    },
    {
      "id": "8fba2b7c-37a5-4bb7-87bb-d2321a3e59bd",
      "cell_type": "code",
      "source": "cd_uor = prefixos.merge(ex2, how = 'left', left_on = 'Prefixo', right_on = 'CD_DEPE_UOR')",
      "metadata": {
        "trusted": true
      },
      "outputs": [],
      "execution_count": 252
    },
    {
      "id": "2410031e-4100-403e-a16f-cc83ccc90d0a",
      "cell_type": "code",
      "source": "cd_uor = cd_uor.query('NR_ORD_DEPE_SBDD == 0')\ncd_uor.drop(['Sigla', 'NM_UOR_RDZ', 'SG_UOR', 'DT_INC_VLD', 'CD_ITEM_AQTT_UOR', 'CD_TIP_UOR', 'CD_DEPE_UOR', 'NR_ORD_DEPE_SBDD'], axis = 'columns', inplace = True)",
      "metadata": {
        "trusted": true
      },
      "outputs": [],
      "execution_count": 253
    },
    {
      "id": "e03fecdd-55bc-4260-8981-250aa47be31e",
      "cell_type": "code",
      "source": "cursos_ano = funcis_alvo.merge(ex3, how = 'left', left_on = 'CD_MTC_FUN', right_on = 'CD_MTC_FUN')\ncursos_ano = cursos_ano.query('Ano_de_conclusão == 2024')\nqtde_cursos = cursos_ano['CD_MTC_FUN'].value_counts().rename_axis('unique_values').reset_index(name='counts')",
      "metadata": {
        "trusted": true
      },
      "outputs": [],
      "execution_count": 254
    },
    {
      "id": "08da6647-28b4-4c40-8d74-836d5f9f914b",
      "cell_type": "code",
      "source": "funcis_alvo = funcis_alvo.merge(cd_uor, how = 'left', left_on = 'CD_PRF_DEPE_LCZC', right_on = 'Prefixo')\nfuncis_alvo = funcis_alvo.merge(qtde_cursos, how = 'left', left_on = 'CD_MTC_FUN', right_on = 'unique_values')\nfuncis_alvo.fillna(value = 0, inplace = True)",
      "metadata": {
        "trusted": true
      },
      "outputs": [],
      "execution_count": 255
    },
    {
      "id": "2e7fa535-c682-43c4-a233-d6debf706dfc",
      "cell_type": "code",
      "source": "exercicio8 = pd.DataFrame()\nexercicio8['CD_MTC_FUN'] = funcis_alvo['CD_MTC_FUN']\nexercicio8['CD_UOR_LCZC'] = funcis_alvo['CD_UOR']\nexercicio8['QT_TTL_CSO'] = funcis_alvo['counts']",
      "metadata": {
        "trusted": true
      },
      "outputs": [],
      "execution_count": 256
    },
    {
      "id": "d1a9b6a7-0614-456e-81d1-f3b8821561be",
      "cell_type": "code",
      "source": "cursos_trilha = ex3.merge(capacitacao, how = 'inner', left_on = 'CD_CSO', right_on = 'Código Educa')",
      "metadata": {
        "trusted": true
      },
      "outputs": [],
      "execution_count": 257
    },
    {
      "id": "f743871a-e916-40da-8762-1a1cf2332e8f",
      "cell_type": "code",
      "source": "qtde_cursos_trilha = cursos_trilha['CD_MTC_FUN'].value_counts().rename_axis('unique_values').reset_index(name='counts')",
      "metadata": {
        "trusted": true
      },
      "outputs": [],
      "execution_count": 258
    },
    {
      "id": "de3bd3b2-2d58-4946-9125-4b4549082904",
      "cell_type": "code",
      "source": "funcis_alvo = funcis_alvo.merge(qtde_cursos_trilha, how = 'left', left_on = 'CD_MTC_FUN', right_on = 'unique_values')\nfuncis_alvo.fillna(value = 0, inplace = True)",
      "metadata": {
        "trusted": true
      },
      "outputs": [],
      "execution_count": 259
    },
    {
      "id": "8a8434ba-c88a-4826-bd99-d8ebf5276bfa",
      "cell_type": "code",
      "source": "exercicio8['QT_TTL_CSO_TRLA'] = funcis_alvo['counts_y']",
      "metadata": {
        "trusted": true
      },
      "outputs": [],
      "execution_count": 260
    },
    {
      "id": "b76c7542-25db-46a3-a934-61838a9c8075",
      "cell_type": "code",
      "source": "cursos_ano['MES_CONCL'] = cursos_ano['DT_FIM_CSO'].apply(lambda x: x.month)\ncursos_sem1 = cursos_ano.query('1 <= MES_CONCL & MES_CONCL <= 6')",
      "metadata": {
        "trusted": true
      },
      "outputs": [],
      "execution_count": 261
    },
    {
      "id": "ee5b79d8-c9e9-42aa-852d-8d44d821040b",
      "cell_type": "code",
      "source": "total_horas_sem1 = cursos_sem1.groupby('CD_MTC_FUN')['CGHR_CSO'].sum()\ntotal_horas_sem1 = pd.DataFrame(total_horas_sem1).reset_index()\ntotal_horas_sem1.rename(columns = {'CGHR_CSO': 'QT_TTL_HH_PRMO_SMT'}, inplace = True)",
      "metadata": {
        "trusted": true
      },
      "outputs": [],
      "execution_count": 262
    },
    {
      "id": "f659084f-c91b-4caa-abc8-e576759e297e",
      "cell_type": "code",
      "source": "exercicio8 = exercicio8.merge(total_horas_sem1, how = 'left', left_on = 'CD_MTC_FUN', right_on = 'CD_MTC_FUN')\nexercicio8.fillna(0, inplace = True)\nexercicio8['QT_TTL_HH_PRMO_SMT'] = exercicio8['QT_TTL_HH_PRMO_SMT'].astype('Int64')",
      "metadata": {
        "trusted": true
      },
      "outputs": [],
      "execution_count": 263
    },
    {
      "id": "df670409-fd80-4177-bdcb-5ff0a5eaa06d",
      "cell_type": "code",
      "source": "cursos_sem1_trla = cursos_sem1.merge(capacitacao, how = 'inner', left_on = 'CD_CSO', right_on = 'Código Educa')",
      "metadata": {
        "trusted": true
      },
      "outputs": [],
      "execution_count": 264
    },
    {
      "id": "b72f436b-ffd0-4756-b805-78d6662a9949",
      "cell_type": "code",
      "source": "total_horas_sem1_trla = cursos_sem1_trla.groupby('CD_MTC_FUN')['CGHR_CSO'].sum()\ntotal_horas_sem1_trla = pd.DataFrame(total_horas_sem1_trla).reset_index()\ntotal_horas_sem1_trla.rename(columns = {'CGHR_CSO': 'QT_TTL_HH_TRLA_PRMO_SMT'}, inplace = True)\ntotal_horas_sem1_trla['QT_TTL_HH_TRLA_PRMO_SMT'] = total_horas_sem1_trla['QT_TTL_HH_TRLA_PRMO_SMT'].astype('Int64')",
      "metadata": {
        "trusted": true
      },
      "outputs": [],
      "execution_count": 265
    },
    {
      "id": "ea004082-650f-414e-a1ab-44f298db7d16",
      "cell_type": "code",
      "source": "exercicio8 = exercicio8.merge(total_horas_sem1_trla, how = 'left', left_on = 'CD_MTC_FUN', right_on = 'CD_MTC_FUN')\nexercicio8.fillna(0, inplace = True)",
      "metadata": {
        "trusted": true
      },
      "outputs": [],
      "execution_count": 266
    },
    {
      "id": "8db498af-aa25-4831-bbfc-9c3da0515e9f",
      "cell_type": "code",
      "source": "cursos_sem2 = cursos_ano.query('MES_CONCL > 6')",
      "metadata": {
        "trusted": true
      },
      "outputs": [],
      "execution_count": 267
    },
    {
      "id": "3b96ad41-5966-4583-b7e7-bd3732621b0a",
      "cell_type": "code",
      "source": "total_horas_sem2 = cursos_sem2.groupby('CD_MTC_FUN')['CGHR_CSO'].sum()\ntotal_horas_sem2 = pd.DataFrame(total_horas_sem2).reset_index()\ntotal_horas_sem2.rename(columns = {'CGHR_CSO': 'QT_TTL_HH_SGDO_SMT'}, inplace = True)\ntotal_horas_sem2['QT_TTL_HH_SGDO_SMT'] = total_horas_sem2['QT_TTL_HH_SGDO_SMT'].astype('Int64')",
      "metadata": {
        "trusted": true
      },
      "outputs": [],
      "execution_count": 268
    },
    {
      "id": "58bf0768-46da-46ed-b740-4af2aa9b63ba",
      "cell_type": "code",
      "source": "exercicio8 = exercicio8.merge(total_horas_sem2, how = 'left', left_on = 'CD_MTC_FUN', right_on = 'CD_MTC_FUN')\nexercicio8.fillna(0, inplace = True)",
      "metadata": {
        "trusted": true
      },
      "outputs": [],
      "execution_count": 269
    },
    {
      "id": "1d430a16-4dd6-48be-9b42-874c9e06c323",
      "cell_type": "code",
      "source": "cursos_sem2_trla = cursos_sem2.merge(capacitacao, how = 'inner', left_on = 'CD_CSO', right_on = 'Código Educa')",
      "metadata": {
        "trusted": true
      },
      "outputs": [],
      "execution_count": 270
    },
    {
      "id": "09efeb71-3ff9-4767-a34c-aea584163c97",
      "cell_type": "code",
      "source": "total_horas_sem2_trla = cursos_sem2_trla.groupby('CD_MTC_FUN')['CGHR_CSO'].sum()\ntotal_horas_sem2_trla = pd.DataFrame(total_horas_sem2_trla).reset_index()\ntotal_horas_sem2_trla.rename(columns = {'CGHR_CSO': 'QT_TTL_HH_TRLA_SGDO_SMT'}, inplace = True)\ntotal_horas_sem2_trla['QT_TTL_HH_TRLA_SGDO_SMT'] = total_horas_sem2_trla['QT_TTL_HH_TRLA_SGDO_SMT'].astype('Int64')",
      "metadata": {
        "trusted": true
      },
      "outputs": [],
      "execution_count": 271
    },
    {
      "id": "8b13be7f-2b61-48b0-a103-077bccf3ddab",
      "cell_type": "code",
      "source": "exercicio8 = exercicio8.merge(total_horas_sem2_trla, how = 'left', left_on = 'CD_MTC_FUN', right_on = 'CD_MTC_FUN')\nexercicio8.fillna(0, inplace = True)",
      "metadata": {
        "trusted": true
      },
      "outputs": [],
      "execution_count": 272
    },
    {
      "id": "e489b825-051a-4a66-8f95-4d22c320a67a",
      "cell_type": "code",
      "source": "cursos_trilha['MES_CONCL'] = cursos_trilha['DT_FIM_CSO'].apply(lambda x: x.month)",
      "metadata": {
        "trusted": true
      },
      "outputs": [],
      "execution_count": 273
    },
    {
      "id": "f0d253ec-db23-4a8f-8bd9-38aaebdf7f0f",
      "cell_type": "code",
      "source": "cursos_trilha_ate1 = cursos_trilha.query('Ano_de_conclusão == 2024 & MES_CONCL > 6').index",
      "metadata": {
        "trusted": true
      },
      "outputs": [],
      "execution_count": 274
    },
    {
      "id": "4e78a8af-05e8-4e37-948b-ff48d3c64bf4",
      "cell_type": "code",
      "source": "indicador_trla_sem1 = cursos_trilha.drop(index = cursos_trilha_ate1)",
      "metadata": {
        "trusted": true
      },
      "outputs": [],
      "execution_count": 275
    },
    {
      "id": "5bcc2024-5d70-4ba4-85be-32412e7469f0",
      "cell_type": "code",
      "source": "num_indicador_trla_sem1 = indicador_trla_sem1['CD_MTC_FUN'].value_counts().rename_axis('unique_values').reset_index(name='counts')",
      "metadata": {
        "trusted": true
      },
      "outputs": [],
      "execution_count": 276
    },
    {
      "id": "4c1aea16-972a-48df-a860-c3be7afc7c7e",
      "cell_type": "code",
      "source": "num_indicador_trla_sem1['cumpriu'] = num_indicador_trla_sem1['counts'].apply(lambda x: 'S' if x == 89 else 'N')",
      "metadata": {
        "trusted": true
      },
      "outputs": [],
      "execution_count": 277
    },
    {
      "id": "95578421-87ed-43b1-ba31-aabef0507207",
      "cell_type": "code",
      "source": "exercicio8 = exercicio8.merge(num_indicador_trla_sem1, how = 'left', left_on = 'CD_MTC_FUN', right_on = 'unique_values')\nexercicio8.drop(columns = ['unique_values', 'counts'], inplace = True)\nexercicio8.fillna(value = 'N', inplace = True)\nexercicio8.rename(columns = {'cumpriu': 'IN_CPM_TTL_TRLA_PRMO_SMT'}, inplace = True)",
      "metadata": {
        "trusted": true
      },
      "outputs": [],
      "execution_count": 278
    },
    {
      "id": "54ea4884-d819-46dd-ba8d-01c05958093b",
      "cell_type": "code",
      "source": "indicador_trla_total = cursos_trilha['CD_MTC_FUN'].value_counts().rename_axis('unique_values').reset_index(name='counts')\nindicador_trla_total['IN_CPM_TTL_TRLA_SGDO_SMT'] = indicador_trla_total['counts'].apply(lambda x: 'S' if x == 89 else 'N')",
      "metadata": {
        "trusted": true
      },
      "outputs": [],
      "execution_count": 279
    },
    {
      "id": "5bdee191-a74a-43b1-ad06-e180f52c851a",
      "cell_type": "code",
      "source": "exercicio8 = exercicio8.merge(indicador_trla_total, how = 'left', left_on = 'CD_MTC_FUN', right_on = 'unique_values')\nexercicio8.drop(columns = ['unique_values', 'counts'], inplace = True)\nexercicio8.fillna(value = 'N', inplace = True)\nexercicio8.info()",
      "metadata": {
        "trusted": true
      },
      "outputs": [
        {
          "name": "stdout",
          "text": "<class 'pandas.core.frame.DataFrame'>\nInt64Index: 1241 entries, 0 to 1240\nData columns (total 10 columns):\n #   Column                    Non-Null Count  Dtype \n---  ------                    --------------  ----- \n 0   CD_MTC_FUN                1241 non-null   Int64 \n 1   CD_UOR_LCZC               1241 non-null   Int64 \n 2   QT_TTL_CSO                1241 non-null   Int64 \n 3   QT_TTL_CSO_TRLA           1241 non-null   Int64 \n 4   QT_TTL_HH_PRMO_SMT        1241 non-null   Int64 \n 5   QT_TTL_HH_TRLA_PRMO_SMT   1241 non-null   Int64 \n 6   QT_TTL_HH_SGDO_SMT        1241 non-null   Int64 \n 7   QT_TTL_HH_TRLA_SGDO_SMT   1241 non-null   Int64 \n 8   IN_CPM_TTL_TRLA_PRMO_SMT  1241 non-null   object\n 9   IN_CPM_TTL_TRLA_SGDO_SMT  1241 non-null   object\ndtypes: Int64(8), object(2)\nmemory usage: 106.6+ KB\n",
          "output_type": "stream"
        }
      ],
      "execution_count": 280
    },
    {
      "id": "372d2207-0b07-49d7-be38-6b02fd0cbf01",
      "cell_type": "markdown",
      "source": "# Exercício 9 - Verificação do cumprimento do indicador - Parte 2\n\n<b>Nível de dificuldade (1 a 5):</b> 5\n\n<b>Requisitos:</b> exercício 8\n\nCriar um DataFrame Pandas chamado <b>exercicio9</b> contendo todas as informações do exercício 8 mais os atributos relacionados abaixo:\n\n||Nome Lógico|Nome Físico|Formato|Descrição|Aceita Nulos|Tabela Origem|Atributo Origem|\n|---|---|---|---|---|---|---|---|\n|10|Indicador de Funcionário Avaliável no Primeiro Semestre|?|object|Indicador que sinaliza se o funcionário é avaliável no primeiro semestre.|N|?|?|\n|11|Indicador de Funcionário Avaliável no Segundo Semestre|?|object|Indicador que sinaliza se o funcionário é avaliável no segundo semestre.|N|?|?|\n\n<b>Regra 1:</b> os funcionários que atenderem às situações abaixo elencadas serão considerados \"Não avaliáveis\"\n- Permanecerem por mais de 90 dias em situação diferente de 100-Força de Trabalho Real no semestre.\n- Atuarem como colaboradores (Disponibilidade ou Cessão) ou adidos por mais de 90 dias no semestre.\n- Cujo total de dias em situação diferente de 100-Força de Trabalho Real somado ao total de dias em colaboração (Disponibilidade ou Cessão) for maior que 90 dias.\n- Estiverem em situação de colaboração ou adição no encerramento da apuração semestral (fechamento do semestre: 30/06/2024 ou 31/12/2024)\n- Funcionários empossados no BB há menos de 90 dias no encerramento da apuração semestral.\n\n<b>Regra 2:</b> para fins de apuração do indicador de Capacitação Estratégica, considere:\n- como colaboração os funcis que apresentarem situação \"DISP\" ou \"ADIDOS\" ou \"CEDIDOS\", exceto folga.\n- como situação diferente de 100-Força de Trabalho Real apenas as situações que contemplarem:\n  - Licença Saúde (LS)\n  - Licença Interesse\n  - Licença Maternidade\n  - Licença Paternidade\n  - Nascimento de Filho - Pai\n  - Licença para assistência a pessoa enferna da família (LIC.P/AS.PES.ENF.FAM-70% PR)",
      "metadata": {}
    },
    {
      "id": "7b4418c5-c72a-4fd1-939c-49fb640a8aba",
      "cell_type": "code",
      "source": "situacoes = pd.read_csv('bases/SITUACOES.csv', sep = ';')",
      "metadata": {
        "trusted": true
      },
      "outputs": [],
      "execution_count": 281
    },
    {
      "id": "a66e5f8f-28d2-4e25-aa8c-a3332c08a038",
      "cell_type": "code",
      "source": "est_fun_01 = pd.read_csv('bases/EST_FUN/est_fun01.zip')\nest_fun_02 = pd.read_csv('bases/EST_FUN/est_fun02.zip')\nest_fun_03 = pd.read_csv('bases/EST_FUN/est_fun03.zip')\nest_fun_04 = pd.read_csv('bases/EST_FUN/est_fun04.zip')\nest_fun_05 = pd.read_csv('bases/EST_FUN/est_fun05.zip')\nest_fun_06 = pd.read_csv('bases/EST_FUN/est_fun06.zip')\nest_fun_07 = pd.read_csv('bases/EST_FUN/est_fun07.zip')\nest_fun_08 = pd.read_csv('bases/EST_FUN/est_fun08.zip')\nest_fun_09 = pd.read_csv('bases/EST_FUN/est_fun09.zip')\nest_fun_10 = pd.read_csv('bases/EST_FUN/est_fun10.zip')",
      "metadata": {
        "trusted": true
      },
      "outputs": [],
      "execution_count": 282
    },
    {
      "id": "b539aa11-2b28-42ed-94e0-7c68d7d5af25",
      "cell_type": "code",
      "source": "lista_estfun = [est_fun_01, est_fun_02, est_fun_03, est_fun_04, est_fun_05, est_fun_06, est_fun_07, est_fun_08, est_fun_09, est_fun_10]\nest_fun = pd.concat(lista_estfun)\nest_fun['DT_FIM_EST_FUN'] = est_fun['DT_FIM_EST_FUN'].apply(lambda x: '2024-12-31' if x[:4] == '9999' else x)\nest_fun['DT_FIM_EST_FUN'] = pd.to_datetime(est_fun['DT_FIM_EST_FUN'], yearfirst = True)\nest_fun['Ano_fim'] = est_fun['DT_FIM_EST_FUN'].apply(lambda x: x.year)\nest_fun_2024 = est_fun.query('Ano_fim == 2024 | Ano_fim == 2025')\nest_fun_2024['DT_INC_EST_FUN'] = pd.to_datetime(est_fun_2024['DT_INC_EST_FUN'], yearfirst = True)\nest_fun_2024['Ano_inicio'] = est_fun_2024['DT_INC_EST_FUN'].apply(lambda x: x.year)",
      "metadata": {
        "trusted": true
      },
      "outputs": [],
      "execution_count": 283
    },
    {
      "id": "9cecbf30-a1cf-4d39-a623-78aaa4e2e218",
      "cell_type": "code",
      "source": "funcis_alvo_ex9 = funcis_alvo.drop(columns = ['NM_FUN', 'SG_TIP_EST_CVL', 'CD_TIP_NVL_ITC', 'DT_NSC', 'CD_TIP_GNR', 'CD_PRF_DEPE_LCZC', 'CD_FUC_CRG_EFT', 'DT_PSSE_LCZC', \n                                             'Prefixo_x', 'Sigla', 'Prefixo_y', 'CD_UOR', 'unique_values_x', 'counts_x', 'unique_values_y', 'counts_y'])",
      "metadata": {
        "trusted": true
      },
      "outputs": [],
      "execution_count": 284
    },
    {
      "id": "04a91a1e-591c-4f82-b8e3-4ba07fd06ac7",
      "cell_type": "code",
      "source": "est_fun_2024 = est_fun_2024.merge(situacoes, how = 'left', left_on = 'CD_TIP_EST_FUNL', right_on = 'cod_situacao')",
      "metadata": {
        "trusted": true
      },
      "outputs": [],
      "execution_count": 285
    },
    {
      "id": "ec61be7d-2c6c-4aa5-b44d-1521f576c260",
      "cell_type": "code",
      "source": "est_fun_2024['descricao'].unique()",
      "metadata": {
        "trusted": true
      },
      "outputs": [
        {
          "execution_count": 286,
          "output_type": "execute_result",
          "data": {
            "text/plain": "array(['ABONO AUSENCIA-ACT', 'FERIAS', 'TREIN.PRESENCIAL-TREINAN-4H',\n       'LUTO', 'FOLGA - BANCO DE HORAS', 'ACOMP.DEP.MEDICO/ODONT.',\n       'LS COMUM/PELO BANCO', 'TREIN.PRESENCIAL-TREINAN-8H', 'FOLGA',\n       'TREIN.EM SERV-TREINANDO-6H', 'SERVICO EXTERNO',\n       'ABONO ACT-ANOS ANTERIORES', 'TREIN.PRESENCIAL-TREINAN-3H',\n       'TREIN.PRESENCIAL-TREINAN-2H', 'TREIN.PRESENCIAL-TREINAN-6H',\n       'JORN.PARCIAL-ACOMP.DEP.MEDI', 'TREIN.PRESENCIAL-TREINAN-1H',\n       'TREIN.PRESENCIAL-TREINAN-5H', 'INTERNACAO HOSPIT - FAMILIA',\n       'EDUCADOR - DIPES', 'DOACAO DE SANGUE',\n       'FORMACAO/ATUALIZACAO-EDUCAD', 'TRANSITO',\n       'DISP.S/ONUS/PG.DEB-C/CONT.T', 'OUTROS ABONOS',\n       'NASCIMENTO DE FILHO - PAI', 'LIC PATER/PRORROG OU EQUIVA',\n       'ABONO ASSIDUIDADE', 'VIAGEM A SERVICO', 'LS COMUM/PELO INSS',\n       'TREIN.PRESENCIAL-TREINAN-7H', 'ORIENTADOR PROFISSIONAL',\n       'LS ACID.TRABALHO-TIPICO/BAN', 'INSTALACAO',\n       'TREIN.EM SERV-TREINANDO-3H', 'TREIN.EM SERV-TREINANDO-4H',\n       'LICENCA PREMIO', 'LICENCA DESCANSO MATERNIDAD',\n       'LIC.MATERN-60DD PRORROGACAO', 'FORCA TRAB REAL-AMAMENTA/1H',\n       'LS SEM BENEFICIO INSS-PROVE', 'TREIN.EM SERV-TREINANDO-8H',\n       'AVALIACAO DE SAUDE-CASSI/IN', 'TREIN.EM SERV-TREINANDO-2H',\n       'TREIN.EM SERV-TREINANDO-1H', 'LS ACID.TRABALHO-TRAJETO/BA',\n       'TREIN.AUTO INSTR-TREINAN-6H', 'CASAMENTO',\n       'FOLGA - JUSTICA ELEITORAL', 'PESQUISADOR-MESTRADO/DOUTOR',\n       'LS SEM COMPLEMENTACAO BB', 'JORN.PARCIAL-INTERN.FAMILIA',\n       'LS APOSENTADO INSS-APOS 15', 'TREIN.EM SERV-TREINANDO-5H',\n       'FORCA TRAB REAL-AMAMENTA/2H', 'ABONO INCENTIVO/RECONHECIME',\n       'TREIN.EM SERV-TREINANDO-7H', 'DISP.C/ONUS C/CONTAGEM TEMP',\n       'BEM-VINDO BB-TREIN.PRES.-8H', 'PROVA ESCOLAR/VESTIBULAR/CE',\n       'LIC.MATERNIDADE-LEI 9876-29'], dtype=object)"
          },
          "metadata": {}
        }
      ],
      "execution_count": 286
    },
    {
      "id": "34020af4-e052-4cb0-90fe-f4cfa884f086",
      "cell_type": "code",
      "source": "situacoes_impeditivas = ['LS COMUM/PELO BANCO', 'LS COMUM/PELO INSS', 'LS ACID.TRABALHO-TIPICO/BAN', 'LS SEM BENEFICIO INSS-PROVE', 'LS ACID.TRABALHO-TRAJETO/BA',\n                        'LS SEM COMPLEMENTACAO BB', 'LS APOSENTADO INSS-APOS 15', 'LIC PATER/PRORROG OU EQUIVA', 'NASCIMENTO DE FILHO - PAI', 'LICENCA DESCANSO MATERNIDAD',\n                        'LIC.MATERN-60DD PRORROGACAO', 'LIC.MATERNIDADE-LEI 9876-29', 'DISP.S/ONUS/PG.DEB-C/CONT.T', 'DISP.C/ONUS C/CONTAGEM TEMP']\nquery_situacoes_impeditivas = est_fun_2024['descricao'].isin(situacoes_impeditivas)\nest_fun_2024_imp = est_fun_2024[query_situacoes_impeditivas]",
      "metadata": {
        "trusted": true
      },
      "outputs": [],
      "execution_count": 287
    },
    {
      "id": "1ed3e490-b7c6-403e-b736-3bd1b060bde6",
      "cell_type": "code",
      "source": "est_fun_2024_imp['DT_INC_EST_FUN'] = est_fun_2024_imp['DT_INC_EST_FUN'].apply(lambda x: x if x.year == 2024 else pd.to_datetime('2024-01-01', yearfirst = True))",
      "metadata": {
        "trusted": true
      },
      "outputs": [],
      "execution_count": 288
    },
    {
      "id": "ef61eccf-8ab0-4d20-b491-1fcb21c35362",
      "cell_type": "code",
      "source": "est_fun_2024_imp['Mes_fim'] = est_fun_2024_imp['DT_FIM_EST_FUN'].apply(lambda x: x.month)\nest_fun_2024_imp['Mes_inicio'] = est_fun_2024_imp['DT_INC_EST_FUN'].apply(lambda x: x.month)",
      "metadata": {
        "trusted": true
      },
      "outputs": [],
      "execution_count": 289
    },
    {
      "id": "7190f722-d3e1-4155-8647-d5bcbecd7993",
      "cell_type": "code",
      "source": "est_fun_2024_imp_sem1 = est_fun_2024_imp.copy()\nest_fun_2024_imp_sem2 = est_fun_2024_imp.copy()",
      "metadata": {
        "trusted": true
      },
      "outputs": [],
      "execution_count": 290
    },
    {
      "id": "0d1aed6e-2236-4f4d-ae23-e450408c89ab",
      "cell_type": "code",
      "source": "est_fun_2024_imp_sem1 = est_fun_2024_imp_sem1.query('Mes_inicio <= 6')\nest_fun_2024_imp_sem1.reset_index(inplace = True, drop = True)\nest_fun_2024_imp_sem1['DT_FIM_EST_FUN'] = est_fun_2024_imp_sem1['DT_FIM_EST_FUN'].apply(lambda x: x if x.month <= 6 else pd.to_datetime('2024-06-30', yearfirst = True))\nest_fun_2024_imp_sem1.query('Mes_fim >= 7')['DT_FIM_EST_FUN'].unique()",
      "metadata": {
        "trusted": true
      },
      "outputs": [
        {
          "execution_count": 291,
          "output_type": "execute_result",
          "data": {
            "text/plain": "array(['2024-06-30T00:00:00.000000000'], dtype='datetime64[ns]')"
          },
          "metadata": {}
        }
      ],
      "execution_count": 291
    },
    {
      "id": "d232fe78-5fbd-4d50-896c-d54d7a77c334",
      "cell_type": "code",
      "source": "est_fun_2024_imp_sem2 = est_fun_2024_imp_sem2.query('Mes_fim > 6')\nest_fun_2024_imp_sem2.reset_index(inplace = True, drop = True)\nest_fun_2024_imp_sem2['DT_INC_EST_FUN'] = est_fun_2024_imp_sem2['DT_INC_EST_FUN'].apply(lambda x: x if x.month > 6 else pd.to_datetime('2024-07-01', yearfirst = True))\nest_fun_2024_imp_sem2.query('Mes_inicio <= 6')['DT_INC_EST_FUN'].unique()",
      "metadata": {
        "trusted": true
      },
      "outputs": [
        {
          "execution_count": 292,
          "output_type": "execute_result",
          "data": {
            "text/plain": "array(['2024-07-01T00:00:00.000000000'], dtype='datetime64[ns]')"
          },
          "metadata": {}
        }
      ],
      "execution_count": 292
    },
    {
      "id": "35236ecc-a066-411c-9c6a-c66efdfc7aa9",
      "cell_type": "code",
      "source": "chaves = list(map(lambda x: len(pd.date_range(start = est_fun_2024_imp_sem1['DT_INC_EST_FUN'].iloc[x], end = est_fun_2024_imp_sem1['DT_FIM_EST_FUN'].iloc[x], freq = 'D')), range(2802)))\nest_fun_2024_imp_sem1['dias_sit'] = chaves",
      "metadata": {
        "trusted": true
      },
      "outputs": [],
      "execution_count": 293
    },
    {
      "id": "121766d0-1ebc-4d4b-8358-5ff64ca50a12",
      "cell_type": "code",
      "source": "chaves_2 = list(map(lambda x: len(pd.date_range(start = est_fun_2024_imp_sem2['DT_INC_EST_FUN'].iloc[x], end = est_fun_2024_imp_sem2['DT_FIM_EST_FUN'].iloc[x], freq = 'D')), range(43)))\nest_fun_2024_imp_sem2['dias_sit'] = chaves_2",
      "metadata": {
        "trusted": true
      },
      "outputs": [],
      "execution_count": 294
    },
    {
      "id": "1d973b47-0902-4d86-a2a5-c4c2559d366f",
      "cell_type": "code",
      "source": "dias_sem1 = est_fun_2024_imp_sem1.groupby('CD_MTC_FUN')['dias_sit'].sum()\ndf_dias_sem1 = pd.DataFrame(dias_sem1).reset_index()\ndf_dias_sem1['Avaliavel_dias_situacao'] = df_dias_sem1['dias_sit'].apply(lambda x: 'N' if x > 90 else 'S') ",
      "metadata": {
        "trusted": true
      },
      "outputs": [],
      "execution_count": 295
    },
    {
      "id": "31106246-8ece-4c6c-8202-d37cd63993f8",
      "cell_type": "code",
      "source": "dias_sem2 = est_fun_2024_imp_sem2.groupby('CD_MTC_FUN')['dias_sit'].sum()\ndf_dias_sem2 = pd.DataFrame(dias_sem2).reset_index()\ndf_dias_sem2['Avaliavel_dias_situacao'] = df_dias_sem2['dias_sit'].apply(lambda x: 'N' if x > 90 else 'S')",
      "metadata": {
        "trusted": true
      },
      "outputs": [],
      "execution_count": 296
    },
    {
      "id": "490f4084-ce54-4668-b852-fbe13796ccde",
      "cell_type": "markdown",
      "source": "FEITA A VERIFICAÇÃO DOS DIAS EM SITUAÇÃO IMPEDITIVA, VAMOS VERIFICAR OS FUNCIONÁRIOS COM SITUAÇÃO DE ADIDO OU CEDIDO AO FINAL DO SEMESTRE",
      "metadata": {}
    },
    {
      "id": "df9022e5-2f7e-4428-b244-49f439c6e602",
      "cell_type": "code",
      "source": "cedido_sem1 = est_fun_2024_imp_sem1.query('descricao == \"DISP.S/ONUS/PG.DEB-C/CONT.T\" | descricao == \"DISP.C/ONUS C/CONTAGEM TEMP\"')\ncedido_sem1.drop_duplicates(subset = 'CD_MTC_FUN', keep = 'last', inplace = True)",
      "metadata": {
        "trusted": true
      },
      "outputs": [],
      "execution_count": 297
    },
    {
      "id": "6aceaf0a-ff74-4971-9465-86b515060c32",
      "cell_type": "code",
      "source": "cedido_sem1_ultdia = pd.DataFrame()\ncedido_sem1_ultdia['CD_MTC_FUN'] = cedido_sem1['CD_MTC_FUN']\ncedido_sem1_ultdia['Avaliavel_Cedido_final'] = cedido_sem1['DT_FIM_EST_FUN'].apply(lambda x: 'N' if x == pd.to_datetime('2024-06-30') else 'S')",
      "metadata": {
        "trusted": true
      },
      "outputs": [],
      "execution_count": 298
    },
    {
      "id": "033a0b4a-4a9a-4774-8d26-e97ec335ce1f",
      "cell_type": "markdown",
      "source": "NÃO HÁ NENHUM CEDIDO NO SEGUNDO SEMESTRE. VAMOS PARA A VERIFICAÇÃO DA DATA DE POSSE",
      "metadata": {}
    },
    {
      "id": "62ddc058-1d63-44bd-b21c-a333f3d51f5d",
      "cell_type": "code",
      "source": "dias_posse_sem1 = funcis_alvo_ex9.copy()\ndias_posse_sem1['Dias_empossados'] = dias_posse_sem1['DT_PSSE_BB'].apply(lambda x: len(pd.date_range(start = x, end = pd.to_datetime('2024-06-30', yearfirst = True), freq = 'D')))\ndias_posse_sem1['Avaliavel_tempo_de_BB'] = dias_posse_sem1['Dias_empossados'].apply(lambda x: 'S' if x >= 90 else 'N')",
      "metadata": {
        "trusted": true
      },
      "outputs": [],
      "execution_count": 299
    },
    {
      "id": "aadde4fa-bed4-4ae1-a7b3-cd6d00434192",
      "cell_type": "code",
      "source": "dias_posse_sem2 = funcis_alvo_ex9.copy()\ndias_posse_sem2['Dias_empossados'] = dias_posse_sem2['DT_PSSE_BB'].apply(lambda x: len(pd.date_range(start = x, end = pd.to_datetime('2024-12-31', yearfirst = True), freq = 'D')))\ndias_posse_sem2['Avaliavel_tempo_de_BB'] = dias_posse_sem2['Dias_empossados'].apply(lambda x: 'S' if x >= 90 else 'N')",
      "metadata": {
        "trusted": true
      },
      "outputs": [],
      "execution_count": 300
    },
    {
      "id": "d484391e-3e21-4090-9cd5-d0ced716b31d",
      "cell_type": "markdown",
      "source": "TAMBÉM NÃO HÁ NINGUÉM NÃO-AVALIÁVEL POR TEMPO DE POSSE NO SEGUNDO SEMESTRE. JUNTANDO TUDO",
      "metadata": {}
    },
    {
      "id": "dcc8e881-81fb-4b97-899b-32481b2e387e",
      "cell_type": "code",
      "source": "avaliavel_sem1 = dias_posse_sem1.merge(df_dias_sem1, how = 'left', left_on = 'CD_MTC_FUN', right_on = 'CD_MTC_FUN')\navaliavel_sem1 = avaliavel_sem1.merge(cedido_sem1_ultdia, how = 'left', left_on = 'CD_MTC_FUN', right_on = 'CD_MTC_FUN')",
      "metadata": {
        "trusted": true
      },
      "outputs": [],
      "execution_count": 301
    },
    {
      "id": "7e7fe15c-a8f5-41a9-8c70-e4e867b76ada",
      "cell_type": "code",
      "source": "avaliavel_sem1['IN_FUN_AVLV_PRMO_SMT'] = list(map(lambda x: 'N' if ((avaliavel_sem1['Avaliavel_tempo_de_BB'].iloc[x] == 'N') | (avaliavel_sem1['Avaliavel_dias_situacao'].iloc[x] == 'N') | \n                                                                   (avaliavel_sem1['Avaliavel_Cedido_final'].iloc[x] == 'N')) else 'S', range(1241)))",
      "metadata": {
        "trusted": true
      },
      "outputs": [],
      "execution_count": 302
    },
    {
      "id": "8f4627e2-8818-453b-b108-ddb31e973231",
      "cell_type": "code",
      "source": "avaliavel_sem1.drop(columns = ['DT_PSSE_BB', 'Dias_empossados', 'Avaliavel_tempo_de_BB', 'dias_sit', 'Avaliavel_dias_situacao', 'Avaliavel_Cedido_final'], inplace = True)",
      "metadata": {
        "trusted": true
      },
      "outputs": [],
      "execution_count": 303
    },
    {
      "id": "bd348012-63b0-4785-b6c9-ad8aeaf992eb",
      "cell_type": "code",
      "source": "exercicio9 = exercicio8.copy()\nexercicio9 = exercicio9.merge(avaliavel_sem1, how = 'left', left_on = 'CD_MTC_FUN', right_on = 'CD_MTC_FUN')",
      "metadata": {
        "trusted": true
      },
      "outputs": [],
      "execution_count": 304
    },
    {
      "id": "32f2ca29-cb69-4125-8e6a-748578162231",
      "cell_type": "code",
      "source": "exercicio9 = exercicio9.merge(df_dias_sem2, how = 'left', left_on = 'CD_MTC_FUN', right_on = 'CD_MTC_FUN')",
      "metadata": {
        "trusted": true
      },
      "outputs": [],
      "execution_count": 305
    },
    {
      "id": "2c264ce9-fd00-4ffd-876d-cca9a287332a",
      "cell_type": "code",
      "source": "exercicio9.drop(columns = 'dias_sit', inplace = True)\nexercicio9.rename(columns = {'Avaliavel_dias_situacao': 'IN_FUN_AVLV_SGDO_SMT'}, inplace = True)\nexercicio9.fillna(value = 'S', inplace = True)\nexercicio9.info()",
      "metadata": {
        "trusted": true
      },
      "outputs": [
        {
          "name": "stdout",
          "text": "<class 'pandas.core.frame.DataFrame'>\nInt64Index: 1241 entries, 0 to 1240\nData columns (total 12 columns):\n #   Column                    Non-Null Count  Dtype \n---  ------                    --------------  ----- \n 0   CD_MTC_FUN                1241 non-null   Int64 \n 1   CD_UOR_LCZC               1241 non-null   Int64 \n 2   QT_TTL_CSO                1241 non-null   Int64 \n 3   QT_TTL_CSO_TRLA           1241 non-null   Int64 \n 4   QT_TTL_HH_PRMO_SMT        1241 non-null   Int64 \n 5   QT_TTL_HH_TRLA_PRMO_SMT   1241 non-null   Int64 \n 6   QT_TTL_HH_SGDO_SMT        1241 non-null   Int64 \n 7   QT_TTL_HH_TRLA_SGDO_SMT   1241 non-null   Int64 \n 8   IN_CPM_TTL_TRLA_PRMO_SMT  1241 non-null   object\n 9   IN_CPM_TTL_TRLA_SGDO_SMT  1241 non-null   object\n 10  IN_FUN_AVLV_PRMO_SMT      1241 non-null   object\n 11  IN_FUN_AVLV_SGDO_SMT      1241 non-null   object\ndtypes: Int64(8), object(4)\nmemory usage: 116.3+ KB\n",
          "output_type": "stream"
        }
      ],
      "execution_count": 306
    },
    {
      "id": "9f9711df-3307-42a7-9374-5bccf6e8a6a1",
      "cell_type": "code",
      "source": "exercicio9['IN_FUN_AVLV_PRMO_SMT'].value_counts()",
      "metadata": {
        "trusted": true
      },
      "outputs": [
        {
          "execution_count": 307,
          "output_type": "execute_result",
          "data": {
            "text/plain": "S    1227\nN      14\nName: IN_FUN_AVLV_PRMO_SMT, dtype: int64"
          },
          "metadata": {}
        }
      ],
      "execution_count": 307
    },
    {
      "id": "f8657a75-8bd9-4848-8634-2705656fb2e1",
      "cell_type": "code",
      "source": "exercicio9['IN_FUN_AVLV_SGDO_SMT'].value_counts()",
      "metadata": {
        "trusted": true
      },
      "outputs": [
        {
          "execution_count": 308,
          "output_type": "execute_result",
          "data": {
            "text/plain": "S    1234\nN       7\nName: IN_FUN_AVLV_SGDO_SMT, dtype: int64"
          },
          "metadata": {}
        }
      ],
      "execution_count": 308
    },
    {
      "id": "fcf1e379-e0e7-4d8c-9a3d-aa66f6fc1260",
      "cell_type": "markdown",
      "source": "# Exercício 10 - Cumprimento do indicador por prefixo\n\n<b>Nível de dificuldade (1 a 5):</b> 5\n\n<b>Requisitos:</b> exercício 9\n\n<b><<< Parte 1 >>></b>\n\nCriar um DataFrame Pandas chamado <b>exercicio10</b> contendo a consolidação das informações das UORs:\n\n||Nome Lógico|Nome Físico|Formato|Descrição|Aceita Nulos|Tabela Origem|Atributo Origem|\n|---|---|---|---|---|---|---|---|\n|1|Código da Dependência da Unidade Organizacional|?|Int64|Código identificador de Dependências de Instituições Organizacionais. No BB atualmente é utilizado os domínios entre 1 e 9999.|N|?|?|\n|2|Código da Unidade Organizacional|?|Int64|Código identificador de Unidade Organizacional (UOR) do conglomerado Banco do Brasil (no Brasil e Exterior) ou UOR externas que o BB tenha algum tipo de relacionamento ou interesse em identificá-las.|N|?|?|\n|3|Sigla da Unidade Organizacional|?|object|Reunião das letras iniciais dos vocábulos fundamentais de uma denominação ou título, sem articulação prosódica, constituindo meras abreviaturas. Ex.: \"DITEC\", \"GBASE\", \"DIREO\", \"PRESI\", etc.|N|?|?|\n|4|Nome da Unidade Organizacional Reduzido|?|object|Nome reduzido da Unidade Organizacional.|N|?|?|\n|5|Código da Dependência da Vice-Presidência|?|Int64|Código identificador da Dependência da Vice-Presidência jurisdicionante da UOR.|N|?|?|\n|6|Sigla da Vice-Presidência|?|object|Sigla da Vice-Presidência jurisdicionante da UOR.|N|?|?\n|7|Quantidade Total de Funcionários da Unidade Organizacional|?|Int64|Quantidade total de funcionários localizados na UOR|N|?|?|\n|8|Indicador de Unidade Organizacional Alvo da Análise|?|object|Indica se a UOR é alvo da análise. Possíveis valores: \"S\" ou \"N\". |N|?|?|\n|9|Índice de Atingimento do Indicador no Primeiro Semestre|?|float64|Indicativo do percentual de atingimento do indicador no primeiro semestre, caso a UOR seja alvo da análise. Varia de 0 a 1, com duas casas decimais.|S|?|?|\n|10|Índice de Atingimento do Indicador no Segundo Semestre|?|float64|Indicativo do percentual de atingimento do indicador no segundo semestre, caso a UOR seja alvo da análise. Varia de 0 a 1, com duas casas decimais.|S|?|?|\n\n<b>Regras gerais:</b>\n    \n- deverão ser listadas apenas as UORs que possuem Vice-Presidência vinculada.\n\n- verifique os prefixos alvo da análise na descrição do desafio.\n\nConsidere as regras abaixo para apuração do cumprimento do indicador para cada um dos prefixos alvo da análise:\n\n<b>Regras de apuração individual</b>: o indicador será considerado cumprido para os funcionários que:\n- completarem o mínimo de 20 horas total de cursos, sendo no mínimo 10h de treinamentos da Trilha Estratégica, realizados dentro do semestre de apuração\n- tiverem cumprido toda a Trilha Estratégica na data de apuração, desde que tenha cumprido o mínimo de 20 horas total no semestre de apuração\n\n<b>Regra de apuração por prefixo</b>: o indicador será considerado cumprido para os prefixos que tiverem 90% do público avaliável com o indicador cumprido no semestre.\n\n<b><<< Parte 2 >>></b>\n\nConsiderando as regras de apuração acima, responda às perguntas abaixo tomando por base a apuração do primeiro semestre:\n\n    a) quais os prefixos que cumpriram o indicador?\n\n    b) qual o prefixo com menor índice de cumprimento do indicador?\n\n    c) qual o prefixo com o maior índice de cumprimento do indicador?\n\n    d) qual o prefixo com o menor índice de funcionários não avaliáveis?\n\n    e) qual o maior índice de funcionários não avaliáveis dentre os observados nos prefixos avaliados?\n\nAo final do exercício, deverá ser criada uma variável para cada um dos itens acima, sendo o nome e o tipo delas conforme abaixo detalhado:\n\n|Item|Nome da variável|Tipo de objeto|\n|---|---|---|\n|a)|exercicio10a|variável do tipo list, itens do tipo int|\n|b)|exercicio10b|int|\n|c)|exercicio10c|int|\n|d)|exercicio10d|int|\n|e)|exercicio10e|float (2casas decimais)|\n\n<b>Regra 1:</b> utilize a função round() para eventuais arredondamentos.\n\n<b>Regra 2:</b> em caso de empate, o desempate será pela maior quantidade de funcionários avaliáveis no prefixo.",
      "metadata": {}
    },
    {
      "id": "d5a2ec03-f224-43d8-a73a-b778bed453f5",
      "cell_type": "code",
      "source": "uor_com_vice_pres = pd.DataFrame()\nuor_com_vice_pres = ex2.merge(vice_pres_vinc, how = 'inner', left_on = 'CD_UOR', right_on = 'CD_UOR_VCLD')\nuor_com_vice_pres.drop_duplicates(subset = 'CD_UOR_x', keep = 'first', inplace = True)",
      "metadata": {
        "trusted": true
      },
      "outputs": [],
      "execution_count": 309
    },
    {
      "id": "9c58707c-3198-48dc-ba13-33d607cb89e2",
      "cell_type": "code",
      "source": "exercicio10 = pd.DataFrame()\nexercicio10['CD_DEPE_UOR'] = uor_com_vice_pres['CD_DEPE_UOR_x']\nexercicio10['CD_UOR'] = uor_com_vice_pres['CD_UOR_x']\nexercicio10['SG_UOR'] = uor_com_vice_pres['SG_UOR_x']\nexercicio10['NM_UOR_RDZ'] = uor_com_vice_pres['NM_UOR_RDZ_x']\nexercicio10['CD_DEPE_VICE_PRSA'] = uor_com_vice_pres['CD_DEPE_UOR_y']\nexercicio10['SG_VICE_PRSA'] = uor_com_vice_pres['SG_UOR_y']",
      "metadata": {
        "trusted": true
      },
      "outputs": [],
      "execution_count": 310
    },
    {
      "id": "a6d8212d-dc16-4ab4-8618-6aedda06bf66",
      "cell_type": "code",
      "source": "cd_uor_funci = ex4.merge(ex2, how = 'left', left_on = 'CD_PRF_DEPE_LCZC', right_on = 'CD_DEPE_UOR')\ncd_uor_funci = cd_uor_funci.query('NR_ORD_DEPE_SBDD == 0')",
      "metadata": {
        "trusted": true
      },
      "outputs": [],
      "execution_count": 311
    },
    {
      "id": "2fc6df09-4d8d-4fcc-a00e-95cfb5f1c844",
      "cell_type": "code",
      "source": "qtde_funci_uor = cd_uor_funci['CD_UOR'].value_counts().reset_index()\nqtde_funci_uor.rename(columns = {'index': 'CD_UOR', 'CD_UOR': 'QT_TTL_FUN_UOR'}, inplace = True)",
      "metadata": {
        "trusted": true
      },
      "outputs": [],
      "execution_count": 312
    },
    {
      "id": "6b0731f6-024e-4c0f-bf98-d04cb71149eb",
      "cell_type": "code",
      "source": "exercicio10 = exercicio10.merge(qtde_funci_uor, how = 'left', left_on = 'CD_UOR', right_on = 'CD_UOR')\nexercicio10.fillna(0, inplace = True)",
      "metadata": {
        "trusted": true
      },
      "outputs": [],
      "execution_count": 313
    },
    {
      "id": "e6d012ee-8301-481e-a800-8a5f1fc5ac7a",
      "cell_type": "code",
      "source": "lista_prefixos = [8008, 8556, 8559, 8593, 9797, 9880, 9968, 9973]\nexercicio10['IN_UOR_ALVO_ANL'] = exercicio10['CD_DEPE_UOR'].apply(lambda x: 'S' if x in lista_prefixos else 'N')",
      "metadata": {
        "trusted": true
      },
      "outputs": [],
      "execution_count": 314
    },
    {
      "id": "a0b1ee53-1e14-49e3-a29c-54e986b9a27d",
      "cell_type": "code",
      "source": "ex9 = exercicio9.copy()",
      "metadata": {
        "trusted": true
      },
      "outputs": [],
      "execution_count": 315
    },
    {
      "id": "94bf78a8-8996-45ee-953f-c1513db0e3d4",
      "cell_type": "code",
      "source": "ex9_prim_sem = ex9.query('IN_FUN_AVLV_PRMO_SMT == \"S\"')\nex9_prim_sem.info()",
      "metadata": {
        "trusted": true
      },
      "outputs": [
        {
          "name": "stdout",
          "text": "<class 'pandas.core.frame.DataFrame'>\nInt64Index: 1227 entries, 0 to 1240\nData columns (total 12 columns):\n #   Column                    Non-Null Count  Dtype \n---  ------                    --------------  ----- \n 0   CD_MTC_FUN                1227 non-null   Int64 \n 1   CD_UOR_LCZC               1227 non-null   Int64 \n 2   QT_TTL_CSO                1227 non-null   Int64 \n 3   QT_TTL_CSO_TRLA           1227 non-null   Int64 \n 4   QT_TTL_HH_PRMO_SMT        1227 non-null   Int64 \n 5   QT_TTL_HH_TRLA_PRMO_SMT   1227 non-null   Int64 \n 6   QT_TTL_HH_SGDO_SMT        1227 non-null   Int64 \n 7   QT_TTL_HH_TRLA_SGDO_SMT   1227 non-null   Int64 \n 8   IN_CPM_TTL_TRLA_PRMO_SMT  1227 non-null   object\n 9   IN_CPM_TTL_TRLA_SGDO_SMT  1227 non-null   object\n 10  IN_FUN_AVLV_PRMO_SMT      1227 non-null   object\n 11  IN_FUN_AVLV_SGDO_SMT      1227 non-null   object\ndtypes: Int64(8), object(4)\nmemory usage: 115.0+ KB\n",
          "output_type": "stream"
        }
      ],
      "execution_count": 316
    },
    {
      "id": "8c1a7a55-8456-4d86-b3d4-b4d4f7e434fe",
      "cell_type": "code",
      "source": "fun_aval_prim_sem = ex9_prim_sem['CD_UOR_LCZC'].value_counts().rename_axis('unique_values').reset_index(name='counts')\nfun_aval_prim_sem",
      "metadata": {
        "trusted": true
      },
      "outputs": [
        {
          "execution_count": 317,
          "output_type": "execute_result",
          "data": {
            "text/plain": "   unique_values  counts\n0           5117     232\n1          40066     201\n2           7671     195\n3           5114     172\n4           7670     170\n5           9598     110\n6           5151      83\n7          39660      64",
            "text/html": "<div>\n<style scoped>\n    .dataframe tbody tr th:only-of-type {\n        vertical-align: middle;\n    }\n\n    .dataframe tbody tr th {\n        vertical-align: top;\n    }\n\n    .dataframe thead th {\n        text-align: right;\n    }\n</style>\n<table border=\"1\" class=\"dataframe\">\n  <thead>\n    <tr style=\"text-align: right;\">\n      <th></th>\n      <th>unique_values</th>\n      <th>counts</th>\n    </tr>\n  </thead>\n  <tbody>\n    <tr>\n      <th>0</th>\n      <td>5117</td>\n      <td>232</td>\n    </tr>\n    <tr>\n      <th>1</th>\n      <td>40066</td>\n      <td>201</td>\n    </tr>\n    <tr>\n      <th>2</th>\n      <td>7671</td>\n      <td>195</td>\n    </tr>\n    <tr>\n      <th>3</th>\n      <td>5114</td>\n      <td>172</td>\n    </tr>\n    <tr>\n      <th>4</th>\n      <td>7670</td>\n      <td>170</td>\n    </tr>\n    <tr>\n      <th>5</th>\n      <td>9598</td>\n      <td>110</td>\n    </tr>\n    <tr>\n      <th>6</th>\n      <td>5151</td>\n      <td>83</td>\n    </tr>\n    <tr>\n      <th>7</th>\n      <td>39660</td>\n      <td>64</td>\n    </tr>\n  </tbody>\n</table>\n</div>"
          },
          "metadata": {}
        }
      ],
      "execution_count": 317
    },
    {
      "id": "ef4c8a1b-960d-4372-a57e-c88159c9e8bb",
      "cell_type": "code",
      "source": "ex9_cumpriu_prim_sem = ex9_prim_sem.query('(QT_TTL_HH_PRMO_SMT >= 20 & QT_TTL_HH_TRLA_PRMO_SMT >= 10) | (QT_TTL_CSO_TRLA == 89 & QT_TTL_HH_PRMO_SMT >= 20)')\nex9_cumpriu_prim_sem.info()",
      "metadata": {
        "trusted": true
      },
      "outputs": [
        {
          "name": "stdout",
          "text": "<class 'pandas.core.frame.DataFrame'>\nInt64Index: 1114 entries, 0 to 1240\nData columns (total 12 columns):\n #   Column                    Non-Null Count  Dtype \n---  ------                    --------------  ----- \n 0   CD_MTC_FUN                1114 non-null   Int64 \n 1   CD_UOR_LCZC               1114 non-null   Int64 \n 2   QT_TTL_CSO                1114 non-null   Int64 \n 3   QT_TTL_CSO_TRLA           1114 non-null   Int64 \n 4   QT_TTL_HH_PRMO_SMT        1114 non-null   Int64 \n 5   QT_TTL_HH_TRLA_PRMO_SMT   1114 non-null   Int64 \n 6   QT_TTL_HH_SGDO_SMT        1114 non-null   Int64 \n 7   QT_TTL_HH_TRLA_SGDO_SMT   1114 non-null   Int64 \n 8   IN_CPM_TTL_TRLA_PRMO_SMT  1114 non-null   object\n 9   IN_CPM_TTL_TRLA_SGDO_SMT  1114 non-null   object\n 10  IN_FUN_AVLV_PRMO_SMT      1114 non-null   object\n 11  IN_FUN_AVLV_SGDO_SMT      1114 non-null   object\ndtypes: Int64(8), object(4)\nmemory usage: 104.4+ KB\n",
          "output_type": "stream"
        }
      ],
      "execution_count": 318
    },
    {
      "id": "fe5985b5-3014-4b02-8403-59ddd30906e0",
      "cell_type": "code",
      "source": "contagem_prim_sem = ex9_cumpriu_prim_sem['CD_UOR_LCZC'].value_counts().rename_axis('unique_values').reset_index(name='counts')\ncontagem_prim_sem = contagem_prim_sem.merge(fun_aval_prim_sem, how = 'left', left_on = 'unique_values', right_on = 'unique_values')\ncontagem_prim_sem",
      "metadata": {
        "trusted": true
      },
      "outputs": [
        {
          "execution_count": 319,
          "output_type": "execute_result",
          "data": {
            "text/plain": "   unique_values  counts_x  counts_y\n0           5117       217       232\n1          40066       181       201\n2           7671       174       195\n3           7670       159       170\n4           5114       150       172\n5           9598        99       110\n6           5151        75        83\n7          39660        59        64",
            "text/html": "<div>\n<style scoped>\n    .dataframe tbody tr th:only-of-type {\n        vertical-align: middle;\n    }\n\n    .dataframe tbody tr th {\n        vertical-align: top;\n    }\n\n    .dataframe thead th {\n        text-align: right;\n    }\n</style>\n<table border=\"1\" class=\"dataframe\">\n  <thead>\n    <tr style=\"text-align: right;\">\n      <th></th>\n      <th>unique_values</th>\n      <th>counts_x</th>\n      <th>counts_y</th>\n    </tr>\n  </thead>\n  <tbody>\n    <tr>\n      <th>0</th>\n      <td>5117</td>\n      <td>217</td>\n      <td>232</td>\n    </tr>\n    <tr>\n      <th>1</th>\n      <td>40066</td>\n      <td>181</td>\n      <td>201</td>\n    </tr>\n    <tr>\n      <th>2</th>\n      <td>7671</td>\n      <td>174</td>\n      <td>195</td>\n    </tr>\n    <tr>\n      <th>3</th>\n      <td>7670</td>\n      <td>159</td>\n      <td>170</td>\n    </tr>\n    <tr>\n      <th>4</th>\n      <td>5114</td>\n      <td>150</td>\n      <td>172</td>\n    </tr>\n    <tr>\n      <th>5</th>\n      <td>9598</td>\n      <td>99</td>\n      <td>110</td>\n    </tr>\n    <tr>\n      <th>6</th>\n      <td>5151</td>\n      <td>75</td>\n      <td>83</td>\n    </tr>\n    <tr>\n      <th>7</th>\n      <td>39660</td>\n      <td>59</td>\n      <td>64</td>\n    </tr>\n  </tbody>\n</table>\n</div>"
          },
          "metadata": {}
        }
      ],
      "execution_count": 319
    },
    {
      "id": "2cfe3d1d-f069-48c8-b7b4-1a899723c8e3",
      "cell_type": "code",
      "source": "contagem_prim_sem['IC_ATGT_IN_PRMO_SMT'] = round(contagem_prim_sem['counts_x'] / contagem_prim_sem['counts_y'], 2)\ncontagem_prim_sem.drop(columns = ['counts_x', 'counts_y'], inplace = True)\ncontagem_prim_sem.rename(columns = {'unique_values': 'CD_UOR'}, inplace = True)\ncontagem_prim_sem",
      "metadata": {
        "trusted": true
      },
      "outputs": [
        {
          "execution_count": 320,
          "output_type": "execute_result",
          "data": {
            "text/plain": "   CD_UOR  IC_ATGT_IN_PRMO_SMT\n0    5117                 0.94\n1   40066                  0.9\n2    7671                 0.89\n3    7670                 0.94\n4    5114                 0.87\n5    9598                  0.9\n6    5151                  0.9\n7   39660                 0.92",
            "text/html": "<div>\n<style scoped>\n    .dataframe tbody tr th:only-of-type {\n        vertical-align: middle;\n    }\n\n    .dataframe tbody tr th {\n        vertical-align: top;\n    }\n\n    .dataframe thead th {\n        text-align: right;\n    }\n</style>\n<table border=\"1\" class=\"dataframe\">\n  <thead>\n    <tr style=\"text-align: right;\">\n      <th></th>\n      <th>CD_UOR</th>\n      <th>IC_ATGT_IN_PRMO_SMT</th>\n    </tr>\n  </thead>\n  <tbody>\n    <tr>\n      <th>0</th>\n      <td>5117</td>\n      <td>0.94</td>\n    </tr>\n    <tr>\n      <th>1</th>\n      <td>40066</td>\n      <td>0.9</td>\n    </tr>\n    <tr>\n      <th>2</th>\n      <td>7671</td>\n      <td>0.89</td>\n    </tr>\n    <tr>\n      <th>3</th>\n      <td>7670</td>\n      <td>0.94</td>\n    </tr>\n    <tr>\n      <th>4</th>\n      <td>5114</td>\n      <td>0.87</td>\n    </tr>\n    <tr>\n      <th>5</th>\n      <td>9598</td>\n      <td>0.9</td>\n    </tr>\n    <tr>\n      <th>6</th>\n      <td>5151</td>\n      <td>0.9</td>\n    </tr>\n    <tr>\n      <th>7</th>\n      <td>39660</td>\n      <td>0.92</td>\n    </tr>\n  </tbody>\n</table>\n</div>"
          },
          "metadata": {}
        }
      ],
      "execution_count": 320
    },
    {
      "id": "98aa96bd-8331-4ecd-9f61-0afac72f77e4",
      "cell_type": "code",
      "source": "exercicio10 = exercicio10.merge(contagem_prim_sem, how = 'left', left_on = 'CD_UOR', right_on = 'CD_UOR')",
      "metadata": {
        "trusted": true
      },
      "outputs": [],
      "execution_count": 321
    },
    {
      "id": "26c300a8-b251-4a3f-a043-edab908f5b59",
      "cell_type": "code",
      "source": "ex9_seg_sem = ex9.query('IN_FUN_AVLV_SGDO_SMT == \"S\"')\nex9_seg_sem.info()",
      "metadata": {
        "trusted": true
      },
      "outputs": [
        {
          "name": "stdout",
          "text": "<class 'pandas.core.frame.DataFrame'>\nInt64Index: 1234 entries, 0 to 1240\nData columns (total 12 columns):\n #   Column                    Non-Null Count  Dtype \n---  ------                    --------------  ----- \n 0   CD_MTC_FUN                1234 non-null   Int64 \n 1   CD_UOR_LCZC               1234 non-null   Int64 \n 2   QT_TTL_CSO                1234 non-null   Int64 \n 3   QT_TTL_CSO_TRLA           1234 non-null   Int64 \n 4   QT_TTL_HH_PRMO_SMT        1234 non-null   Int64 \n 5   QT_TTL_HH_TRLA_PRMO_SMT   1234 non-null   Int64 \n 6   QT_TTL_HH_SGDO_SMT        1234 non-null   Int64 \n 7   QT_TTL_HH_TRLA_SGDO_SMT   1234 non-null   Int64 \n 8   IN_CPM_TTL_TRLA_PRMO_SMT  1234 non-null   object\n 9   IN_CPM_TTL_TRLA_SGDO_SMT  1234 non-null   object\n 10  IN_FUN_AVLV_PRMO_SMT      1234 non-null   object\n 11  IN_FUN_AVLV_SGDO_SMT      1234 non-null   object\ndtypes: Int64(8), object(4)\nmemory usage: 115.7+ KB\n",
          "output_type": "stream"
        }
      ],
      "execution_count": 322
    },
    {
      "id": "946b411f-bc72-427f-876a-210ffe733e63",
      "cell_type": "code",
      "source": "fun_aval_seg_sem = ex9_seg_sem['CD_UOR_LCZC'].value_counts().rename_axis('unique_values').reset_index(name='counts')\nfun_aval_seg_sem",
      "metadata": {
        "trusted": true
      },
      "outputs": [
        {
          "execution_count": 323,
          "output_type": "execute_result",
          "data": {
            "text/plain": "   unique_values  counts\n0           5117     234\n1          40066     203\n2           7671     195\n3           5114     173\n4           7670     172\n5           9598     110\n6           5151      83\n7          39660      64",
            "text/html": "<div>\n<style scoped>\n    .dataframe tbody tr th:only-of-type {\n        vertical-align: middle;\n    }\n\n    .dataframe tbody tr th {\n        vertical-align: top;\n    }\n\n    .dataframe thead th {\n        text-align: right;\n    }\n</style>\n<table border=\"1\" class=\"dataframe\">\n  <thead>\n    <tr style=\"text-align: right;\">\n      <th></th>\n      <th>unique_values</th>\n      <th>counts</th>\n    </tr>\n  </thead>\n  <tbody>\n    <tr>\n      <th>0</th>\n      <td>5117</td>\n      <td>234</td>\n    </tr>\n    <tr>\n      <th>1</th>\n      <td>40066</td>\n      <td>203</td>\n    </tr>\n    <tr>\n      <th>2</th>\n      <td>7671</td>\n      <td>195</td>\n    </tr>\n    <tr>\n      <th>3</th>\n      <td>5114</td>\n      <td>173</td>\n    </tr>\n    <tr>\n      <th>4</th>\n      <td>7670</td>\n      <td>172</td>\n    </tr>\n    <tr>\n      <th>5</th>\n      <td>9598</td>\n      <td>110</td>\n    </tr>\n    <tr>\n      <th>6</th>\n      <td>5151</td>\n      <td>83</td>\n    </tr>\n    <tr>\n      <th>7</th>\n      <td>39660</td>\n      <td>64</td>\n    </tr>\n  </tbody>\n</table>\n</div>"
          },
          "metadata": {}
        }
      ],
      "execution_count": 323
    },
    {
      "id": "88a05a5c-abb6-44ab-9e6e-ac8bbf9c9868",
      "cell_type": "code",
      "source": "ex9_cumpriu_seg_sem = ex9_seg_sem.query('(QT_TTL_HH_SGDO_SMT >= 20 & QT_TTL_HH_TRLA_SGDO_SMT >= 10) | (QT_TTL_CSO_TRLA == 89 & QT_TTL_HH_SGDO_SMT >= 20)')\nex9_cumpriu_seg_sem.info()",
      "metadata": {
        "trusted": true
      },
      "outputs": [
        {
          "name": "stdout",
          "text": "<class 'pandas.core.frame.DataFrame'>\nInt64Index: 513 entries, 1 to 1239\nData columns (total 12 columns):\n #   Column                    Non-Null Count  Dtype \n---  ------                    --------------  ----- \n 0   CD_MTC_FUN                513 non-null    Int64 \n 1   CD_UOR_LCZC               513 non-null    Int64 \n 2   QT_TTL_CSO                513 non-null    Int64 \n 3   QT_TTL_CSO_TRLA           513 non-null    Int64 \n 4   QT_TTL_HH_PRMO_SMT        513 non-null    Int64 \n 5   QT_TTL_HH_TRLA_PRMO_SMT   513 non-null    Int64 \n 6   QT_TTL_HH_SGDO_SMT        513 non-null    Int64 \n 7   QT_TTL_HH_TRLA_SGDO_SMT   513 non-null    Int64 \n 8   IN_CPM_TTL_TRLA_PRMO_SMT  513 non-null    object\n 9   IN_CPM_TTL_TRLA_SGDO_SMT  513 non-null    object\n 10  IN_FUN_AVLV_PRMO_SMT      513 non-null    object\n 11  IN_FUN_AVLV_SGDO_SMT      513 non-null    object\ndtypes: Int64(8), object(4)\nmemory usage: 48.1+ KB\n",
          "output_type": "stream"
        }
      ],
      "execution_count": 324
    },
    {
      "id": "8084a511-3f46-4d50-a10f-255dbd07a6e7",
      "cell_type": "code",
      "source": "contagem_seg_sem = ex9_cumpriu_seg_sem['CD_UOR_LCZC'].value_counts().rename_axis('unique_values').reset_index(name='counts')\ncontagem_seg_sem = contagem_seg_sem.merge(fun_aval_seg_sem, how = 'left', left_on = 'unique_values', right_on = 'unique_values')\ncontagem_seg_sem",
      "metadata": {
        "trusted": true
      },
      "outputs": [
        {
          "execution_count": 325,
          "output_type": "execute_result",
          "data": {
            "text/plain": "   unique_values  counts_x  counts_y\n0           5117       100       234\n1          40066        88       203\n2           7671        81       195\n3           7670        68       172\n4           5114        63       173\n5           9598        46       110\n6           5151        38        83\n7          39660        29        64",
            "text/html": "<div>\n<style scoped>\n    .dataframe tbody tr th:only-of-type {\n        vertical-align: middle;\n    }\n\n    .dataframe tbody tr th {\n        vertical-align: top;\n    }\n\n    .dataframe thead th {\n        text-align: right;\n    }\n</style>\n<table border=\"1\" class=\"dataframe\">\n  <thead>\n    <tr style=\"text-align: right;\">\n      <th></th>\n      <th>unique_values</th>\n      <th>counts_x</th>\n      <th>counts_y</th>\n    </tr>\n  </thead>\n  <tbody>\n    <tr>\n      <th>0</th>\n      <td>5117</td>\n      <td>100</td>\n      <td>234</td>\n    </tr>\n    <tr>\n      <th>1</th>\n      <td>40066</td>\n      <td>88</td>\n      <td>203</td>\n    </tr>\n    <tr>\n      <th>2</th>\n      <td>7671</td>\n      <td>81</td>\n      <td>195</td>\n    </tr>\n    <tr>\n      <th>3</th>\n      <td>7670</td>\n      <td>68</td>\n      <td>172</td>\n    </tr>\n    <tr>\n      <th>4</th>\n      <td>5114</td>\n      <td>63</td>\n      <td>173</td>\n    </tr>\n    <tr>\n      <th>5</th>\n      <td>9598</td>\n      <td>46</td>\n      <td>110</td>\n    </tr>\n    <tr>\n      <th>6</th>\n      <td>5151</td>\n      <td>38</td>\n      <td>83</td>\n    </tr>\n    <tr>\n      <th>7</th>\n      <td>39660</td>\n      <td>29</td>\n      <td>64</td>\n    </tr>\n  </tbody>\n</table>\n</div>"
          },
          "metadata": {}
        }
      ],
      "execution_count": 325
    },
    {
      "id": "38e78453-5b5b-45c8-9e7f-fdc39684f675",
      "cell_type": "code",
      "source": "contagem_seg_sem['IC_ATGT_IN_SGDO_SMT'] = round(contagem_seg_sem['counts_x'] / contagem_seg_sem['counts_y'], 2)\ncontagem_seg_sem.drop(columns = ['counts_x', 'counts_y'], inplace = True)\ncontagem_seg_sem.rename(columns = {'unique_values': 'CD_UOR'}, inplace = True)\ncontagem_seg_sem",
      "metadata": {
        "trusted": true
      },
      "outputs": [
        {
          "execution_count": 326,
          "output_type": "execute_result",
          "data": {
            "text/plain": "   CD_UOR  IC_ATGT_IN_SGDO_SMT\n0    5117                 0.43\n1   40066                 0.43\n2    7671                 0.42\n3    7670                  0.4\n4    5114                 0.36\n5    9598                 0.42\n6    5151                 0.46\n7   39660                 0.45",
            "text/html": "<div>\n<style scoped>\n    .dataframe tbody tr th:only-of-type {\n        vertical-align: middle;\n    }\n\n    .dataframe tbody tr th {\n        vertical-align: top;\n    }\n\n    .dataframe thead th {\n        text-align: right;\n    }\n</style>\n<table border=\"1\" class=\"dataframe\">\n  <thead>\n    <tr style=\"text-align: right;\">\n      <th></th>\n      <th>CD_UOR</th>\n      <th>IC_ATGT_IN_SGDO_SMT</th>\n    </tr>\n  </thead>\n  <tbody>\n    <tr>\n      <th>0</th>\n      <td>5117</td>\n      <td>0.43</td>\n    </tr>\n    <tr>\n      <th>1</th>\n      <td>40066</td>\n      <td>0.43</td>\n    </tr>\n    <tr>\n      <th>2</th>\n      <td>7671</td>\n      <td>0.42</td>\n    </tr>\n    <tr>\n      <th>3</th>\n      <td>7670</td>\n      <td>0.4</td>\n    </tr>\n    <tr>\n      <th>4</th>\n      <td>5114</td>\n      <td>0.36</td>\n    </tr>\n    <tr>\n      <th>5</th>\n      <td>9598</td>\n      <td>0.42</td>\n    </tr>\n    <tr>\n      <th>6</th>\n      <td>5151</td>\n      <td>0.46</td>\n    </tr>\n    <tr>\n      <th>7</th>\n      <td>39660</td>\n      <td>0.45</td>\n    </tr>\n  </tbody>\n</table>\n</div>"
          },
          "metadata": {}
        }
      ],
      "execution_count": 326
    },
    {
      "id": "d5fc160a-27fb-448f-8d26-2786981eed79",
      "cell_type": "code",
      "source": "exercicio10 = exercicio10.merge(contagem_seg_sem, how = 'left', left_on = 'CD_UOR', right_on = 'CD_UOR')\nexercicio10.head(40)",
      "metadata": {
        "trusted": true
      },
      "outputs": [
        {
          "execution_count": 327,
          "output_type": "execute_result",
          "data": {
            "text/plain": "    CD_DEPE_UOR  CD_UOR      SG_UOR            NM_UOR_RDZ  CD_DEPE_VICE_PRSA  \\\n0          8550    5108  DIRCO       DIRCO-CONTROLADORIA                8063   \n1          8556    5114  DICRE       DICRE/RISCO CREDITO                9597   \n2          8557    5115  DIFIN       DIFIN-FINANCAS                     8063   \n3          8558    5116  DISEC       DISEC-SUP INFR PATR                8010   \n4          8559    5117  DIPES       DIPES-CULT E PESSOAS               8010   \n5          8590    5148  DICOR       DICOR-CORPORATE BANK               8069   \n6          8592    5150  DIVAR       DIVAR-COMERCIAL VAR                8166   \n7          8593    5151  DIGOV       DIGOV-GOVERNO                      8468   \n8          8595    5153  UCR         UCR-COBRANCA E REEST               8010   \n9          8596    5154  DIRAG       DIRAG-AGRONEGOCIOS                 8042   \n10         8627    5185  URI         URI-REL.INVESTIDORES               8063   \n11         8948    5536  OUVID       OUVIDORIA                          8010   \n12         9568    6107  COGER       COGER-CONTADORIA                   8063   \n13         9572    6109  DICOI       DICOI-CONTR.INTERNOS               9597   \n14         9599    6135  DIRIS       DIRIS-GESTAO RISCOS                9597   \n15         9600    6136  DIOPE       DIOPE-OPERACOES                    8010   \n16         9867    6390  CIB         CIB-CORP INVEST BANK               8069   \n17         9879    6399  MPE         CLIENTES-MPE                       8166   \n18         9903    6411  DITEC       DITEC-TECNOLOGIA                   8033   \n19         9882    7513  UPB         UPB-PRIVATE BANK                   8069   \n20         9880    7670  DIMEP       DIMEP-MEIOS PAGAMEN.               8063   \n21         9973    7671  DIEMP       DIEMP-EMPREST.FINANC               8042   \n22         9974    7672  DISEG       DIPRO-SEGURIDADE                   8033   \n23         9548    8465  USD         USD-SEG DIGITAL INF.               8033   \n24         8008    9598  DIREC       DIREC-CLI. VAR. PF                 8166   \n25         9510   36570  UGE         UPE-PART.PARC.ESTRAT               8063   \n26         9090   38038              CESUP INF GR PREDIOS               8010   \n27         8892   38057  GECEM       GECEM-CENTRAL METAS                8166   \n28         8896   38668  USI         USI-SEGUR. INST.                   9597   \n29         9897   38852  DINED       DINED-NEG. DIGITAIS                8033   \n30         9797   39660  UCI         UCI-CAPTACAO INVEST.               8069   \n31         9958   39763  UNI         UNI-NEG. INTERNAC.                 8069   \n32         9220   40003  DIRAV       DIRAV-ALTO VAREJO                  8166   \n33         9010   40004  UAC         UAC-AT CAN FIS E DIG               8166   \n34         9968   40066  UAN         UAN-IA. ANALITICA                  8033   \n35         9720   43773  ASG         ASG                                8468   \n36         9262   43795  GERAT       GERAT-REDE ATACADO                 8069   \n37         9240   43834  UEG         UEG-ESTR. GOVERNO                  8468   \n38         9045   44167  CRM         CRM-INDUCAO DIGITAL                8166   \n39         9078   44168  INOVA       PROG. INOVA VAREJO                 8166   \n\n   SG_VICE_PRSA  QT_TTL_FUN_UOR IN_UOR_ALVO_ANL  IC_ATGT_IN_PRMO_SMT  \\\n0    VIFIN                  129               N                 <NA>   \n1    VICRI                  173               S                 0.87   \n2    VIFIN                  154               N                 <NA>   \n3    VICOR                  198               N                 <NA>   \n4    VICOR                  235               S                 0.94   \n5    VIPAT                   72               N                 <NA>   \n6    VIVAR                   72               N                 <NA>   \n7    VIGOV                   83               S                  0.9   \n8    VICOR                  101               N                 <NA>   \n9    VIPAG                  156               N                 <NA>   \n10   VIFIN                   29               N                 <NA>   \n11   VICOR                   26               N                 <NA>   \n12   VIFIN                  196               N                 <NA>   \n13   VICRI                   54               N                 <NA>   \n14   VICRI                  181               N                 <NA>   \n15   VICOR                  292               N                 <NA>   \n16   VIPAT                   81               N                 <NA>   \n17   VIVAR                   64               N                 <NA>   \n18   VINET                  137               N                 <NA>   \n19   VIPAT                   75               N                 <NA>   \n20   VIFIN                  174               S                 0.94   \n21   VIPAG                  197               S                 0.89   \n22   VINET                   76               N                 <NA>   \n23   VINET                  240               N                 <NA>   \n24   VIVAR                  110               S                  0.9   \n25   VIFIN                   95               N                 <NA>   \n26   VICOR                  246               N                 <NA>   \n27   VIVAR                   38               N                 <NA>   \n28   VICRI                  194               N                 <NA>   \n29   VINET                   96               N                 <NA>   \n30   VIPAT                   64               S                 0.92   \n31   VIPAT                   66               N                 <NA>   \n32   VIVAR                   56               N                 <NA>   \n33   VIVAR                  149               N                 <NA>   \n34   VINET                  205               S                  0.9   \n35   VIGOV                   70               N                 <NA>   \n36   VIPAT                   54               N                 <NA>   \n37   VIGOV                  133               N                 <NA>   \n38   VIVAR                   43               N                 <NA>   \n39   VIVAR                   58               N                 <NA>   \n\n    IC_ATGT_IN_SGDO_SMT  \n0                  <NA>  \n1                  0.36  \n2                  <NA>  \n3                  <NA>  \n4                  0.43  \n5                  <NA>  \n6                  <NA>  \n7                  0.46  \n8                  <NA>  \n9                  <NA>  \n10                 <NA>  \n11                 <NA>  \n12                 <NA>  \n13                 <NA>  \n14                 <NA>  \n15                 <NA>  \n16                 <NA>  \n17                 <NA>  \n18                 <NA>  \n19                 <NA>  \n20                  0.4  \n21                 0.42  \n22                 <NA>  \n23                 <NA>  \n24                 0.42  \n25                 <NA>  \n26                 <NA>  \n27                 <NA>  \n28                 <NA>  \n29                 <NA>  \n30                 0.45  \n31                 <NA>  \n32                 <NA>  \n33                 <NA>  \n34                 0.43  \n35                 <NA>  \n36                 <NA>  \n37                 <NA>  \n38                 <NA>  \n39                 <NA>  ",
            "text/html": "<div>\n<style scoped>\n    .dataframe tbody tr th:only-of-type {\n        vertical-align: middle;\n    }\n\n    .dataframe tbody tr th {\n        vertical-align: top;\n    }\n\n    .dataframe thead th {\n        text-align: right;\n    }\n</style>\n<table border=\"1\" class=\"dataframe\">\n  <thead>\n    <tr style=\"text-align: right;\">\n      <th></th>\n      <th>CD_DEPE_UOR</th>\n      <th>CD_UOR</th>\n      <th>SG_UOR</th>\n      <th>NM_UOR_RDZ</th>\n      <th>CD_DEPE_VICE_PRSA</th>\n      <th>SG_VICE_PRSA</th>\n      <th>QT_TTL_FUN_UOR</th>\n      <th>IN_UOR_ALVO_ANL</th>\n      <th>IC_ATGT_IN_PRMO_SMT</th>\n      <th>IC_ATGT_IN_SGDO_SMT</th>\n    </tr>\n  </thead>\n  <tbody>\n    <tr>\n      <th>0</th>\n      <td>8550</td>\n      <td>5108</td>\n      <td>DIRCO</td>\n      <td>DIRCO-CONTROLADORIA</td>\n      <td>8063</td>\n      <td>VIFIN</td>\n      <td>129</td>\n      <td>N</td>\n      <td>&lt;NA&gt;</td>\n      <td>&lt;NA&gt;</td>\n    </tr>\n    <tr>\n      <th>1</th>\n      <td>8556</td>\n      <td>5114</td>\n      <td>DICRE</td>\n      <td>DICRE/RISCO CREDITO</td>\n      <td>9597</td>\n      <td>VICRI</td>\n      <td>173</td>\n      <td>S</td>\n      <td>0.87</td>\n      <td>0.36</td>\n    </tr>\n    <tr>\n      <th>2</th>\n      <td>8557</td>\n      <td>5115</td>\n      <td>DIFIN</td>\n      <td>DIFIN-FINANCAS</td>\n      <td>8063</td>\n      <td>VIFIN</td>\n      <td>154</td>\n      <td>N</td>\n      <td>&lt;NA&gt;</td>\n      <td>&lt;NA&gt;</td>\n    </tr>\n    <tr>\n      <th>3</th>\n      <td>8558</td>\n      <td>5116</td>\n      <td>DISEC</td>\n      <td>DISEC-SUP INFR PATR</td>\n      <td>8010</td>\n      <td>VICOR</td>\n      <td>198</td>\n      <td>N</td>\n      <td>&lt;NA&gt;</td>\n      <td>&lt;NA&gt;</td>\n    </tr>\n    <tr>\n      <th>4</th>\n      <td>8559</td>\n      <td>5117</td>\n      <td>DIPES</td>\n      <td>DIPES-CULT E PESSOAS</td>\n      <td>8010</td>\n      <td>VICOR</td>\n      <td>235</td>\n      <td>S</td>\n      <td>0.94</td>\n      <td>0.43</td>\n    </tr>\n    <tr>\n      <th>5</th>\n      <td>8590</td>\n      <td>5148</td>\n      <td>DICOR</td>\n      <td>DICOR-CORPORATE BANK</td>\n      <td>8069</td>\n      <td>VIPAT</td>\n      <td>72</td>\n      <td>N</td>\n      <td>&lt;NA&gt;</td>\n      <td>&lt;NA&gt;</td>\n    </tr>\n    <tr>\n      <th>6</th>\n      <td>8592</td>\n      <td>5150</td>\n      <td>DIVAR</td>\n      <td>DIVAR-COMERCIAL VAR</td>\n      <td>8166</td>\n      <td>VIVAR</td>\n      <td>72</td>\n      <td>N</td>\n      <td>&lt;NA&gt;</td>\n      <td>&lt;NA&gt;</td>\n    </tr>\n    <tr>\n      <th>7</th>\n      <td>8593</td>\n      <td>5151</td>\n      <td>DIGOV</td>\n      <td>DIGOV-GOVERNO</td>\n      <td>8468</td>\n      <td>VIGOV</td>\n      <td>83</td>\n      <td>S</td>\n      <td>0.9</td>\n      <td>0.46</td>\n    </tr>\n    <tr>\n      <th>8</th>\n      <td>8595</td>\n      <td>5153</td>\n      <td>UCR</td>\n      <td>UCR-COBRANCA E REEST</td>\n      <td>8010</td>\n      <td>VICOR</td>\n      <td>101</td>\n      <td>N</td>\n      <td>&lt;NA&gt;</td>\n      <td>&lt;NA&gt;</td>\n    </tr>\n    <tr>\n      <th>9</th>\n      <td>8596</td>\n      <td>5154</td>\n      <td>DIRAG</td>\n      <td>DIRAG-AGRONEGOCIOS</td>\n      <td>8042</td>\n      <td>VIPAG</td>\n      <td>156</td>\n      <td>N</td>\n      <td>&lt;NA&gt;</td>\n      <td>&lt;NA&gt;</td>\n    </tr>\n    <tr>\n      <th>10</th>\n      <td>8627</td>\n      <td>5185</td>\n      <td>URI</td>\n      <td>URI-REL.INVESTIDORES</td>\n      <td>8063</td>\n      <td>VIFIN</td>\n      <td>29</td>\n      <td>N</td>\n      <td>&lt;NA&gt;</td>\n      <td>&lt;NA&gt;</td>\n    </tr>\n    <tr>\n      <th>11</th>\n      <td>8948</td>\n      <td>5536</td>\n      <td>OUVID</td>\n      <td>OUVIDORIA</td>\n      <td>8010</td>\n      <td>VICOR</td>\n      <td>26</td>\n      <td>N</td>\n      <td>&lt;NA&gt;</td>\n      <td>&lt;NA&gt;</td>\n    </tr>\n    <tr>\n      <th>12</th>\n      <td>9568</td>\n      <td>6107</td>\n      <td>COGER</td>\n      <td>COGER-CONTADORIA</td>\n      <td>8063</td>\n      <td>VIFIN</td>\n      <td>196</td>\n      <td>N</td>\n      <td>&lt;NA&gt;</td>\n      <td>&lt;NA&gt;</td>\n    </tr>\n    <tr>\n      <th>13</th>\n      <td>9572</td>\n      <td>6109</td>\n      <td>DICOI</td>\n      <td>DICOI-CONTR.INTERNOS</td>\n      <td>9597</td>\n      <td>VICRI</td>\n      <td>54</td>\n      <td>N</td>\n      <td>&lt;NA&gt;</td>\n      <td>&lt;NA&gt;</td>\n    </tr>\n    <tr>\n      <th>14</th>\n      <td>9599</td>\n      <td>6135</td>\n      <td>DIRIS</td>\n      <td>DIRIS-GESTAO RISCOS</td>\n      <td>9597</td>\n      <td>VICRI</td>\n      <td>181</td>\n      <td>N</td>\n      <td>&lt;NA&gt;</td>\n      <td>&lt;NA&gt;</td>\n    </tr>\n    <tr>\n      <th>15</th>\n      <td>9600</td>\n      <td>6136</td>\n      <td>DIOPE</td>\n      <td>DIOPE-OPERACOES</td>\n      <td>8010</td>\n      <td>VICOR</td>\n      <td>292</td>\n      <td>N</td>\n      <td>&lt;NA&gt;</td>\n      <td>&lt;NA&gt;</td>\n    </tr>\n    <tr>\n      <th>16</th>\n      <td>9867</td>\n      <td>6390</td>\n      <td>CIB</td>\n      <td>CIB-CORP INVEST BANK</td>\n      <td>8069</td>\n      <td>VIPAT</td>\n      <td>81</td>\n      <td>N</td>\n      <td>&lt;NA&gt;</td>\n      <td>&lt;NA&gt;</td>\n    </tr>\n    <tr>\n      <th>17</th>\n      <td>9879</td>\n      <td>6399</td>\n      <td>MPE</td>\n      <td>CLIENTES-MPE</td>\n      <td>8166</td>\n      <td>VIVAR</td>\n      <td>64</td>\n      <td>N</td>\n      <td>&lt;NA&gt;</td>\n      <td>&lt;NA&gt;</td>\n    </tr>\n    <tr>\n      <th>18</th>\n      <td>9903</td>\n      <td>6411</td>\n      <td>DITEC</td>\n      <td>DITEC-TECNOLOGIA</td>\n      <td>8033</td>\n      <td>VINET</td>\n      <td>137</td>\n      <td>N</td>\n      <td>&lt;NA&gt;</td>\n      <td>&lt;NA&gt;</td>\n    </tr>\n    <tr>\n      <th>19</th>\n      <td>9882</td>\n      <td>7513</td>\n      <td>UPB</td>\n      <td>UPB-PRIVATE BANK</td>\n      <td>8069</td>\n      <td>VIPAT</td>\n      <td>75</td>\n      <td>N</td>\n      <td>&lt;NA&gt;</td>\n      <td>&lt;NA&gt;</td>\n    </tr>\n    <tr>\n      <th>20</th>\n      <td>9880</td>\n      <td>7670</td>\n      <td>DIMEP</td>\n      <td>DIMEP-MEIOS PAGAMEN.</td>\n      <td>8063</td>\n      <td>VIFIN</td>\n      <td>174</td>\n      <td>S</td>\n      <td>0.94</td>\n      <td>0.4</td>\n    </tr>\n    <tr>\n      <th>21</th>\n      <td>9973</td>\n      <td>7671</td>\n      <td>DIEMP</td>\n      <td>DIEMP-EMPREST.FINANC</td>\n      <td>8042</td>\n      <td>VIPAG</td>\n      <td>197</td>\n      <td>S</td>\n      <td>0.89</td>\n      <td>0.42</td>\n    </tr>\n    <tr>\n      <th>22</th>\n      <td>9974</td>\n      <td>7672</td>\n      <td>DISEG</td>\n      <td>DIPRO-SEGURIDADE</td>\n      <td>8033</td>\n      <td>VINET</td>\n      <td>76</td>\n      <td>N</td>\n      <td>&lt;NA&gt;</td>\n      <td>&lt;NA&gt;</td>\n    </tr>\n    <tr>\n      <th>23</th>\n      <td>9548</td>\n      <td>8465</td>\n      <td>USD</td>\n      <td>USD-SEG DIGITAL INF.</td>\n      <td>8033</td>\n      <td>VINET</td>\n      <td>240</td>\n      <td>N</td>\n      <td>&lt;NA&gt;</td>\n      <td>&lt;NA&gt;</td>\n    </tr>\n    <tr>\n      <th>24</th>\n      <td>8008</td>\n      <td>9598</td>\n      <td>DIREC</td>\n      <td>DIREC-CLI. VAR. PF</td>\n      <td>8166</td>\n      <td>VIVAR</td>\n      <td>110</td>\n      <td>S</td>\n      <td>0.9</td>\n      <td>0.42</td>\n    </tr>\n    <tr>\n      <th>25</th>\n      <td>9510</td>\n      <td>36570</td>\n      <td>UGE</td>\n      <td>UPE-PART.PARC.ESTRAT</td>\n      <td>8063</td>\n      <td>VIFIN</td>\n      <td>95</td>\n      <td>N</td>\n      <td>&lt;NA&gt;</td>\n      <td>&lt;NA&gt;</td>\n    </tr>\n    <tr>\n      <th>26</th>\n      <td>9090</td>\n      <td>38038</td>\n      <td></td>\n      <td>CESUP INF GR PREDIOS</td>\n      <td>8010</td>\n      <td>VICOR</td>\n      <td>246</td>\n      <td>N</td>\n      <td>&lt;NA&gt;</td>\n      <td>&lt;NA&gt;</td>\n    </tr>\n    <tr>\n      <th>27</th>\n      <td>8892</td>\n      <td>38057</td>\n      <td>GECEM</td>\n      <td>GECEM-CENTRAL METAS</td>\n      <td>8166</td>\n      <td>VIVAR</td>\n      <td>38</td>\n      <td>N</td>\n      <td>&lt;NA&gt;</td>\n      <td>&lt;NA&gt;</td>\n    </tr>\n    <tr>\n      <th>28</th>\n      <td>8896</td>\n      <td>38668</td>\n      <td>USI</td>\n      <td>USI-SEGUR. INST.</td>\n      <td>9597</td>\n      <td>VICRI</td>\n      <td>194</td>\n      <td>N</td>\n      <td>&lt;NA&gt;</td>\n      <td>&lt;NA&gt;</td>\n    </tr>\n    <tr>\n      <th>29</th>\n      <td>9897</td>\n      <td>38852</td>\n      <td>DINED</td>\n      <td>DINED-NEG. DIGITAIS</td>\n      <td>8033</td>\n      <td>VINET</td>\n      <td>96</td>\n      <td>N</td>\n      <td>&lt;NA&gt;</td>\n      <td>&lt;NA&gt;</td>\n    </tr>\n    <tr>\n      <th>30</th>\n      <td>9797</td>\n      <td>39660</td>\n      <td>UCI</td>\n      <td>UCI-CAPTACAO INVEST.</td>\n      <td>8069</td>\n      <td>VIPAT</td>\n      <td>64</td>\n      <td>S</td>\n      <td>0.92</td>\n      <td>0.45</td>\n    </tr>\n    <tr>\n      <th>31</th>\n      <td>9958</td>\n      <td>39763</td>\n      <td>UNI</td>\n      <td>UNI-NEG. INTERNAC.</td>\n      <td>8069</td>\n      <td>VIPAT</td>\n      <td>66</td>\n      <td>N</td>\n      <td>&lt;NA&gt;</td>\n      <td>&lt;NA&gt;</td>\n    </tr>\n    <tr>\n      <th>32</th>\n      <td>9220</td>\n      <td>40003</td>\n      <td>DIRAV</td>\n      <td>DIRAV-ALTO VAREJO</td>\n      <td>8166</td>\n      <td>VIVAR</td>\n      <td>56</td>\n      <td>N</td>\n      <td>&lt;NA&gt;</td>\n      <td>&lt;NA&gt;</td>\n    </tr>\n    <tr>\n      <th>33</th>\n      <td>9010</td>\n      <td>40004</td>\n      <td>UAC</td>\n      <td>UAC-AT CAN FIS E DIG</td>\n      <td>8166</td>\n      <td>VIVAR</td>\n      <td>149</td>\n      <td>N</td>\n      <td>&lt;NA&gt;</td>\n      <td>&lt;NA&gt;</td>\n    </tr>\n    <tr>\n      <th>34</th>\n      <td>9968</td>\n      <td>40066</td>\n      <td>UAN</td>\n      <td>UAN-IA. ANALITICA</td>\n      <td>8033</td>\n      <td>VINET</td>\n      <td>205</td>\n      <td>S</td>\n      <td>0.9</td>\n      <td>0.43</td>\n    </tr>\n    <tr>\n      <th>35</th>\n      <td>9720</td>\n      <td>43773</td>\n      <td>ASG</td>\n      <td>ASG</td>\n      <td>8468</td>\n      <td>VIGOV</td>\n      <td>70</td>\n      <td>N</td>\n      <td>&lt;NA&gt;</td>\n      <td>&lt;NA&gt;</td>\n    </tr>\n    <tr>\n      <th>36</th>\n      <td>9262</td>\n      <td>43795</td>\n      <td>GERAT</td>\n      <td>GERAT-REDE ATACADO</td>\n      <td>8069</td>\n      <td>VIPAT</td>\n      <td>54</td>\n      <td>N</td>\n      <td>&lt;NA&gt;</td>\n      <td>&lt;NA&gt;</td>\n    </tr>\n    <tr>\n      <th>37</th>\n      <td>9240</td>\n      <td>43834</td>\n      <td>UEG</td>\n      <td>UEG-ESTR. GOVERNO</td>\n      <td>8468</td>\n      <td>VIGOV</td>\n      <td>133</td>\n      <td>N</td>\n      <td>&lt;NA&gt;</td>\n      <td>&lt;NA&gt;</td>\n    </tr>\n    <tr>\n      <th>38</th>\n      <td>9045</td>\n      <td>44167</td>\n      <td>CRM</td>\n      <td>CRM-INDUCAO DIGITAL</td>\n      <td>8166</td>\n      <td>VIVAR</td>\n      <td>43</td>\n      <td>N</td>\n      <td>&lt;NA&gt;</td>\n      <td>&lt;NA&gt;</td>\n    </tr>\n    <tr>\n      <th>39</th>\n      <td>9078</td>\n      <td>44168</td>\n      <td>INOVA</td>\n      <td>PROG. INOVA VAREJO</td>\n      <td>8166</td>\n      <td>VIVAR</td>\n      <td>58</td>\n      <td>N</td>\n      <td>&lt;NA&gt;</td>\n      <td>&lt;NA&gt;</td>\n    </tr>\n  </tbody>\n</table>\n</div>"
          },
          "metadata": {}
        }
      ],
      "execution_count": 327
    },
    {
      "id": "eeed289c-3d20-4643-8e9c-c78de1f8b427",
      "cell_type": "code",
      "source": "exercicio10['IC_ATGT_IN_PRMO_SMT'] = exercicio10['IC_ATGT_IN_PRMO_SMT'].astype(float)\nexercicio10['IC_ATGT_IN_SGDO_SMT'] = exercicio10['IC_ATGT_IN_SGDO_SMT'].astype(float)",
      "metadata": {
        "trusted": true
      },
      "outputs": [],
      "execution_count": 328
    },
    {
      "id": "862ca714-d192-4c01-8a04-231c98937d79",
      "cell_type": "code",
      "source": "exercicio10 = exercicio10.head(40)",
      "metadata": {
        "trusted": true
      },
      "outputs": [],
      "execution_count": 329
    },
    {
      "id": "9d7782a2-d7d9-482a-bd57-f93db1c6a962",
      "cell_type": "code",
      "source": "ex7 = exercicio7.copy()\nex7.dropna(inplace=True)",
      "metadata": {
        "trusted": true
      },
      "outputs": [],
      "execution_count": 330
    },
    {
      "id": "7f4a629c-fd12-465b-98df-4c13bd719a3d",
      "cell_type": "code",
      "source": "selecao = list(exercicio7['CD_UOR'])\nexercicio10 = exercicio10[exercicio10['CD_UOR'].isin(selecao)]\nexercicio10.info()\nexercicio10",
      "metadata": {
        "trusted": true
      },
      "outputs": [
        {
          "name": "stdout",
          "text": "<class 'pandas.core.frame.DataFrame'>\nInt64Index: 37 entries, 0 to 39\nData columns (total 10 columns):\n #   Column               Non-Null Count  Dtype  \n---  ------               --------------  -----  \n 0   CD_DEPE_UOR          37 non-null     Int64  \n 1   CD_UOR               37 non-null     Int64  \n 2   SG_UOR               37 non-null     object \n 3   NM_UOR_RDZ           37 non-null     object \n 4   CD_DEPE_VICE_PRSA    37 non-null     Int64  \n 5   SG_VICE_PRSA         37 non-null     object \n 6   QT_TTL_FUN_UOR       37 non-null     Int64  \n 7   IN_UOR_ALVO_ANL      37 non-null     object \n 8   IC_ATGT_IN_PRMO_SMT  8 non-null      float64\n 9   IC_ATGT_IN_SGDO_SMT  8 non-null      float64\ndtypes: Int64(4), float64(2), object(4)\nmemory usage: 2.7+ KB\n",
          "output_type": "stream"
        },
        {
          "execution_count": 331,
          "output_type": "execute_result",
          "data": {
            "text/plain": "    CD_DEPE_UOR  CD_UOR      SG_UOR            NM_UOR_RDZ  CD_DEPE_VICE_PRSA  \\\n0          8550    5108  DIRCO       DIRCO-CONTROLADORIA                8063   \n1          8556    5114  DICRE       DICRE/RISCO CREDITO                9597   \n2          8557    5115  DIFIN       DIFIN-FINANCAS                     8063   \n3          8558    5116  DISEC       DISEC-SUP INFR PATR                8010   \n4          8559    5117  DIPES       DIPES-CULT E PESSOAS               8010   \n5          8590    5148  DICOR       DICOR-CORPORATE BANK               8069   \n6          8592    5150  DIVAR       DIVAR-COMERCIAL VAR                8166   \n7          8593    5151  DIGOV       DIGOV-GOVERNO                      8468   \n8          8595    5153  UCR         UCR-COBRANCA E REEST               8010   \n9          8596    5154  DIRAG       DIRAG-AGRONEGOCIOS                 8042   \n10         8627    5185  URI         URI-REL.INVESTIDORES               8063   \n11         8948    5536  OUVID       OUVIDORIA                          8010   \n12         9568    6107  COGER       COGER-CONTADORIA                   8063   \n13         9572    6109  DICOI       DICOI-CONTR.INTERNOS               9597   \n14         9599    6135  DIRIS       DIRIS-GESTAO RISCOS                9597   \n15         9600    6136  DIOPE       DIOPE-OPERACOES                    8010   \n16         9867    6390  CIB         CIB-CORP INVEST BANK               8069   \n17         9879    6399  MPE         CLIENTES-MPE                       8166   \n18         9903    6411  DITEC       DITEC-TECNOLOGIA                   8033   \n19         9882    7513  UPB         UPB-PRIVATE BANK                   8069   \n20         9880    7670  DIMEP       DIMEP-MEIOS PAGAMEN.               8063   \n21         9973    7671  DIEMP       DIEMP-EMPREST.FINANC               8042   \n22         9974    7672  DISEG       DIPRO-SEGURIDADE                   8033   \n23         9548    8465  USD         USD-SEG DIGITAL INF.               8033   \n24         8008    9598  DIREC       DIREC-CLI. VAR. PF                 8166   \n25         9510   36570  UGE         UPE-PART.PARC.ESTRAT               8063   \n28         8896   38668  USI         USI-SEGUR. INST.                   9597   \n29         9897   38852  DINED       DINED-NEG. DIGITAIS                8033   \n30         9797   39660  UCI         UCI-CAPTACAO INVEST.               8069   \n31         9958   39763  UNI         UNI-NEG. INTERNAC.                 8069   \n32         9220   40003  DIRAV       DIRAV-ALTO VAREJO                  8166   \n33         9010   40004  UAC         UAC-AT CAN FIS E DIG               8166   \n34         9968   40066  UAN         UAN-IA. ANALITICA                  8033   \n35         9720   43773  ASG         ASG                                8468   \n37         9240   43834  UEG         UEG-ESTR. GOVERNO                  8468   \n38         9045   44167  CRM         CRM-INDUCAO DIGITAL                8166   \n39         9078   44168  INOVA       PROG. INOVA VAREJO                 8166   \n\n   SG_VICE_PRSA  QT_TTL_FUN_UOR IN_UOR_ALVO_ANL  IC_ATGT_IN_PRMO_SMT  \\\n0    VIFIN                  129               N                  NaN   \n1    VICRI                  173               S                 0.87   \n2    VIFIN                  154               N                  NaN   \n3    VICOR                  198               N                  NaN   \n4    VICOR                  235               S                 0.94   \n5    VIPAT                   72               N                  NaN   \n6    VIVAR                   72               N                  NaN   \n7    VIGOV                   83               S                 0.90   \n8    VICOR                  101               N                  NaN   \n9    VIPAG                  156               N                  NaN   \n10   VIFIN                   29               N                  NaN   \n11   VICOR                   26               N                  NaN   \n12   VIFIN                  196               N                  NaN   \n13   VICRI                   54               N                  NaN   \n14   VICRI                  181               N                  NaN   \n15   VICOR                  292               N                  NaN   \n16   VIPAT                   81               N                  NaN   \n17   VIVAR                   64               N                  NaN   \n18   VINET                  137               N                  NaN   \n19   VIPAT                   75               N                  NaN   \n20   VIFIN                  174               S                 0.94   \n21   VIPAG                  197               S                 0.89   \n22   VINET                   76               N                  NaN   \n23   VINET                  240               N                  NaN   \n24   VIVAR                  110               S                 0.90   \n25   VIFIN                   95               N                  NaN   \n28   VICRI                  194               N                  NaN   \n29   VINET                   96               N                  NaN   \n30   VIPAT                   64               S                 0.92   \n31   VIPAT                   66               N                  NaN   \n32   VIVAR                   56               N                  NaN   \n33   VIVAR                  149               N                  NaN   \n34   VINET                  205               S                 0.90   \n35   VIGOV                   70               N                  NaN   \n37   VIGOV                  133               N                  NaN   \n38   VIVAR                   43               N                  NaN   \n39   VIVAR                   58               N                  NaN   \n\n    IC_ATGT_IN_SGDO_SMT  \n0                   NaN  \n1                  0.36  \n2                   NaN  \n3                   NaN  \n4                  0.43  \n5                   NaN  \n6                   NaN  \n7                  0.46  \n8                   NaN  \n9                   NaN  \n10                  NaN  \n11                  NaN  \n12                  NaN  \n13                  NaN  \n14                  NaN  \n15                  NaN  \n16                  NaN  \n17                  NaN  \n18                  NaN  \n19                  NaN  \n20                 0.40  \n21                 0.42  \n22                  NaN  \n23                  NaN  \n24                 0.42  \n25                  NaN  \n28                  NaN  \n29                  NaN  \n30                 0.45  \n31                  NaN  \n32                  NaN  \n33                  NaN  \n34                 0.43  \n35                  NaN  \n37                  NaN  \n38                  NaN  \n39                  NaN  ",
            "text/html": "<div>\n<style scoped>\n    .dataframe tbody tr th:only-of-type {\n        vertical-align: middle;\n    }\n\n    .dataframe tbody tr th {\n        vertical-align: top;\n    }\n\n    .dataframe thead th {\n        text-align: right;\n    }\n</style>\n<table border=\"1\" class=\"dataframe\">\n  <thead>\n    <tr style=\"text-align: right;\">\n      <th></th>\n      <th>CD_DEPE_UOR</th>\n      <th>CD_UOR</th>\n      <th>SG_UOR</th>\n      <th>NM_UOR_RDZ</th>\n      <th>CD_DEPE_VICE_PRSA</th>\n      <th>SG_VICE_PRSA</th>\n      <th>QT_TTL_FUN_UOR</th>\n      <th>IN_UOR_ALVO_ANL</th>\n      <th>IC_ATGT_IN_PRMO_SMT</th>\n      <th>IC_ATGT_IN_SGDO_SMT</th>\n    </tr>\n  </thead>\n  <tbody>\n    <tr>\n      <th>0</th>\n      <td>8550</td>\n      <td>5108</td>\n      <td>DIRCO</td>\n      <td>DIRCO-CONTROLADORIA</td>\n      <td>8063</td>\n      <td>VIFIN</td>\n      <td>129</td>\n      <td>N</td>\n      <td>NaN</td>\n      <td>NaN</td>\n    </tr>\n    <tr>\n      <th>1</th>\n      <td>8556</td>\n      <td>5114</td>\n      <td>DICRE</td>\n      <td>DICRE/RISCO CREDITO</td>\n      <td>9597</td>\n      <td>VICRI</td>\n      <td>173</td>\n      <td>S</td>\n      <td>0.87</td>\n      <td>0.36</td>\n    </tr>\n    <tr>\n      <th>2</th>\n      <td>8557</td>\n      <td>5115</td>\n      <td>DIFIN</td>\n      <td>DIFIN-FINANCAS</td>\n      <td>8063</td>\n      <td>VIFIN</td>\n      <td>154</td>\n      <td>N</td>\n      <td>NaN</td>\n      <td>NaN</td>\n    </tr>\n    <tr>\n      <th>3</th>\n      <td>8558</td>\n      <td>5116</td>\n      <td>DISEC</td>\n      <td>DISEC-SUP INFR PATR</td>\n      <td>8010</td>\n      <td>VICOR</td>\n      <td>198</td>\n      <td>N</td>\n      <td>NaN</td>\n      <td>NaN</td>\n    </tr>\n    <tr>\n      <th>4</th>\n      <td>8559</td>\n      <td>5117</td>\n      <td>DIPES</td>\n      <td>DIPES-CULT E PESSOAS</td>\n      <td>8010</td>\n      <td>VICOR</td>\n      <td>235</td>\n      <td>S</td>\n      <td>0.94</td>\n      <td>0.43</td>\n    </tr>\n    <tr>\n      <th>5</th>\n      <td>8590</td>\n      <td>5148</td>\n      <td>DICOR</td>\n      <td>DICOR-CORPORATE BANK</td>\n      <td>8069</td>\n      <td>VIPAT</td>\n      <td>72</td>\n      <td>N</td>\n      <td>NaN</td>\n      <td>NaN</td>\n    </tr>\n    <tr>\n      <th>6</th>\n      <td>8592</td>\n      <td>5150</td>\n      <td>DIVAR</td>\n      <td>DIVAR-COMERCIAL VAR</td>\n      <td>8166</td>\n      <td>VIVAR</td>\n      <td>72</td>\n      <td>N</td>\n      <td>NaN</td>\n      <td>NaN</td>\n    </tr>\n    <tr>\n      <th>7</th>\n      <td>8593</td>\n      <td>5151</td>\n      <td>DIGOV</td>\n      <td>DIGOV-GOVERNO</td>\n      <td>8468</td>\n      <td>VIGOV</td>\n      <td>83</td>\n      <td>S</td>\n      <td>0.90</td>\n      <td>0.46</td>\n    </tr>\n    <tr>\n      <th>8</th>\n      <td>8595</td>\n      <td>5153</td>\n      <td>UCR</td>\n      <td>UCR-COBRANCA E REEST</td>\n      <td>8010</td>\n      <td>VICOR</td>\n      <td>101</td>\n      <td>N</td>\n      <td>NaN</td>\n      <td>NaN</td>\n    </tr>\n    <tr>\n      <th>9</th>\n      <td>8596</td>\n      <td>5154</td>\n      <td>DIRAG</td>\n      <td>DIRAG-AGRONEGOCIOS</td>\n      <td>8042</td>\n      <td>VIPAG</td>\n      <td>156</td>\n      <td>N</td>\n      <td>NaN</td>\n      <td>NaN</td>\n    </tr>\n    <tr>\n      <th>10</th>\n      <td>8627</td>\n      <td>5185</td>\n      <td>URI</td>\n      <td>URI-REL.INVESTIDORES</td>\n      <td>8063</td>\n      <td>VIFIN</td>\n      <td>29</td>\n      <td>N</td>\n      <td>NaN</td>\n      <td>NaN</td>\n    </tr>\n    <tr>\n      <th>11</th>\n      <td>8948</td>\n      <td>5536</td>\n      <td>OUVID</td>\n      <td>OUVIDORIA</td>\n      <td>8010</td>\n      <td>VICOR</td>\n      <td>26</td>\n      <td>N</td>\n      <td>NaN</td>\n      <td>NaN</td>\n    </tr>\n    <tr>\n      <th>12</th>\n      <td>9568</td>\n      <td>6107</td>\n      <td>COGER</td>\n      <td>COGER-CONTADORIA</td>\n      <td>8063</td>\n      <td>VIFIN</td>\n      <td>196</td>\n      <td>N</td>\n      <td>NaN</td>\n      <td>NaN</td>\n    </tr>\n    <tr>\n      <th>13</th>\n      <td>9572</td>\n      <td>6109</td>\n      <td>DICOI</td>\n      <td>DICOI-CONTR.INTERNOS</td>\n      <td>9597</td>\n      <td>VICRI</td>\n      <td>54</td>\n      <td>N</td>\n      <td>NaN</td>\n      <td>NaN</td>\n    </tr>\n    <tr>\n      <th>14</th>\n      <td>9599</td>\n      <td>6135</td>\n      <td>DIRIS</td>\n      <td>DIRIS-GESTAO RISCOS</td>\n      <td>9597</td>\n      <td>VICRI</td>\n      <td>181</td>\n      <td>N</td>\n      <td>NaN</td>\n      <td>NaN</td>\n    </tr>\n    <tr>\n      <th>15</th>\n      <td>9600</td>\n      <td>6136</td>\n      <td>DIOPE</td>\n      <td>DIOPE-OPERACOES</td>\n      <td>8010</td>\n      <td>VICOR</td>\n      <td>292</td>\n      <td>N</td>\n      <td>NaN</td>\n      <td>NaN</td>\n    </tr>\n    <tr>\n      <th>16</th>\n      <td>9867</td>\n      <td>6390</td>\n      <td>CIB</td>\n      <td>CIB-CORP INVEST BANK</td>\n      <td>8069</td>\n      <td>VIPAT</td>\n      <td>81</td>\n      <td>N</td>\n      <td>NaN</td>\n      <td>NaN</td>\n    </tr>\n    <tr>\n      <th>17</th>\n      <td>9879</td>\n      <td>6399</td>\n      <td>MPE</td>\n      <td>CLIENTES-MPE</td>\n      <td>8166</td>\n      <td>VIVAR</td>\n      <td>64</td>\n      <td>N</td>\n      <td>NaN</td>\n      <td>NaN</td>\n    </tr>\n    <tr>\n      <th>18</th>\n      <td>9903</td>\n      <td>6411</td>\n      <td>DITEC</td>\n      <td>DITEC-TECNOLOGIA</td>\n      <td>8033</td>\n      <td>VINET</td>\n      <td>137</td>\n      <td>N</td>\n      <td>NaN</td>\n      <td>NaN</td>\n    </tr>\n    <tr>\n      <th>19</th>\n      <td>9882</td>\n      <td>7513</td>\n      <td>UPB</td>\n      <td>UPB-PRIVATE BANK</td>\n      <td>8069</td>\n      <td>VIPAT</td>\n      <td>75</td>\n      <td>N</td>\n      <td>NaN</td>\n      <td>NaN</td>\n    </tr>\n    <tr>\n      <th>20</th>\n      <td>9880</td>\n      <td>7670</td>\n      <td>DIMEP</td>\n      <td>DIMEP-MEIOS PAGAMEN.</td>\n      <td>8063</td>\n      <td>VIFIN</td>\n      <td>174</td>\n      <td>S</td>\n      <td>0.94</td>\n      <td>0.40</td>\n    </tr>\n    <tr>\n      <th>21</th>\n      <td>9973</td>\n      <td>7671</td>\n      <td>DIEMP</td>\n      <td>DIEMP-EMPREST.FINANC</td>\n      <td>8042</td>\n      <td>VIPAG</td>\n      <td>197</td>\n      <td>S</td>\n      <td>0.89</td>\n      <td>0.42</td>\n    </tr>\n    <tr>\n      <th>22</th>\n      <td>9974</td>\n      <td>7672</td>\n      <td>DISEG</td>\n      <td>DIPRO-SEGURIDADE</td>\n      <td>8033</td>\n      <td>VINET</td>\n      <td>76</td>\n      <td>N</td>\n      <td>NaN</td>\n      <td>NaN</td>\n    </tr>\n    <tr>\n      <th>23</th>\n      <td>9548</td>\n      <td>8465</td>\n      <td>USD</td>\n      <td>USD-SEG DIGITAL INF.</td>\n      <td>8033</td>\n      <td>VINET</td>\n      <td>240</td>\n      <td>N</td>\n      <td>NaN</td>\n      <td>NaN</td>\n    </tr>\n    <tr>\n      <th>24</th>\n      <td>8008</td>\n      <td>9598</td>\n      <td>DIREC</td>\n      <td>DIREC-CLI. VAR. PF</td>\n      <td>8166</td>\n      <td>VIVAR</td>\n      <td>110</td>\n      <td>S</td>\n      <td>0.90</td>\n      <td>0.42</td>\n    </tr>\n    <tr>\n      <th>25</th>\n      <td>9510</td>\n      <td>36570</td>\n      <td>UGE</td>\n      <td>UPE-PART.PARC.ESTRAT</td>\n      <td>8063</td>\n      <td>VIFIN</td>\n      <td>95</td>\n      <td>N</td>\n      <td>NaN</td>\n      <td>NaN</td>\n    </tr>\n    <tr>\n      <th>28</th>\n      <td>8896</td>\n      <td>38668</td>\n      <td>USI</td>\n      <td>USI-SEGUR. INST.</td>\n      <td>9597</td>\n      <td>VICRI</td>\n      <td>194</td>\n      <td>N</td>\n      <td>NaN</td>\n      <td>NaN</td>\n    </tr>\n    <tr>\n      <th>29</th>\n      <td>9897</td>\n      <td>38852</td>\n      <td>DINED</td>\n      <td>DINED-NEG. DIGITAIS</td>\n      <td>8033</td>\n      <td>VINET</td>\n      <td>96</td>\n      <td>N</td>\n      <td>NaN</td>\n      <td>NaN</td>\n    </tr>\n    <tr>\n      <th>30</th>\n      <td>9797</td>\n      <td>39660</td>\n      <td>UCI</td>\n      <td>UCI-CAPTACAO INVEST.</td>\n      <td>8069</td>\n      <td>VIPAT</td>\n      <td>64</td>\n      <td>S</td>\n      <td>0.92</td>\n      <td>0.45</td>\n    </tr>\n    <tr>\n      <th>31</th>\n      <td>9958</td>\n      <td>39763</td>\n      <td>UNI</td>\n      <td>UNI-NEG. INTERNAC.</td>\n      <td>8069</td>\n      <td>VIPAT</td>\n      <td>66</td>\n      <td>N</td>\n      <td>NaN</td>\n      <td>NaN</td>\n    </tr>\n    <tr>\n      <th>32</th>\n      <td>9220</td>\n      <td>40003</td>\n      <td>DIRAV</td>\n      <td>DIRAV-ALTO VAREJO</td>\n      <td>8166</td>\n      <td>VIVAR</td>\n      <td>56</td>\n      <td>N</td>\n      <td>NaN</td>\n      <td>NaN</td>\n    </tr>\n    <tr>\n      <th>33</th>\n      <td>9010</td>\n      <td>40004</td>\n      <td>UAC</td>\n      <td>UAC-AT CAN FIS E DIG</td>\n      <td>8166</td>\n      <td>VIVAR</td>\n      <td>149</td>\n      <td>N</td>\n      <td>NaN</td>\n      <td>NaN</td>\n    </tr>\n    <tr>\n      <th>34</th>\n      <td>9968</td>\n      <td>40066</td>\n      <td>UAN</td>\n      <td>UAN-IA. ANALITICA</td>\n      <td>8033</td>\n      <td>VINET</td>\n      <td>205</td>\n      <td>S</td>\n      <td>0.90</td>\n      <td>0.43</td>\n    </tr>\n    <tr>\n      <th>35</th>\n      <td>9720</td>\n      <td>43773</td>\n      <td>ASG</td>\n      <td>ASG</td>\n      <td>8468</td>\n      <td>VIGOV</td>\n      <td>70</td>\n      <td>N</td>\n      <td>NaN</td>\n      <td>NaN</td>\n    </tr>\n    <tr>\n      <th>37</th>\n      <td>9240</td>\n      <td>43834</td>\n      <td>UEG</td>\n      <td>UEG-ESTR. GOVERNO</td>\n      <td>8468</td>\n      <td>VIGOV</td>\n      <td>133</td>\n      <td>N</td>\n      <td>NaN</td>\n      <td>NaN</td>\n    </tr>\n    <tr>\n      <th>38</th>\n      <td>9045</td>\n      <td>44167</td>\n      <td>CRM</td>\n      <td>CRM-INDUCAO DIGITAL</td>\n      <td>8166</td>\n      <td>VIVAR</td>\n      <td>43</td>\n      <td>N</td>\n      <td>NaN</td>\n      <td>NaN</td>\n    </tr>\n    <tr>\n      <th>39</th>\n      <td>9078</td>\n      <td>44168</td>\n      <td>INOVA</td>\n      <td>PROG. INOVA VAREJO</td>\n      <td>8166</td>\n      <td>VIVAR</td>\n      <td>58</td>\n      <td>N</td>\n      <td>NaN</td>\n      <td>NaN</td>\n    </tr>\n  </tbody>\n</table>\n</div>"
          },
          "metadata": {}
        }
      ],
      "execution_count": 331
    },
    {
      "id": "9dc7a0a1-3b10-4919-8ecb-836857749100",
      "cell_type": "code",
      "source": "exercicio10a = sorted([8559, 8593, 9880, 8008, 9797, 9968])\nexercicio10a",
      "metadata": {
        "trusted": true
      },
      "outputs": [
        {
          "execution_count": 332,
          "output_type": "execute_result",
          "data": {
            "text/plain": "[8008, 8559, 8593, 9797, 9880, 9968]"
          },
          "metadata": {}
        }
      ],
      "execution_count": 332
    },
    {
      "id": "b54559b5-4462-4dee-9009-2876c583a7c3",
      "cell_type": "code",
      "source": "exercicio10b = 8556",
      "metadata": {
        "trusted": true
      },
      "outputs": [],
      "execution_count": 333
    },
    {
      "id": "3a107c3b-cf25-4e17-89e3-d93ff9dd11f4",
      "cell_type": "code",
      "source": "exercicio10c = 9880",
      "metadata": {
        "trusted": true
      },
      "outputs": [],
      "execution_count": 334
    },
    {
      "id": "c80bb9dd-212d-43b2-b71e-10c67e2cf7ae",
      "cell_type": "code",
      "source": "exercicio10d = 8008",
      "metadata": {
        "trusted": true
      },
      "outputs": [],
      "execution_count": 335
    },
    {
      "id": "dd54953a-3168-4c83-a916-96ec1f426cb4",
      "cell_type": "code",
      "source": "exercicio10e = round(4 / 174, 2)\nexercicio10e",
      "metadata": {
        "trusted": true
      },
      "outputs": [
        {
          "execution_count": 336,
          "output_type": "execute_result",
          "data": {
            "text/plain": "0.02"
          },
          "metadata": {}
        }
      ],
      "execution_count": 336
    },
    {
      "id": "c4755e98-adca-453c-b18a-009ea735f02a",
      "cell_type": "markdown",
      "source": "# Boletim de soluções",
      "metadata": {}
    },
    {
      "id": "c440f300-e97f-413c-82e0-c27fd9d378cd",
      "cell_type": "code",
      "source": "# importar bibliotecas para geração dos artefatos\nimport pickle",
      "metadata": {
        "trusted": true
      },
      "outputs": [],
      "execution_count": 337
    },
    {
      "id": "07852ba0-8f84-45a2-b8c0-9b846374fed3",
      "cell_type": "code",
      "source": "# Favor não alterar esta célula\n# verificar a existência das variáveis e gerar artefatos para verificação\nif 'exercicio1' in globals():\n    print('DataFrame exercicio1 localizado. Ele poderá ser enviado para validação.')\n    with open(f'{chaveF}_exercicio1.pkl','wb') as f:\n        pickle.dump(exercicio1, f)\nelse:\n    print('O exercício 1 não tem condições de ser avaliado.')\n\nif 'exercicio2' in globals():\n    print('DataFrame exercicio2 localizado. Ele poderá ser enviado para validação.')\n    with open(f'{chaveF}_exercicio2.pkl','wb') as f:\n        pickle.dump(exercicio2, f)\nelse:\n    print('O exercício 2 não tem condições de ser avaliado.')\n    \nif 'exercicio3' in globals():\n    print('DataFrame exercicio3 localizado. Ele poderá ser enviado para validação.')\n    with open(f'{chaveF}_exercicio3.pkl','wb') as f:\n        pickle.dump(exercicio3, f)\nelse:\n    print('O exercício 3 não tem condições de ser avaliado.')\n\nif 'exercicio4' in globals():\n    print('DataFrame exercicio4 localizado. Ele poderá ser enviado para validação.')\n    with open(f'{chaveF}_exercicio4.pkl','wb') as f:\n        pickle.dump(exercicio4, f)\nelse:\n    print('O exercício 4 não tem condições de ser avaliado.')\n\nif 'exercicio5' in globals():\n    print('DataFrame exercicio5 localizado. Ele poderá ser enviado para validação.')\n    with open(f'{chaveF}_exercicio5.pkl','wb') as f:\n        pickle.dump(exercicio5, f)\nelse:\n    print('O exercício 5 não tem condições de ser avaliado.')\n    \nif 'exercicio6' in globals():\n    print('DataFrame exercicio6 localizado. Ele poderá ser enviado para validação.')\n    with open(f'{chaveF}_exercicio6.pkl','wb') as f:\n        pickle.dump(exercicio6, f)\nelse:\n    print('O exercício 6 não tem condições de ser avaliado.')\n\nif 'exercicio7' in globals():\n    print('DataFrame exercicio7 localizado. Ele poderá ser enviado para validação.')\n    with open(f'{chaveF}_exercicio7.pkl','wb') as f:\n        pickle.dump(exercicio7, f)\nelse:\n    print('O exercício 7 não tem condições de ser avaliado.')\n\nif 'exercicio8' in globals():\n    print('DataFrame exercicio8 localizado. Ele poderá ser enviado para validação.')\n    with open(f'{chaveF}_exercicio8.pkl','wb') as f:\n        pickle.dump(exercicio8, f)\nelse:\n    print('O exercício 8 não tem condições de ser avaliado.')\n\nif 'exercicio9' in globals():\n    print('DataFrame exercicio9 localizado. Ele poderá ser enviado para validação.')\n    with open(f'{chaveF}_exercicio9.pkl','wb') as f:\n        pickle.dump(exercicio9, f)\nelse:\n    print('O exercício 9 não tem condições de ser avaliado.')\n\n\nexercicio10_variaveis = {}\n\nexercicio10_variaveis['variavel'] = []\nexercicio10_variaveis['valor'] = []\nif 'exercicio10a' in globals():\n    exercicio10_variaveis['variavel'].append('exercicio10a')\n    exercicio10_variaveis['valor'].append(exercicio10a)\nif 'exercicio10b' in globals():\n    exercicio10_variaveis['variavel'].append('exercicio10b')\n    exercicio10_variaveis['valor'].append(exercicio10b)\nif 'exercicio10b' in globals():\n    exercicio10_variaveis['variavel'].append('exercicio10c')\n    exercicio10_variaveis['valor'].append(exercicio10c)\nif 'exercicio10d' in globals():\n    exercicio10_variaveis['variavel'].append('exercicio10d')\n    exercicio10_variaveis['valor'].append(exercicio10d)\nif 'exercicio10e' in globals():\n    exercicio10_variaveis['variavel'].append('exercicio10e')\n    exercicio10_variaveis['valor'].append(exercicio10e)\n\nexercicio10_variaveis = pd.DataFrame(exercicio10_variaveis)\nif exercicio10_variaveis.shape[0] == 5 and 'exercicio10' in globals():\n    print('DataFrame exercicio10 localizado. Ele poderá ser enviado para validação.')\n    print('Variáveis exercicio10a, exercicio10b, exercicio10c, exercicio10d e exercicio10e localizadas. Elas poderão ser enviadas para validação.')\n    with open(f'{chaveF}_exercicio10_variaveis.pkl','wb') as f:\n        pickle.dump(exercicio10_variaveis, f)\n    with open(f'{chaveF}_exercicio10.pkl','wb') as f:\n        pickle.dump(exercicio10, f)\n\nelse:\n    print('O exercício 10 não tem condições de ser avaliado.')",
      "metadata": {
        "trusted": true
      },
      "outputs": [
        {
          "name": "stdout",
          "text": "DataFrame exercicio1 localizado. Ele poderá ser enviado para validação.\nDataFrame exercicio2 localizado. Ele poderá ser enviado para validação.\nDataFrame exercicio3 localizado. Ele poderá ser enviado para validação.\nDataFrame exercicio4 localizado. Ele poderá ser enviado para validação.\nDataFrame exercicio5 localizado. Ele poderá ser enviado para validação.\nDataFrame exercicio6 localizado. Ele poderá ser enviado para validação.\nDataFrame exercicio7 localizado. Ele poderá ser enviado para validação.\nDataFrame exercicio8 localizado. Ele poderá ser enviado para validação.\nDataFrame exercicio9 localizado. Ele poderá ser enviado para validação.\nDataFrame exercicio10 localizado. Ele poderá ser enviado para validação.\nVariáveis exercicio10a, exercicio10b, exercicio10c, exercicio10d e exercicio10e localizadas. Elas poderão ser enviadas para validação.\n",
          "output_type": "stream"
        }
      ],
      "execution_count": 338
    },
    {
      "id": "89e643b2-dac1-45a1-8dac-00709cd7a4b9",
      "cell_type": "code",
      "source": "",
      "metadata": {
        "trusted": true
      },
      "outputs": [],
      "execution_count": null
    }
  ]
}